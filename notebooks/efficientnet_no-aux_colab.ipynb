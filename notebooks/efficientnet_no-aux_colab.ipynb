{
  "cells": [
    {
      "cell_type": "markdown",
      "metadata": {
        "id": "DGHbK_mttAdl"
      },
      "source": [
        "# Install and Import Packages"
      ]
    },
    {
      "cell_type": "code",
      "execution_count": 1,
      "metadata": {
        "colab": {
          "base_uri": "https://localhost:8080/"
        },
        "id": "uGJ5aGAeCQg5",
        "outputId": "31468a4e-caea-446f-a017-1bd6fb637eaa"
      },
      "outputs": [
        {
          "name": "stdout",
          "output_type": "stream",
          "text": [
            "Collecting shapely==1.7.1\n",
            "  Downloading Shapely-1.7.1.tar.gz (383 kB)\n",
            "\u001b[2K     \u001b[90m━━━━━━━━━━━━━━━━━━━━━━━━━━━━━━━━━━━━━━━━\u001b[0m \u001b[32m383.2/383.2 kB\u001b[0m \u001b[31m5.9 MB/s\u001b[0m eta \u001b[36m0:00:00\u001b[0m\n",
            "\u001b[?25h  Preparing metadata (setup.py) ... \u001b[?25l\u001b[?25hdone\n",
            "Building wheels for collected packages: shapely\n",
            "  Building wheel for shapely (setup.py) ... \u001b[?25l\u001b[?25hdone\n",
            "  Created wheel for shapely: filename=Shapely-1.7.1-cp310-cp310-linux_x86_64.whl size=602599 sha256=60ac55cb2bfd2f76b2dd59247a9780b2d8d44232f0a40757a13fbd3420eebc9a\n",
            "  Stored in directory: /root/.cache/pip/wheels/2e/fa/97/c85f587c35afcaf4a81c481741d36592518d1e50445572f0d4\n",
            "Successfully built shapely\n",
            "Installing collected packages: shapely\n",
            "Successfully installed shapely-1.7.1\n",
            "Collecting rasterio\n",
            "  Downloading rasterio-1.4.1-cp310-cp310-manylinux_2_17_x86_64.manylinux2014_x86_64.whl.metadata (9.1 kB)\n",
            "Collecting affine (from rasterio)\n",
            "  Downloading affine-2.4.0-py3-none-any.whl.metadata (4.0 kB)\n",
            "Requirement already satisfied: attrs in /usr/local/lib/python3.10/dist-packages (from rasterio) (24.2.0)\n",
            "Requirement already satisfied: certifi in /usr/local/lib/python3.10/dist-packages (from rasterio) (2024.8.30)\n",
            "Requirement already satisfied: click>=4.0 in /usr/local/lib/python3.10/dist-packages (from rasterio) (8.1.7)\n",
            "Collecting cligj>=0.5 (from rasterio)\n",
            "  Downloading cligj-0.7.2-py3-none-any.whl.metadata (5.0 kB)\n",
            "Requirement already satisfied: numpy>=1.24 in /usr/local/lib/python3.10/dist-packages (from rasterio) (1.26.4)\n",
            "Collecting click-plugins (from rasterio)\n",
            "  Downloading click_plugins-1.1.1-py2.py3-none-any.whl.metadata (6.4 kB)\n",
            "Requirement already satisfied: pyparsing in /usr/local/lib/python3.10/dist-packages (from rasterio) (3.2.0)\n",
            "Downloading rasterio-1.4.1-cp310-cp310-manylinux_2_17_x86_64.manylinux2014_x86_64.whl (22.2 MB)\n",
            "\u001b[2K   \u001b[90m━━━━━━━━━━━━━━━━━━━━━━━━━━━━━━━━━━━━━━━━\u001b[0m \u001b[32m22.2/22.2 MB\u001b[0m \u001b[31m83.4 MB/s\u001b[0m eta \u001b[36m0:00:00\u001b[0m\n",
            "\u001b[?25hDownloading cligj-0.7.2-py3-none-any.whl (7.1 kB)\n",
            "Downloading affine-2.4.0-py3-none-any.whl (15 kB)\n",
            "Downloading click_plugins-1.1.1-py2.py3-none-any.whl (7.5 kB)\n",
            "Installing collected packages: cligj, click-plugins, affine, rasterio\n",
            "Successfully installed affine-2.4.0 click-plugins-1.1.1 cligj-0.7.2 rasterio-1.4.1\n",
            "Collecting albumentations\n",
            "  Downloading albumentations-1.4.18-py3-none-any.whl.metadata (32 kB)\n",
            "Requirement already satisfied: numpy>=1.24.4 in /usr/local/lib/python3.10/dist-packages (from albumentations) (1.26.4)\n",
            "Requirement already satisfied: scipy>=1.10.0 in /usr/local/lib/python3.10/dist-packages (from albumentations) (1.13.1)\n",
            "Requirement already satisfied: scikit-image>=0.21.0 in /usr/local/lib/python3.10/dist-packages (from albumentations) (0.24.0)\n",
            "Requirement already satisfied: PyYAML in /usr/local/lib/python3.10/dist-packages (from albumentations) (6.0.2)\n",
            "Requirement already satisfied: pydantic>=2.7.0 in /usr/local/lib/python3.10/dist-packages (from albumentations) (2.9.2)\n",
            "Collecting albucore==0.0.17 (from albumentations)\n",
            "  Downloading albucore-0.0.17-py3-none-any.whl.metadata (3.1 kB)\n",
            "Collecting eval-type-backport (from albumentations)\n",
            "  Downloading eval_type_backport-0.2.0-py3-none-any.whl.metadata (2.2 kB)\n",
            "Collecting opencv-python-headless>=4.9.0.80 (from albumentations)\n",
            "  Downloading opencv_python_headless-4.10.0.84-cp37-abi3-manylinux_2_17_x86_64.manylinux2014_x86_64.whl.metadata (20 kB)\n",
            "Requirement already satisfied: annotated-types>=0.6.0 in /usr/local/lib/python3.10/dist-packages (from pydantic>=2.7.0->albumentations) (0.7.0)\n",
            "Requirement already satisfied: pydantic-core==2.23.4 in /usr/local/lib/python3.10/dist-packages (from pydantic>=2.7.0->albumentations) (2.23.4)\n",
            "Requirement already satisfied: typing-extensions>=4.6.1 in /usr/local/lib/python3.10/dist-packages (from pydantic>=2.7.0->albumentations) (4.12.2)\n",
            "Requirement already satisfied: networkx>=2.8 in /usr/local/lib/python3.10/dist-packages (from scikit-image>=0.21.0->albumentations) (3.4.1)\n",
            "Requirement already satisfied: pillow>=9.1 in /usr/local/lib/python3.10/dist-packages (from scikit-image>=0.21.0->albumentations) (11.0.0)\n",
            "Requirement already satisfied: imageio>=2.33 in /usr/local/lib/python3.10/dist-packages (from scikit-image>=0.21.0->albumentations) (2.36.0)\n",
            "Requirement already satisfied: tifffile>=2022.8.12 in /usr/local/lib/python3.10/dist-packages (from scikit-image>=0.21.0->albumentations) (2024.9.20)\n",
            "Requirement already satisfied: packaging>=21 in /usr/local/lib/python3.10/dist-packages (from scikit-image>=0.21.0->albumentations) (24.1)\n",
            "Requirement already satisfied: lazy-loader>=0.4 in /usr/local/lib/python3.10/dist-packages (from scikit-image>=0.21.0->albumentations) (0.4)\n",
            "Downloading albumentations-1.4.18-py3-none-any.whl (224 kB)\n",
            "\u001b[2K   \u001b[90m━━━━━━━━━━━━━━━━━━━━━━━━━━━━━━━━━━━━━━━━\u001b[0m \u001b[32m224.0/224.0 kB\u001b[0m \u001b[31m7.4 MB/s\u001b[0m eta \u001b[36m0:00:00\u001b[0m\n",
            "\u001b[?25hDownloading albucore-0.0.17-py3-none-any.whl (10 kB)\n",
            "Downloading opencv_python_headless-4.10.0.84-cp37-abi3-manylinux_2_17_x86_64.manylinux2014_x86_64.whl (49.9 MB)\n",
            "\u001b[2K   \u001b[90m━━━━━━━━━━━━━━━━━━━━━━━━━━━━━━━━━━━━━━━━\u001b[0m \u001b[32m49.9/49.9 MB\u001b[0m \u001b[31m25.8 MB/s\u001b[0m eta \u001b[36m0:00:00\u001b[0m\n",
            "\u001b[?25hDownloading eval_type_backport-0.2.0-py3-none-any.whl (5.9 kB)\n",
            "Installing collected packages: opencv-python-headless, eval-type-backport, albucore, albumentations\n",
            "Successfully installed albucore-0.0.17 albumentations-1.4.18 eval-type-backport-0.2.0 opencv-python-headless-4.10.0.84\n",
            "Collecting pytorch_metric_learning\n",
            "  Downloading pytorch_metric_learning-2.6.0-py3-none-any.whl.metadata (17 kB)\n",
            "Requirement already satisfied: numpy<2.0 in /usr/local/lib/python3.10/dist-packages (from pytorch_metric_learning) (1.26.4)\n",
            "Requirement already satisfied: scikit-learn in /usr/local/lib/python3.10/dist-packages (from pytorch_metric_learning) (1.5.2)\n",
            "Requirement already satisfied: torch>=1.6.0 in /usr/local/lib/python3.10/dist-packages (from pytorch_metric_learning) (2.4.0+cpu)\n",
            "Requirement already satisfied: tqdm in /usr/local/lib/python3.10/dist-packages (from pytorch_metric_learning) (4.66.5)\n",
            "Requirement already satisfied: filelock in /usr/local/lib/python3.10/dist-packages (from torch>=1.6.0->pytorch_metric_learning) (3.16.1)\n",
            "Requirement already satisfied: typing-extensions>=4.8.0 in /usr/local/lib/python3.10/dist-packages (from torch>=1.6.0->pytorch_metric_learning) (4.12.2)\n",
            "Requirement already satisfied: sympy in /usr/local/lib/python3.10/dist-packages (from torch>=1.6.0->pytorch_metric_learning) (1.13.3)\n",
            "Requirement already satisfied: networkx in /usr/local/lib/python3.10/dist-packages (from torch>=1.6.0->pytorch_metric_learning) (3.4.1)\n",
            "Requirement already satisfied: jinja2 in /usr/local/lib/python3.10/dist-packages (from torch>=1.6.0->pytorch_metric_learning) (3.1.4)\n",
            "Requirement already satisfied: fsspec in /usr/local/lib/python3.10/dist-packages (from torch>=1.6.0->pytorch_metric_learning) (2024.9.0)\n",
            "Requirement already satisfied: scipy>=1.6.0 in /usr/local/lib/python3.10/dist-packages (from scikit-learn->pytorch_metric_learning) (1.13.1)\n",
            "Requirement already satisfied: joblib>=1.2.0 in /usr/local/lib/python3.10/dist-packages (from scikit-learn->pytorch_metric_learning) (1.4.2)\n",
            "Requirement already satisfied: threadpoolctl>=3.1.0 in /usr/local/lib/python3.10/dist-packages (from scikit-learn->pytorch_metric_learning) (3.5.0)\n",
            "Requirement already satisfied: MarkupSafe>=2.0 in /usr/local/lib/python3.10/dist-packages (from jinja2->torch>=1.6.0->pytorch_metric_learning) (3.0.1)\n",
            "Requirement already satisfied: mpmath<1.4,>=1.1.0 in /usr/local/lib/python3.10/dist-packages (from sympy->torch>=1.6.0->pytorch_metric_learning) (1.3.0)\n",
            "Downloading pytorch_metric_learning-2.6.0-py3-none-any.whl (119 kB)\n",
            "\u001b[2K   \u001b[90m━━━━━━━━━━━━━━━━━━━━━━━━━━━━━━━━━━━━━━━━\u001b[0m \u001b[32m119.3/119.3 kB\u001b[0m \u001b[31m3.4 MB/s\u001b[0m eta \u001b[36m0:00:00\u001b[0m\n",
            "\u001b[?25hInstalling collected packages: pytorch_metric_learning\n",
            "Successfully installed pytorch_metric_learning-2.6.0\n",
            "Collecting timm\n",
            "  Downloading timm-1.0.11-py3-none-any.whl.metadata (48 kB)\n",
            "\u001b[2K     \u001b[90m━━━━━━━━━━━━━━━━━━━━━━━━━━━━━━━━━━━━━━━━\u001b[0m \u001b[32m48.4/48.4 kB\u001b[0m \u001b[31m1.7 MB/s\u001b[0m eta \u001b[36m0:00:00\u001b[0m\n",
            "\u001b[?25hRequirement already satisfied: torch in /usr/local/lib/python3.10/dist-packages (from timm) (2.4.0+cpu)\n",
            "Requirement already satisfied: torchvision in /usr/local/lib/python3.10/dist-packages (from timm) (0.19.0+cpu)\n",
            "Requirement already satisfied: pyyaml in /usr/local/lib/python3.10/dist-packages (from timm) (6.0.2)\n",
            "Requirement already satisfied: huggingface_hub in /usr/local/lib/python3.10/dist-packages (from timm) (0.24.7)\n",
            "Requirement already satisfied: safetensors in /usr/local/lib/python3.10/dist-packages (from timm) (0.4.5)\n",
            "Requirement already satisfied: filelock in /usr/local/lib/python3.10/dist-packages (from huggingface_hub->timm) (3.16.1)\n",
            "Requirement already satisfied: fsspec>=2023.5.0 in /usr/local/lib/python3.10/dist-packages (from huggingface_hub->timm) (2024.9.0)\n",
            "Requirement already satisfied: packaging>=20.9 in /usr/local/lib/python3.10/dist-packages (from huggingface_hub->timm) (24.1)\n",
            "Requirement already satisfied: requests in /usr/local/lib/python3.10/dist-packages (from huggingface_hub->timm) (2.32.3)\n",
            "Requirement already satisfied: tqdm>=4.42.1 in /usr/local/lib/python3.10/dist-packages (from huggingface_hub->timm) (4.66.5)\n",
            "Requirement already satisfied: typing-extensions>=3.7.4.3 in /usr/local/lib/python3.10/dist-packages (from huggingface_hub->timm) (4.12.2)\n",
            "Requirement already satisfied: sympy in /usr/local/lib/python3.10/dist-packages (from torch->timm) (1.13.3)\n",
            "Requirement already satisfied: networkx in /usr/local/lib/python3.10/dist-packages (from torch->timm) (3.4.1)\n",
            "Requirement already satisfied: jinja2 in /usr/local/lib/python3.10/dist-packages (from torch->timm) (3.1.4)\n",
            "Requirement already satisfied: numpy in /usr/local/lib/python3.10/dist-packages (from torchvision->timm) (1.26.4)\n",
            "Requirement already satisfied: pillow!=8.3.*,>=5.3.0 in /usr/local/lib/python3.10/dist-packages (from torchvision->timm) (11.0.0)\n",
            "Requirement already satisfied: MarkupSafe>=2.0 in /usr/local/lib/python3.10/dist-packages (from jinja2->torch->timm) (3.0.1)\n",
            "Requirement already satisfied: charset-normalizer<4,>=2 in /usr/local/lib/python3.10/dist-packages (from requests->huggingface_hub->timm) (3.4.0)\n",
            "Requirement already satisfied: idna<4,>=2.5 in /usr/local/lib/python3.10/dist-packages (from requests->huggingface_hub->timm) (3.10)\n",
            "Requirement already satisfied: urllib3<3,>=1.21.1 in /usr/local/lib/python3.10/dist-packages (from requests->huggingface_hub->timm) (2.2.3)\n",
            "Requirement already satisfied: certifi>=2017.4.17 in /usr/local/lib/python3.10/dist-packages (from requests->huggingface_hub->timm) (2024.8.30)\n",
            "Requirement already satisfied: mpmath<1.4,>=1.1.0 in /usr/local/lib/python3.10/dist-packages (from sympy->torch->timm) (1.3.0)\n",
            "Downloading timm-1.0.11-py3-none-any.whl (2.3 MB)\n",
            "\u001b[2K   \u001b[90m━━━━━━━━━━━━━━━━━━━━━━━━━━━━━━━━━━━━━━━━\u001b[0m \u001b[32m2.3/2.3 MB\u001b[0m \u001b[31m30.4 MB/s\u001b[0m eta \u001b[36m0:00:00\u001b[0m\n",
            "\u001b[?25hInstalling collected packages: timm\n",
            "Successfully installed timm-1.0.11\n",
            "Requirement already satisfied: imageio in /usr/local/lib/python3.10/dist-packages (2.36.0)\n",
            "Requirement already satisfied: numpy in /usr/local/lib/python3.10/dist-packages (from imageio) (1.26.4)\n",
            "Requirement already satisfied: pillow>=8.3.2 in /usr/local/lib/python3.10/dist-packages (from imageio) (11.0.0)\n"
          ]
        }
      ],
      "source": [
        "!pip3 install shapely==1.7.1\n",
        "!pip install rasterio\n",
        "!pip install albumentations\n",
        "!pip install pytorch_metric_learning\n",
        "!pip install timm\n",
        "!pip install imageio\n"
      ]
    },
    {
      "cell_type": "code",
      "execution_count": 2,
      "metadata": {
        "id": "1YumC3oFtxVg"
      },
      "outputs": [],
      "source": [
        "import warnings\n",
        "warnings.filterwarnings('ignore')"
      ]
    },
    {
      "cell_type": "markdown",
      "metadata": {
        "id": "JJfY-vb_s81b"
      },
      "source": [
        "### TODO: remove unused imports after finalizing notebook"
      ]
    },
    {
      "cell_type": "code",
      "execution_count": 3,
      "metadata": {
        "id": "KTjDLJvTTGYF"
      },
      "outputs": [],
      "source": [
        "# from model.resnet import *\n",
        "# from model.effnet import *\n",
        "# from model.unet import *\n",
        "# from utils.metrics import *\n",
        "# from utils.losses import *\n",
        "\n",
        "import os\n",
        "import pandas as pd\n",
        "import warnings\n",
        "import numpy as np\n",
        "from skimage import io, transform\n",
        "from rasterio.features import rasterize\n",
        "from shapely.ops import cascaded_union, unary_union\n",
        "from shapely.geometry import Polygon\n",
        "# from shapely.errors import ShapelyDeprecationWarning\n",
        "from torch.utils.data import Dataset\n",
        "import pickle\n",
        "import albumentations as A\n",
        "\n",
        "import torch\n",
        "import torch.nn as nn\n",
        "import torch.nn.functional as F\n",
        "from torch.utils.data import DataLoader\n",
        "from torchvision import transforms, utils, datasets, models\n",
        "from torch.autograd import Variable\n",
        "import torch.optim as optim\n",
        "from torch.optim import lr_scheduler\n",
        "from pytorch_metric_learning import losses\n",
        "import copy\n",
        "\n",
        "from collections import OrderedDict, defaultdict\n",
        "import matplotlib.pyplot as plt\n",
        "from matplotlib.ticker import MaxNLocator\n",
        "import timm\n",
        "from torch.cuda import amp\n",
        "from tqdm import tqdm\n",
        "import torch.optim as optim\n",
        "from time import time\n",
        "\n",
        "warnings.filterwarnings(\"ignore\")"
      ]
    },
    {
      "cell_type": "markdown",
      "metadata": {
        "id": "ZBVZyGsYr0ro"
      },
      "source": [
        "# Mounting dataset from GDrive"
      ]
    },
    {
      "cell_type": "code",
      "execution_count": 4,
      "metadata": {
        "id": "jzO5WxAnrthA"
      },
      "outputs": [],
      "source": [
        "# from google.colab import drive\n",
        "# drive.mount('/content/drive')\n",
        "\n",
        "# dataset_path = '/content/drive/My Drive/input/forestnet'"
      ]
    },
    {
      "cell_type": "markdown",
      "metadata": {
        "id": "gHIFuyS3qRmh"
      },
      "source": [
        "### Extracting dataset zip file into colab's storage\n",
        " - This will be beneficial during training because loading each image from gdrive was too slow"
      ]
    },
    {
      "cell_type": "code",
      "execution_count": 6,
      "metadata": {
        "colab": {
          "base_uri": "https://localhost:8080/"
        },
        "id": "cES5qXEkapK0",
        "outputId": "8c760133-1d20-4f54-e0b1-0920e87b38bf"
      },
      "outputs": [
        {
          "name": "stdout",
          "output_type": "stream",
          "text": [
            "Mounted at /content/drive\n",
            "Contents extracted to /input\n"
          ]
        }
      ],
      "source": [
        "from google.colab import drive\n",
        "drive.mount('/content/drive')\n",
        "\n",
        "zip_file_path = '/content/drive/My Drive/ForestNetDataset.zip'  # Change this to your actual file path\n",
        "\n",
        "import zipfile\n",
        "import os\n",
        "\n",
        "# Create a directory to extract the contents\n",
        "extracted_folder = '/input'  # Change this if you want a different name\n",
        "os.makedirs(extracted_folder, exist_ok=True)\n",
        "\n",
        "# Extract the ZIP file\n",
        "with zipfile.ZipFile(zip_file_path, 'r') as zip_ref:\n",
        "    zip_ref.extractall(extracted_folder)\n",
        "\n",
        "print(f'Contents extracted to {extracted_folder}')\n"
      ]
    },
    {
      "cell_type": "markdown",
      "metadata": {
        "id": "ynOfsCXrr3GF"
      },
      "source": [
        "# Importing packages"
      ]
    },
    {
      "cell_type": "code",
      "execution_count": 104,
      "metadata": {
        "id": "6tXx054_r4hJ"
      },
      "outputs": [],
      "source": [
        "import numpy as np\n",
        "import pandas as pd\n",
        "import matplotlib.pyplot as plt\n",
        "import pickle\n",
        "import skimage.draw as sk\n",
        "import torch\n",
        "from fastai.vision.all import *\n",
        "from fastai.imports import *"
      ]
    },
    {
      "cell_type": "markdown",
      "metadata": {
        "id": "--HTUa_yoq7d"
      },
      "source": [
        "# Examining Dataset"
      ]
    },
    {
      "cell_type": "markdown",
      "metadata": {
        "id": "FxJdNPZSqpUE"
      },
      "source": [
        "### Ensure data is formatted properly"
      ]
    },
    {
      "cell_type": "code",
      "execution_count": 105,
      "metadata": {
        "colab": {
          "base_uri": "https://localhost:8080/",
          "height": 206
        },
        "id": "lBSlSfJ5UFIo",
        "outputId": "8d9c9e96-26dd-4557-8f05-48d5bef7cc12"
      },
      "outputs": [
        {
          "data": {
            "application/vnd.google.colaboratory.intrinsic+json": {
              "summary": "{\n  \"name\": \"train_df\",\n  \"rows\": 1616,\n  \"fields\": [\n    {\n      \"column\": \"label\",\n      \"properties\": {\n        \"dtype\": \"category\",\n        \"num_unique_values\": 12,\n        \"samples\": [\n          \"Secondary forest\",\n          \"Small-scale oil palm plantation\",\n          \"Timber plantation\"\n        ],\n        \"semantic_type\": \"\",\n        \"description\": \"\"\n      }\n    },\n    {\n      \"column\": \"merged_label\",\n      \"properties\": {\n        \"dtype\": \"category\",\n        \"num_unique_values\": 4,\n        \"samples\": [\n          \"Other\",\n          \"Smallholder agriculture\",\n          \"Plantation\"\n        ],\n        \"semantic_type\": \"\",\n        \"description\": \"\"\n      }\n    },\n    {\n      \"column\": \"latitude\",\n      \"properties\": {\n        \"dtype\": \"number\",\n        \"std\": 2.2171918518591576,\n        \"min\": -8.34441742336356,\n        \"max\": 5.152186678362192,\n        \"num_unique_values\": 1616,\n        \"samples\": [\n          -5.5315452472730975,\n          2.14547959681366,\n          -2.0237308502478184\n        ],\n        \"semantic_type\": \"\",\n        \"description\": \"\"\n      }\n    },\n    {\n      \"column\": \"longitude\",\n      \"properties\": {\n        \"dtype\": \"number\",\n        \"std\": 10.052747118039678,\n        \"min\": 95.75768077190423,\n        \"max\": 140.95941230219998,\n        \"num_unique_values\": 1615,\n        \"samples\": [\n          105.09898057049811,\n          117.05874124311474,\n          114.75551054866928\n        ],\n        \"semantic_type\": \"\",\n        \"description\": \"\"\n      }\n    },\n    {\n      \"column\": \"year\",\n      \"properties\": {\n        \"dtype\": \"number\",\n        \"std\": 4,\n        \"min\": 2001,\n        \"max\": 2016,\n        \"num_unique_values\": 16,\n        \"samples\": [\n          2014,\n          2012,\n          2004\n        ],\n        \"semantic_type\": \"\",\n        \"description\": \"\"\n      }\n    },\n    {\n      \"column\": \"example_path\",\n      \"properties\": {\n        \"dtype\": \"string\",\n        \"num_unique_values\": 1616,\n        \"samples\": [\n          \"examples/-5.5315452472730975_105.09898057049811\",\n          \"examples/2.14547959681366_117.26891152087542\",\n          \"examples/-2.0237308502478184_102.48958315972294\"\n        ],\n        \"semantic_type\": \"\",\n        \"description\": \"\"\n      }\n    }\n  ]\n}",
              "type": "dataframe",
              "variable_name": "train_df"
            },
            "text/html": [
              "\n",
              "  <div id=\"df-3c580790-adad-40b4-9abc-5b3aed1f9326\" class=\"colab-df-container\">\n",
              "    <div>\n",
              "<style scoped>\n",
              "    .dataframe tbody tr th:only-of-type {\n",
              "        vertical-align: middle;\n",
              "    }\n",
              "\n",
              "    .dataframe tbody tr th {\n",
              "        vertical-align: top;\n",
              "    }\n",
              "\n",
              "    .dataframe thead th {\n",
              "        text-align: right;\n",
              "    }\n",
              "</style>\n",
              "<table border=\"1\" class=\"dataframe\">\n",
              "  <thead>\n",
              "    <tr style=\"text-align: right;\">\n",
              "      <th></th>\n",
              "      <th>label</th>\n",
              "      <th>merged_label</th>\n",
              "      <th>latitude</th>\n",
              "      <th>longitude</th>\n",
              "      <th>year</th>\n",
              "      <th>example_path</th>\n",
              "    </tr>\n",
              "  </thead>\n",
              "  <tbody>\n",
              "    <tr>\n",
              "      <th>0</th>\n",
              "      <td>Timber plantation</td>\n",
              "      <td>Plantation</td>\n",
              "      <td>4.430849</td>\n",
              "      <td>96.101634</td>\n",
              "      <td>2014</td>\n",
              "      <td>examples/4.430849118860583_96.1016343478138</td>\n",
              "    </tr>\n",
              "    <tr>\n",
              "      <th>1</th>\n",
              "      <td>Other</td>\n",
              "      <td>Other</td>\n",
              "      <td>1.332341</td>\n",
              "      <td>109.374229</td>\n",
              "      <td>2012</td>\n",
              "      <td>examples/1.3323406178609702_109.37422873130464</td>\n",
              "    </tr>\n",
              "    <tr>\n",
              "      <th>2</th>\n",
              "      <td>Grassland shrubland</td>\n",
              "      <td>Grassland shrubland</td>\n",
              "      <td>-1.720266</td>\n",
              "      <td>115.006996</td>\n",
              "      <td>2016</td>\n",
              "      <td>examples/-1.720266384577504_115.00699582064485</td>\n",
              "    </tr>\n",
              "    <tr>\n",
              "      <th>3</th>\n",
              "      <td>Small-scale agriculture</td>\n",
              "      <td>Smallholder agriculture</td>\n",
              "      <td>-2.248346</td>\n",
              "      <td>104.135786</td>\n",
              "      <td>2011</td>\n",
              "      <td>examples/-2.248346072674411_104.1357857482906</td>\n",
              "    </tr>\n",
              "    <tr>\n",
              "      <th>4</th>\n",
              "      <td>Other large-scale plantations</td>\n",
              "      <td>Plantation</td>\n",
              "      <td>-2.100800</td>\n",
              "      <td>113.022376</td>\n",
              "      <td>2008</td>\n",
              "      <td>examples/-2.100800102991412_113.0223763234016</td>\n",
              "    </tr>\n",
              "  </tbody>\n",
              "</table>\n",
              "</div>\n",
              "    <div class=\"colab-df-buttons\">\n",
              "\n",
              "  <div class=\"colab-df-container\">\n",
              "    <button class=\"colab-df-convert\" onclick=\"convertToInteractive('df-3c580790-adad-40b4-9abc-5b3aed1f9326')\"\n",
              "            title=\"Convert this dataframe to an interactive table.\"\n",
              "            style=\"display:none;\">\n",
              "\n",
              "  <svg xmlns=\"http://www.w3.org/2000/svg\" height=\"24px\" viewBox=\"0 -960 960 960\">\n",
              "    <path d=\"M120-120v-720h720v720H120Zm60-500h600v-160H180v160Zm220 220h160v-160H400v160Zm0 220h160v-160H400v160ZM180-400h160v-160H180v160Zm440 0h160v-160H620v160ZM180-180h160v-160H180v160Zm440 0h160v-160H620v160Z\"/>\n",
              "  </svg>\n",
              "    </button>\n",
              "\n",
              "  <style>\n",
              "    .colab-df-container {\n",
              "      display:flex;\n",
              "      gap: 12px;\n",
              "    }\n",
              "\n",
              "    .colab-df-convert {\n",
              "      background-color: #E8F0FE;\n",
              "      border: none;\n",
              "      border-radius: 50%;\n",
              "      cursor: pointer;\n",
              "      display: none;\n",
              "      fill: #1967D2;\n",
              "      height: 32px;\n",
              "      padding: 0 0 0 0;\n",
              "      width: 32px;\n",
              "    }\n",
              "\n",
              "    .colab-df-convert:hover {\n",
              "      background-color: #E2EBFA;\n",
              "      box-shadow: 0px 1px 2px rgba(60, 64, 67, 0.3), 0px 1px 3px 1px rgba(60, 64, 67, 0.15);\n",
              "      fill: #174EA6;\n",
              "    }\n",
              "\n",
              "    .colab-df-buttons div {\n",
              "      margin-bottom: 4px;\n",
              "    }\n",
              "\n",
              "    [theme=dark] .colab-df-convert {\n",
              "      background-color: #3B4455;\n",
              "      fill: #D2E3FC;\n",
              "    }\n",
              "\n",
              "    [theme=dark] .colab-df-convert:hover {\n",
              "      background-color: #434B5C;\n",
              "      box-shadow: 0px 1px 3px 1px rgba(0, 0, 0, 0.15);\n",
              "      filter: drop-shadow(0px 1px 2px rgba(0, 0, 0, 0.3));\n",
              "      fill: #FFFFFF;\n",
              "    }\n",
              "  </style>\n",
              "\n",
              "    <script>\n",
              "      const buttonEl =\n",
              "        document.querySelector('#df-3c580790-adad-40b4-9abc-5b3aed1f9326 button.colab-df-convert');\n",
              "      buttonEl.style.display =\n",
              "        google.colab.kernel.accessAllowed ? 'block' : 'none';\n",
              "\n",
              "      async function convertToInteractive(key) {\n",
              "        const element = document.querySelector('#df-3c580790-adad-40b4-9abc-5b3aed1f9326');\n",
              "        const dataTable =\n",
              "          await google.colab.kernel.invokeFunction('convertToInteractive',\n",
              "                                                    [key], {});\n",
              "        if (!dataTable) return;\n",
              "\n",
              "        const docLinkHtml = 'Like what you see? Visit the ' +\n",
              "          '<a target=\"_blank\" href=https://colab.research.google.com/notebooks/data_table.ipynb>data table notebook</a>'\n",
              "          + ' to learn more about interactive tables.';\n",
              "        element.innerHTML = '';\n",
              "        dataTable['output_type'] = 'display_data';\n",
              "        await google.colab.output.renderOutput(dataTable, element);\n",
              "        const docLink = document.createElement('div');\n",
              "        docLink.innerHTML = docLinkHtml;\n",
              "        element.appendChild(docLink);\n",
              "      }\n",
              "    </script>\n",
              "  </div>\n",
              "\n",
              "\n",
              "<div id=\"df-f18d3b03-5dee-41f8-854a-9619187d1c5a\">\n",
              "  <button class=\"colab-df-quickchart\" onclick=\"quickchart('df-f18d3b03-5dee-41f8-854a-9619187d1c5a')\"\n",
              "            title=\"Suggest charts\"\n",
              "            style=\"display:none;\">\n",
              "\n",
              "<svg xmlns=\"http://www.w3.org/2000/svg\" height=\"24px\"viewBox=\"0 0 24 24\"\n",
              "     width=\"24px\">\n",
              "    <g>\n",
              "        <path d=\"M19 3H5c-1.1 0-2 .9-2 2v14c0 1.1.9 2 2 2h14c1.1 0 2-.9 2-2V5c0-1.1-.9-2-2-2zM9 17H7v-7h2v7zm4 0h-2V7h2v10zm4 0h-2v-4h2v4z\"/>\n",
              "    </g>\n",
              "</svg>\n",
              "  </button>\n",
              "\n",
              "<style>\n",
              "  .colab-df-quickchart {\n",
              "      --bg-color: #E8F0FE;\n",
              "      --fill-color: #1967D2;\n",
              "      --hover-bg-color: #E2EBFA;\n",
              "      --hover-fill-color: #174EA6;\n",
              "      --disabled-fill-color: #AAA;\n",
              "      --disabled-bg-color: #DDD;\n",
              "  }\n",
              "\n",
              "  [theme=dark] .colab-df-quickchart {\n",
              "      --bg-color: #3B4455;\n",
              "      --fill-color: #D2E3FC;\n",
              "      --hover-bg-color: #434B5C;\n",
              "      --hover-fill-color: #FFFFFF;\n",
              "      --disabled-bg-color: #3B4455;\n",
              "      --disabled-fill-color: #666;\n",
              "  }\n",
              "\n",
              "  .colab-df-quickchart {\n",
              "    background-color: var(--bg-color);\n",
              "    border: none;\n",
              "    border-radius: 50%;\n",
              "    cursor: pointer;\n",
              "    display: none;\n",
              "    fill: var(--fill-color);\n",
              "    height: 32px;\n",
              "    padding: 0;\n",
              "    width: 32px;\n",
              "  }\n",
              "\n",
              "  .colab-df-quickchart:hover {\n",
              "    background-color: var(--hover-bg-color);\n",
              "    box-shadow: 0 1px 2px rgba(60, 64, 67, 0.3), 0 1px 3px 1px rgba(60, 64, 67, 0.15);\n",
              "    fill: var(--button-hover-fill-color);\n",
              "  }\n",
              "\n",
              "  .colab-df-quickchart-complete:disabled,\n",
              "  .colab-df-quickchart-complete:disabled:hover {\n",
              "    background-color: var(--disabled-bg-color);\n",
              "    fill: var(--disabled-fill-color);\n",
              "    box-shadow: none;\n",
              "  }\n",
              "\n",
              "  .colab-df-spinner {\n",
              "    border: 2px solid var(--fill-color);\n",
              "    border-color: transparent;\n",
              "    border-bottom-color: var(--fill-color);\n",
              "    animation:\n",
              "      spin 1s steps(1) infinite;\n",
              "  }\n",
              "\n",
              "  @keyframes spin {\n",
              "    0% {\n",
              "      border-color: transparent;\n",
              "      border-bottom-color: var(--fill-color);\n",
              "      border-left-color: var(--fill-color);\n",
              "    }\n",
              "    20% {\n",
              "      border-color: transparent;\n",
              "      border-left-color: var(--fill-color);\n",
              "      border-top-color: var(--fill-color);\n",
              "    }\n",
              "    30% {\n",
              "      border-color: transparent;\n",
              "      border-left-color: var(--fill-color);\n",
              "      border-top-color: var(--fill-color);\n",
              "      border-right-color: var(--fill-color);\n",
              "    }\n",
              "    40% {\n",
              "      border-color: transparent;\n",
              "      border-right-color: var(--fill-color);\n",
              "      border-top-color: var(--fill-color);\n",
              "    }\n",
              "    60% {\n",
              "      border-color: transparent;\n",
              "      border-right-color: var(--fill-color);\n",
              "    }\n",
              "    80% {\n",
              "      border-color: transparent;\n",
              "      border-right-color: var(--fill-color);\n",
              "      border-bottom-color: var(--fill-color);\n",
              "    }\n",
              "    90% {\n",
              "      border-color: transparent;\n",
              "      border-bottom-color: var(--fill-color);\n",
              "    }\n",
              "  }\n",
              "</style>\n",
              "\n",
              "  <script>\n",
              "    async function quickchart(key) {\n",
              "      const quickchartButtonEl =\n",
              "        document.querySelector('#' + key + ' button');\n",
              "      quickchartButtonEl.disabled = true;  // To prevent multiple clicks.\n",
              "      quickchartButtonEl.classList.add('colab-df-spinner');\n",
              "      try {\n",
              "        const charts = await google.colab.kernel.invokeFunction(\n",
              "            'suggestCharts', [key], {});\n",
              "      } catch (error) {\n",
              "        console.error('Error during call to suggestCharts:', error);\n",
              "      }\n",
              "      quickchartButtonEl.classList.remove('colab-df-spinner');\n",
              "      quickchartButtonEl.classList.add('colab-df-quickchart-complete');\n",
              "    }\n",
              "    (() => {\n",
              "      let quickchartButtonEl =\n",
              "        document.querySelector('#df-f18d3b03-5dee-41f8-854a-9619187d1c5a button');\n",
              "      quickchartButtonEl.style.display =\n",
              "        google.colab.kernel.accessAllowed ? 'block' : 'none';\n",
              "    })();\n",
              "  </script>\n",
              "</div>\n",
              "\n",
              "    </div>\n",
              "  </div>\n"
            ],
            "text/plain": [
              "                           label             merged_label  latitude  \\\n",
              "0              Timber plantation               Plantation  4.430849   \n",
              "1                          Other                    Other  1.332341   \n",
              "2            Grassland shrubland      Grassland shrubland -1.720266   \n",
              "3        Small-scale agriculture  Smallholder agriculture -2.248346   \n",
              "4  Other large-scale plantations               Plantation -2.100800   \n",
              "\n",
              "    longitude  year                                    example_path  \n",
              "0   96.101634  2014     examples/4.430849118860583_96.1016343478138  \n",
              "1  109.374229  2012  examples/1.3323406178609702_109.37422873130464  \n",
              "2  115.006996  2016  examples/-1.720266384577504_115.00699582064485  \n",
              "3  104.135786  2011   examples/-2.248346072674411_104.1357857482906  \n",
              "4  113.022376  2008   examples/-2.100800102991412_113.0223763234016  "
            ]
          },
          "execution_count": 105,
          "metadata": {},
          "output_type": "execute_result"
        }
      ],
      "source": [
        "dataset_path = '/input/deep/downloads'\n",
        "\n",
        "train_df = pd.read_csv(f'{dataset_path}/ForestNetDataset/train.csv')\n",
        "val_df = pd.read_csv(f'{dataset_path}/ForestNetDataset/val.csv')\n",
        "test_df = pd.read_csv(f'{dataset_path}/ForestNetDataset/test.csv')\n",
        "\n",
        "train_df.head()"
      ]
    },
    {
      "cell_type": "markdown",
      "metadata": {
        "id": "n2eQEomlptno"
      },
      "source": [
        "### Datset Distribution Plot"
      ]
    },
    {
      "cell_type": "code",
      "execution_count": 106,
      "metadata": {
        "colab": {
          "base_uri": "https://localhost:8080/",
          "height": 522
        },
        "id": "vUKtySFJUJtA",
        "outputId": "4fd8e5d5-d7ee-411d-d2bc-293861c6bfda"
      },
      "outputs": [
        {
          "data": {
            "image/png": "[encoded data removed]",
            "text/plain": [
              "<Figure size 800x600 with 1 Axes>"
            ]
          },
          "metadata": {},
          "output_type": "display_data"
        }
      ],
      "source": [
        "# Plot distribution of data\n",
        "train_df_class = train_df.groupby(['merged_label']).size().to_frame('train').reset_index()\n",
        "val_df_class = val_df.groupby(['merged_label']).size().to_frame('val').reset_index()\n",
        "test_df_class = test_df.groupby(['merged_label']).size().to_frame('test').reset_index()\n",
        "\n",
        "plt.figure(figsize=(8, 6))\n",
        "x_axis = np.arange(len(train_df_class['merged_label']))\n",
        "index = [[train_df_class,'train',-0.2],[val_df_class,'val',0],[test_df_class,'test',0.2]]\n",
        "for i in index:\n",
        "  df = i[0]\n",
        "  bars = plt.bar(x_axis + i[2], df[i[1]] , width=0.2, label=i[1])\n",
        "  for bar in bars:\n",
        "      yval = bar.get_height()\n",
        "      plt.text(bar.get_x(), yval + .005, yval)\n",
        "plt.xticks(x_axis,train_df_class['merged_label'])\n",
        "plt.legend()\n",
        "plt.show()"
      ]
    },
    {
      "cell_type": "markdown",
      "metadata": {
        "id": "nJ-MOJGDqtz1"
      },
      "source": [
        "### TODO: More graphs and/or Sample images ?"
      ]
    },
    {
      "cell_type": "markdown",
      "metadata": {
        "id": "Gu5JpPT7oxVp"
      },
      "source": [
        "# Creating A Custom Dataset Class\n",
        "### This allows auxiliary data to be loaded along with the images and masks\n",
        "\n"
      ]
    },
    {
      "cell_type": "markdown",
      "metadata": {
        "id": "F7wT0sXi8lx5"
      },
      "source": [
        "### TODO: Add aux to dataset class\n",
        "### TODO: Di ko pa nalagay yung find closest image ni Dhea"
      ]
    },
    {
      "cell_type": "code",
      "execution_count": 107,
      "metadata": {
        "id": "LJAvEJb-UMLk"
      },
      "outputs": [],
      "source": [
        "import imageio\n",
        "\n",
        "class ForestDataset(Dataset):\n",
        "    \"\"\"Forest dataset.\"\"\"\n",
        "\n",
        "    def __init__(self, csv_file_to_df, root_dir=f'{dataset_path}/ForestNetDataset', transform=None, types=\"classifier\"):\n",
        "        self.csv = csv_file_to_df\n",
        "        self.root_dir = root_dir\n",
        "        self.transform = transform\n",
        "        self.label_to_int = {'Grassland shrubland':0, 'Other':1, 'Plantation':2, 'Smallholder agriculture':3}\n",
        "        self.types = types\n",
        "\n",
        "    def __len__(self):\n",
        "        return len(self.csv)\n",
        "\n",
        "    def poly_from_utm(self, polygon):\n",
        "        poly_pts = []\n",
        "\n",
        "        poly = unary_union(polygon)\n",
        "        for i in np.array(poly.exterior.coords):\n",
        "\n",
        "            poly_pts.append(tuple(i))\n",
        "\n",
        "        new_poly = Polygon(poly_pts)\n",
        "        return new_poly\n",
        "\n",
        "    def __getitem__(self, idx):\n",
        "        if torch.is_tensor(idx):\n",
        "            idx = idx.tolist()\n",
        "\n",
        "        label = self.csv.iloc[idx, 0]\n",
        "        merged_label = self.csv.iloc[idx, 1]\n",
        "        lat = self.csv.iloc[idx, 2]\n",
        "        long = self.csv.iloc[idx, 3]\n",
        "        year = self.csv.iloc[idx, 4]\n",
        "        folder = self.csv.iloc[idx, 5]\n",
        "\n",
        "        ## Load the image and auxiliary\n",
        "        image_path = f'{self.root_dir}/{folder}/images/visible/composite.png'.replace(' ', '')\n",
        "        image = imageio.imread(image_path)\n",
        "\n",
        "        slope_path = f'{self.root_dir}/{folder}/auxiliary/gfc.npy'.replace(' ', '')\n",
        "        slope = np.load(slope_path)\n",
        "\n",
        "        ## Get the segmentation map\n",
        "        segmentation_path = f'{self.root_dir}/{folder}/forest_loss_region.pkl'.replace(' ', '')\n",
        "        with open(segmentation_path, 'rb') as f:\n",
        "            data = pickle.load(f)\n",
        "\n",
        "        nx, ny = 332, 332\n",
        "        xy_array = np.empty((0,2))\n",
        "        if data.geom_type == 'Polygon':\n",
        "            data = [data]\n",
        "        elif data.geom_type == 'Multipolygon':\n",
        "            data = list(data)\n",
        "\n",
        "        poly_shp = []\n",
        "        for poly_verts in data:\n",
        "            poly_shp.append(self.poly_from_utm(poly_verts))\n",
        "\n",
        "        mask = rasterize(shapes=poly_shp, out_shape=(332,332))\n",
        "        seg = np.array(mask)\n",
        "\n",
        "        if self.transform:\n",
        "            augmented = self.transform(image=image)\n",
        "            image = augmented[\"image\"]\n",
        "\n",
        "        image = torch.from_numpy(image).type(torch.float)\n",
        "        image = image.permute(2, 0, 1)\n",
        "        seg = torch.from_numpy(seg).type(torch.uint8)\n",
        "        slope = torch.from_numpy(slope).type(torch.float)\n",
        "\n",
        "        merged_label = self.label_to_int[merged_label]\n",
        "\n",
        "        image = image[:, 86:246, 86:246]\n",
        "        seg = seg[86:246, 86:246]\n",
        "        slope = slope[86:246, 86:246]\n",
        "        if self.types == \"classifier\":\n",
        "            return image, seg, merged_label\n",
        "        else:\n",
        "            return image, seg, merged_label\n"
      ]
    },
    {
      "cell_type": "markdown",
      "metadata": {
        "id": "_qe4I193q2-5"
      },
      "source": [
        "### TODO: Show what the data in the batch looks like? parang yung show_batch dun sa previous architecture. Not sure pa if pwede"
      ]
    },
    {
      "cell_type": "markdown",
      "metadata": {
        "id": "D7-KUKg7pE2z"
      },
      "source": [
        "# Model Training"
      ]
    },
    {
      "cell_type": "markdown",
      "metadata": {
        "id": "jpuBshsepHH-"
      },
      "source": [
        "### Initialize Hyperparameters"
      ]
    },
    {
      "cell_type": "code",
      "execution_count": 108,
      "metadata": {
        "id": "hXk7QL7yUOaj"
      },
      "outputs": [],
      "source": [
        "# Initialize several arguments for training\n",
        "BATCH_SIZE = 16\n",
        "DEVICE = device = \"cuda:0\" if torch.cuda.is_available() else \"cpu\"\n",
        "LR = 0.001\n",
        "nbClass = 4"
      ]
    },
    {
      "cell_type": "markdown",
      "metadata": {
        "id": "a3RzFufFpNIO"
      },
      "source": [
        "### Load the training, validation and test data"
      ]
    },
    {
      "cell_type": "code",
      "execution_count": 109,
      "metadata": {
        "id": "WlvA0t1gURPm"
      },
      "outputs": [],
      "source": [
        "# Load Dataset and Create DataLoader For Classification\n",
        "train_dataset = ForestDataset( csv_file_to_df=train_df)\n",
        "val_dataset = ForestDataset( csv_file_to_df=val_df)\n",
        "test_dataset = ForestDataset( csv_file_to_df=test_df)\n",
        "trainloader = torch.utils.data.DataLoader(train_dataset, batch_size=BATCH_SIZE,shuffle=True)\n",
        "valloader = torch.utils.data.DataLoader(val_dataset, batch_size=BATCH_SIZE,shuffle=True)\n",
        "testloader = torch.utils.data.DataLoader(test_dataset, batch_size=BATCH_SIZE,shuffle=False)\n",
        "dataloaders = {'train': trainloader, 'val':valloader}"
      ]
    },
    {
      "cell_type": "markdown",
      "metadata": {
        "id": "SIyQtlTZpSKt"
      },
      "source": [
        "### Sanity Check to ensure proper tensor shapes"
      ]
    },
    {
      "cell_type": "code",
      "execution_count": 110,
      "metadata": {
        "colab": {
          "base_uri": "https://localhost:8080/"
        },
        "id": "eJee-OsHURvK",
        "outputId": "2b66310a-aa72-4226-eeeb-dcefaae98932"
      },
      "outputs": [
        {
          "name": "stdout",
          "output_type": "stream",
          "text": [
            "images shape on PyTroch :  torch.Size([16, 3, 160, 160])\n",
            "labels shape on PyTroch :  torch.Size([16])\n"
          ]
        }
      ],
      "source": [
        "dataiter = iter(trainloader)\n",
        "images, seg, labels = next(dataiter)\n",
        "\n",
        "print('images shape on PyTroch : ', images.size())\n",
        "# print('slope shape on PyTroch : ', slope.size())\n",
        "print('labels shape on PyTroch : ', labels.size())"
      ]
    },
    {
      "cell_type": "code",
      "execution_count": 111,
      "metadata": {
        "colab": {
          "base_uri": "https://localhost:8080/"
        },
        "id": "XLmS_237UTgN",
        "outputId": "d878dc9b-93d4-4cf2-fe5e-5d71bb97de14"
      },
      "outputs": [
        {
          "name": "stdout",
          "output_type": "stream",
          "text": [
            "torch.Size([16, 160, 160])\n",
            "torch.Size([16, 160, 160])\n"
          ]
        }
      ],
      "source": [
        "sample = next(iter(trainloader))[1]\n",
        "print(sample.shape)\n",
        "\n",
        "sample_target = next(iter(valloader))[1]\n",
        "print(sample_target.shape)"
      ]
    },
    {
      "cell_type": "markdown",
      "metadata": {
        "id": "qFgaju01pXy2"
      },
      "source": [
        "### Define the Model (FPN With EfficientNet Backbone)"
      ]
    },
    {
      "cell_type": "code",
      "execution_count": 112,
      "metadata": {
        "id": "ppBFhvVXXIlT"
      },
      "outputs": [],
      "source": [
        "import torch\n",
        "import torch.nn as nn\n",
        "from torchvision.models import efficientnet_b2\n",
        "\n",
        "class FPN(nn.Module):\n",
        "    def __init__(self, n_segmentation_classes, n_classification_classes, pretrained=True, dropout_rate=0.5):\n",
        "        super(FPN, self).__init__()\n",
        "\n",
        "        # Load EfficientNet backbone\n",
        "        backbone = efficientnet_b2(pretrained=pretrained)\n",
        "        self.stem = nn.Sequential(*list(backbone.features[:2]))  # 16 channels\n",
        "        self.layer1 = nn.Sequential(*list(backbone.features[2:4]))  # 48 channels\n",
        "        self.layer2 = nn.Sequential(*list(backbone.features[4:6]))  # 120 channels\n",
        "        self.layer3 = nn.Sequential(*list(backbone.features[6:]))   # 1408 channels\n",
        "\n",
        "        # Adjust channel sizes for FPN layers\n",
        "        self.p3 = nn.Conv2d(1408, 256, kernel_size=1)  # From c4\n",
        "        self.p2 = nn.Conv2d(120, 128, kernel_size=1)    # From c3\n",
        "        self.p1 = nn.Conv2d(48, 64, kernel_size=1)      # From c2\n",
        "\n",
        "        # Dropout layers\n",
        "        self.dropout = nn.Dropout(dropout_rate)\n",
        "\n",
        "        # Upsampling + Convolution Layers\n",
        "        self.upsample3 = nn.ConvTranspose2d(256, 128, kernel_size=2, stride=2)  # 5x5 -> 10x10\n",
        "        self.upsample2 = nn.ConvTranspose2d(128, 64, kernel_size=2, stride=2)   # 10x10 -> 20x20\n",
        "        self.upsample1 = nn.ConvTranspose2d(64, 64, kernel_size=2, stride=2)     # 20x20 -> 40x40\n",
        "        self.final_upsample = nn.ConvTranspose2d(64, n_segmentation_classes, kernel_size=2, stride=2)  # 40x40 -> 80x80\n",
        "\n",
        "        # Convolution block for segmentation\n",
        "        self.segmentation_head = nn.Conv2d(64, n_segmentation_classes, kernel_size=1)\n",
        "\n",
        "        # Fully connected layer for classification\n",
        "        self.classification_head = nn.Linear(1408 * 5 * 5, n_classification_classes)\n",
        "\n",
        "    def forward(self, x):\n",
        "        # EfficientNet backbone\n",
        "        c1 = self.stem(x)     # First stage (16 channels)\n",
        "        c2 = self.layer1(c1)  # Second stage (48 channels)\n",
        "        c3 = self.layer2(c2)  # Third stage (120 channels)\n",
        "        c4 = self.layer3(c3)  # Final stage (1408 channels)\n",
        "\n",
        "        # Feature Pyramid\n",
        "        p3 = self.p3(c4)  # c4 feature map\n",
        "        p2 = self.p2(c3)  # c3 feature map\n",
        "        p1 = self.p1(c2)  # c2 feature map\n",
        "\n",
        "        # Upsampling and combining\n",
        "        p2 = p2 + self.upsample3(p3)  # Combine p2 with upsampled p3\n",
        "        p1 = p1 + self.upsample2(p2)  # Combine p1 with upsampled p2\n",
        "\n",
        "        # Now apply an additional upsampling layer to reach 80x80 and then one more to get to 160x160\n",
        "        segmentation_output = self.final_upsample(p1)  # Final output (40x40 -> 80x80)\n",
        "        segmentation_output = nn.functional.interpolate(segmentation_output, size=(160, 160), mode='bilinear', align_corners=False)  # Upsample to 160x160\n",
        "\n",
        "        # Classification output (from final layer)\n",
        "        c4_flat = torch.flatten(c4, start_dim=1)\n",
        "        c4_flat = self.dropout(c4_flat)  # Apply dropout before the classification head\n",
        "        classification_output = self.classification_head(c4_flat)\n",
        "\n",
        "        return classification_output, segmentation_output\n"
      ]
    },
    {
      "cell_type": "markdown",
      "metadata": {
        "id": "9h7Mlg7bpdEf"
      },
      "source": [
        "### Initialize the model for training\n"
      ]
    },
    {
      "cell_type": "markdown",
      "metadata": {
        "id": "Z1bnBl2Z8uCJ"
      },
      "source": [
        "### TODO: Finalize yung batch, LR, loss functions na gagamitin, same na dapat with forestnet"
      ]
    },
    {
      "cell_type": "code",
      "execution_count": 113,
      "metadata": {
        "colab": {
          "base_uri": "https://localhost:8080/"
        },
        "id": "f76WbrsQXMie",
        "outputId": "c3a080a5-ed32-4d3d-a718-e79a135d55e1"
      },
      "outputs": [
        {
          "name": "stdout",
          "output_type": "stream",
          "text": [
            "FPN(\n",
            "  (stem): Sequential(\n",
            "    (0): Conv2dNormActivation(\n",
            "      (0): Conv2d(3, 32, kernel_size=(3, 3), stride=(2, 2), padding=(1, 1), bias=False)\n",
            "      (1): BatchNorm2d(32, eps=1e-05, momentum=0.1, affine=True, track_running_stats=True)\n",
            "      (2): SiLU(inplace=True)\n",
            "    )\n",
            "    (1): Sequential(\n",
            "      (0): MBConv(\n",
            "        (block): Sequential(\n",
            "          (0): Conv2dNormActivation(\n",
            "            (0): Conv2d(32, 32, kernel_size=(3, 3), stride=(1, 1), padding=(1, 1), groups=32, bias=False)\n",
            "            (1): BatchNorm2d(32, eps=1e-05, momentum=0.1, affine=True, track_running_stats=True)\n",
            "            (2): SiLU(inplace=True)\n",
            "          )\n",
            "          (1): SqueezeExcitation(\n",
            "            (avgpool): AdaptiveAvgPool2d(output_size=1)\n",
            "            (fc1): Conv2d(32, 8, kernel_size=(1, 1), stride=(1, 1))\n",
            "            (fc2): Conv2d(8, 32, kernel_size=(1, 1), stride=(1, 1))\n",
            "            (activation): SiLU(inplace=True)\n",
            "            (scale_activation): Sigmoid()\n",
            "          )\n",
            "          (2): Conv2dNormActivation(\n",
            "            (0): Conv2d(32, 16, kernel_size=(1, 1), stride=(1, 1), bias=False)\n",
            "            (1): BatchNorm2d(16, eps=1e-05, momentum=0.1, affine=True, track_running_stats=True)\n",
            "          )\n",
            "        )\n",
            "        (stochastic_depth): StochasticDepth(p=0.0, mode=row)\n",
            "      )\n",
            "      (1): MBConv(\n",
            "        (block): Sequential(\n",
            "          (0): Conv2dNormActivation(\n",
            "            (0): Conv2d(16, 16, kernel_size=(3, 3), stride=(1, 1), padding=(1, 1), groups=16, bias=False)\n",
            "            (1): BatchNorm2d(16, eps=1e-05, momentum=0.1, affine=True, track_running_stats=True)\n",
            "            (2): SiLU(inplace=True)\n",
            "          )\n",
            "          (1): SqueezeExcitation(\n",
            "            (avgpool): AdaptiveAvgPool2d(output_size=1)\n",
            "            (fc1): Conv2d(16, 4, kernel_size=(1, 1), stride=(1, 1))\n",
            "            (fc2): Conv2d(4, 16, kernel_size=(1, 1), stride=(1, 1))\n",
            "            (activation): SiLU(inplace=True)\n",
            "            (scale_activation): Sigmoid()\n",
            "          )\n",
            "          (2): Conv2dNormActivation(\n",
            "            (0): Conv2d(16, 16, kernel_size=(1, 1), stride=(1, 1), bias=False)\n",
            "            (1): BatchNorm2d(16, eps=1e-05, momentum=0.1, affine=True, track_running_stats=True)\n",
            "          )\n",
            "        )\n",
            "        (stochastic_depth): StochasticDepth(p=0.008695652173913044, mode=row)\n",
            "      )\n",
            "    )\n",
            "  )\n",
            "  (layer1): Sequential(\n",
            "    (0): Sequential(\n",
            "      (0): MBConv(\n",
            "        (block): Sequential(\n",
            "          (0): Conv2dNormActivation(\n",
            "            (0): Conv2d(16, 96, kernel_size=(1, 1), stride=(1, 1), bias=False)\n",
            "            (1): BatchNorm2d(96, eps=1e-05, momentum=0.1, affine=True, track_running_stats=True)\n",
            "            (2): SiLU(inplace=True)\n",
            "          )\n",
            "          (1): Conv2dNormActivation(\n",
            "            (0): Conv2d(96, 96, kernel_size=(3, 3), stride=(2, 2), padding=(1, 1), groups=96, bias=False)\n",
            "            (1): BatchNorm2d(96, eps=1e-05, momentum=0.1, affine=True, track_running_stats=True)\n",
            "            (2): SiLU(inplace=True)\n",
            "          )\n",
            "          (2): SqueezeExcitation(\n",
            "            (avgpool): AdaptiveAvgPool2d(output_size=1)\n",
            "            (fc1): Conv2d(96, 4, kernel_size=(1, 1), stride=(1, 1))\n",
            "            (fc2): Conv2d(4, 96, kernel_size=(1, 1), stride=(1, 1))\n",
            "            (activation): SiLU(inplace=True)\n",
            "            (scale_activation): Sigmoid()\n",
            "          )\n",
            "          (3): Conv2dNormActivation(\n",
            "            (0): Conv2d(96, 24, kernel_size=(1, 1), stride=(1, 1), bias=False)\n",
            "            (1): BatchNorm2d(24, eps=1e-05, momentum=0.1, affine=True, track_running_stats=True)\n",
            "          )\n",
            "        )\n",
            "        (stochastic_depth): StochasticDepth(p=0.017391304347826087, mode=row)\n",
            "      )\n",
            "      (1): MBConv(\n",
            "        (block): Sequential(\n",
            "          (0): Conv2dNormActivation(\n",
            "            (0): Conv2d(24, 144, kernel_size=(1, 1), stride=(1, 1), bias=False)\n",
            "            (1): BatchNorm2d(144, eps=1e-05, momentum=0.1, affine=True, track_running_stats=True)\n",
            "            (2): SiLU(inplace=True)\n",
            "          )\n",
            "          (1): Conv2dNormActivation(\n",
            "            (0): Conv2d(144, 144, kernel_size=(3, 3), stride=(1, 1), padding=(1, 1), groups=144, bias=False)\n",
            "            (1): BatchNorm2d(144, eps=1e-05, momentum=0.1, affine=True, track_running_stats=True)\n",
            "            (2): SiLU(inplace=True)\n",
            "          )\n",
            "          (2): SqueezeExcitation(\n",
            "            (avgpool): AdaptiveAvgPool2d(output_size=1)\n",
            "            (fc1): Conv2d(144, 6, kernel_size=(1, 1), stride=(1, 1))\n",
            "            (fc2): Conv2d(6, 144, kernel_size=(1, 1), stride=(1, 1))\n",
            "            (activation): SiLU(inplace=True)\n",
            "            (scale_activation): Sigmoid()\n",
            "          )\n",
            "          (3): Conv2dNormActivation(\n",
            "            (0): Conv2d(144, 24, kernel_size=(1, 1), stride=(1, 1), bias=False)\n",
            "            (1): BatchNorm2d(24, eps=1e-05, momentum=0.1, affine=True, track_running_stats=True)\n",
            "          )\n",
            "        )\n",
            "        (stochastic_depth): StochasticDepth(p=0.026086956521739136, mode=row)\n",
            "      )\n",
            "      (2): MBConv(\n",
            "        (block): Sequential(\n",
            "          (0): Conv2dNormActivation(\n",
            "            (0): Conv2d(24, 144, kernel_size=(1, 1), stride=(1, 1), bias=False)\n",
            "            (1): BatchNorm2d(144, eps=1e-05, momentum=0.1, affine=True, track_running_stats=True)\n",
            "            (2): SiLU(inplace=True)\n",
            "          )\n",
            "          (1): Conv2dNormActivation(\n",
            "            (0): Conv2d(144, 144, kernel_size=(3, 3), stride=(1, 1), padding=(1, 1), groups=144, bias=False)\n",
            "            (1): BatchNorm2d(144, eps=1e-05, momentum=0.1, affine=True, track_running_stats=True)\n",
            "            (2): SiLU(inplace=True)\n",
            "          )\n",
            "          (2): SqueezeExcitation(\n",
            "            (avgpool): AdaptiveAvgPool2d(output_size=1)\n",
            "            (fc1): Conv2d(144, 6, kernel_size=(1, 1), stride=(1, 1))\n",
            "            (fc2): Conv2d(6, 144, kernel_size=(1, 1), stride=(1, 1))\n",
            "            (activation): SiLU(inplace=True)\n",
            "            (scale_activation): Sigmoid()\n",
            "          )\n",
            "          (3): Conv2dNormActivation(\n",
            "            (0): Conv2d(144, 24, kernel_size=(1, 1), stride=(1, 1), bias=False)\n",
            "            (1): BatchNorm2d(24, eps=1e-05, momentum=0.1, affine=True, track_running_stats=True)\n",
            "          )\n",
            "        )\n",
            "        (stochastic_depth): StochasticDepth(p=0.034782608695652174, mode=row)\n",
            "      )\n",
            "    )\n",
            "    (1): Sequential(\n",
            "      (0): MBConv(\n",
            "        (block): Sequential(\n",
            "          (0): Conv2dNormActivation(\n",
            "            (0): Conv2d(24, 144, kernel_size=(1, 1), stride=(1, 1), bias=False)\n",
            "            (1): BatchNorm2d(144, eps=1e-05, momentum=0.1, affine=True, track_running_stats=True)\n",
            "            (2): SiLU(inplace=True)\n",
            "          )\n",
            "          (1): Conv2dNormActivation(\n",
            "            (0): Conv2d(144, 144, kernel_size=(5, 5), stride=(2, 2), padding=(2, 2), groups=144, bias=False)\n",
            "            (1): BatchNorm2d(144, eps=1e-05, momentum=0.1, affine=True, track_running_stats=True)\n",
            "            (2): SiLU(inplace=True)\n",
            "          )\n",
            "          (2): SqueezeExcitation(\n",
            "            (avgpool): AdaptiveAvgPool2d(output_size=1)\n",
            "            (fc1): Conv2d(144, 6, kernel_size=(1, 1), stride=(1, 1))\n",
            "            (fc2): Conv2d(6, 144, kernel_size=(1, 1), stride=(1, 1))\n",
            "            (activation): SiLU(inplace=True)\n",
            "            (scale_activation): Sigmoid()\n",
            "          )\n",
            "          (3): Conv2dNormActivation(\n",
            "            (0): Conv2d(144, 48, kernel_size=(1, 1), stride=(1, 1), bias=False)\n",
            "            (1): BatchNorm2d(48, eps=1e-05, momentum=0.1, affine=True, track_running_stats=True)\n",
            "          )\n",
            "        )\n",
            "        (stochastic_depth): StochasticDepth(p=0.043478260869565216, mode=row)\n",
            "      )\n",
            "      (1): MBConv(\n",
            "        (block): Sequential(\n",
            "          (0): Conv2dNormActivation(\n",
            "            (0): Conv2d(48, 288, kernel_size=(1, 1), stride=(1, 1), bias=False)\n",
            "            (1): BatchNorm2d(288, eps=1e-05, momentum=0.1, affine=True, track_running_stats=True)\n",
            "            (2): SiLU(inplace=True)\n",
            "          )\n",
            "          (1): Conv2dNormActivation(\n",
            "            (0): Conv2d(288, 288, kernel_size=(5, 5), stride=(1, 1), padding=(2, 2), groups=288, bias=False)\n",
            "            (1): BatchNorm2d(288, eps=1e-05, momentum=0.1, affine=True, track_running_stats=True)\n",
            "            (2): SiLU(inplace=True)\n",
            "          )\n",
            "          (2): SqueezeExcitation(\n",
            "            (avgpool): AdaptiveAvgPool2d(output_size=1)\n",
            "            (fc1): Conv2d(288, 12, kernel_size=(1, 1), stride=(1, 1))\n",
            "            (fc2): Conv2d(12, 288, kernel_size=(1, 1), stride=(1, 1))\n",
            "            (activation): SiLU(inplace=True)\n",
            "            (scale_activation): Sigmoid()\n",
            "          )\n",
            "          (3): Conv2dNormActivation(\n",
            "            (0): Conv2d(288, 48, kernel_size=(1, 1), stride=(1, 1), bias=False)\n",
            "            (1): BatchNorm2d(48, eps=1e-05, momentum=0.1, affine=True, track_running_stats=True)\n",
            "          )\n",
            "        )\n",
            "        (stochastic_depth): StochasticDepth(p=0.05217391304347827, mode=row)\n",
            "      )\n",
            "      (2): MBConv(\n",
            "        (block): Sequential(\n",
            "          (0): Conv2dNormActivation(\n",
            "            (0): Conv2d(48, 288, kernel_size=(1, 1), stride=(1, 1), bias=False)\n",
            "            (1): BatchNorm2d(288, eps=1e-05, momentum=0.1, affine=True, track_running_stats=True)\n",
            "            (2): SiLU(inplace=True)\n",
            "          )\n",
            "          (1): Conv2dNormActivation(\n",
            "            (0): Conv2d(288, 288, kernel_size=(5, 5), stride=(1, 1), padding=(2, 2), groups=288, bias=False)\n",
            "            (1): BatchNorm2d(288, eps=1e-05, momentum=0.1, affine=True, track_running_stats=True)\n",
            "            (2): SiLU(inplace=True)\n",
            "          )\n",
            "          (2): SqueezeExcitation(\n",
            "            (avgpool): AdaptiveAvgPool2d(output_size=1)\n",
            "            (fc1): Conv2d(288, 12, kernel_size=(1, 1), stride=(1, 1))\n",
            "            (fc2): Conv2d(12, 288, kernel_size=(1, 1), stride=(1, 1))\n",
            "            (activation): SiLU(inplace=True)\n",
            "            (scale_activation): Sigmoid()\n",
            "          )\n",
            "          (3): Conv2dNormActivation(\n",
            "            (0): Conv2d(288, 48, kernel_size=(1, 1), stride=(1, 1), bias=False)\n",
            "            (1): BatchNorm2d(48, eps=1e-05, momentum=0.1, affine=True, track_running_stats=True)\n",
            "          )\n",
            "        )\n",
            "        (stochastic_depth): StochasticDepth(p=0.06086956521739131, mode=row)\n",
            "      )\n",
            "    )\n",
            "  )\n",
            "  (layer2): Sequential(\n",
            "    (0): Sequential(\n",
            "      (0): MBConv(\n",
            "        (block): Sequential(\n",
            "          (0): Conv2dNormActivation(\n",
            "            (0): Conv2d(48, 288, kernel_size=(1, 1), stride=(1, 1), bias=False)\n",
            "            (1): BatchNorm2d(288, eps=1e-05, momentum=0.1, affine=True, track_running_stats=True)\n",
            "            (2): SiLU(inplace=True)\n",
            "          )\n",
            "          (1): Conv2dNormActivation(\n",
            "            (0): Conv2d(288, 288, kernel_size=(3, 3), stride=(2, 2), padding=(1, 1), groups=288, bias=False)\n",
            "            (1): BatchNorm2d(288, eps=1e-05, momentum=0.1, affine=True, track_running_stats=True)\n",
            "            (2): SiLU(inplace=True)\n",
            "          )\n",
            "          (2): SqueezeExcitation(\n",
            "            (avgpool): AdaptiveAvgPool2d(output_size=1)\n",
            "            (fc1): Conv2d(288, 12, kernel_size=(1, 1), stride=(1, 1))\n",
            "            (fc2): Conv2d(12, 288, kernel_size=(1, 1), stride=(1, 1))\n",
            "            (activation): SiLU(inplace=True)\n",
            "            (scale_activation): Sigmoid()\n",
            "          )\n",
            "          (3): Conv2dNormActivation(\n",
            "            (0): Conv2d(288, 88, kernel_size=(1, 1), stride=(1, 1), bias=False)\n",
            "            (1): BatchNorm2d(88, eps=1e-05, momentum=0.1, affine=True, track_running_stats=True)\n",
            "          )\n",
            "        )\n",
            "        (stochastic_depth): StochasticDepth(p=0.06956521739130435, mode=row)\n",
            "      )\n",
            "      (1): MBConv(\n",
            "        (block): Sequential(\n",
            "          (0): Conv2dNormActivation(\n",
            "            (0): Conv2d(88, 528, kernel_size=(1, 1), stride=(1, 1), bias=False)\n",
            "            (1): BatchNorm2d(528, eps=1e-05, momentum=0.1, affine=True, track_running_stats=True)\n",
            "            (2): SiLU(inplace=True)\n",
            "          )\n",
            "          (1): Conv2dNormActivation(\n",
            "            (0): Conv2d(528, 528, kernel_size=(3, 3), stride=(1, 1), padding=(1, 1), groups=528, bias=False)\n",
            "            (1): BatchNorm2d(528, eps=1e-05, momentum=0.1, affine=True, track_running_stats=True)\n",
            "            (2): SiLU(inplace=True)\n",
            "          )\n",
            "          (2): SqueezeExcitation(\n",
            "            (avgpool): AdaptiveAvgPool2d(output_size=1)\n",
            "            (fc1): Conv2d(528, 22, kernel_size=(1, 1), stride=(1, 1))\n",
            "            (fc2): Conv2d(22, 528, kernel_size=(1, 1), stride=(1, 1))\n",
            "            (activation): SiLU(inplace=True)\n",
            "            (scale_activation): Sigmoid()\n",
            "          )\n",
            "          (3): Conv2dNormActivation(\n",
            "            (0): Conv2d(528, 88, kernel_size=(1, 1), stride=(1, 1), bias=False)\n",
            "            (1): BatchNorm2d(88, eps=1e-05, momentum=0.1, affine=True, track_running_stats=True)\n",
            "          )\n",
            "        )\n",
            "        (stochastic_depth): StochasticDepth(p=0.0782608695652174, mode=row)\n",
            "      )\n",
            "      (2): MBConv(\n",
            "        (block): Sequential(\n",
            "          (0): Conv2dNormActivation(\n",
            "            (0): Conv2d(88, 528, kernel_size=(1, 1), stride=(1, 1), bias=False)\n",
            "            (1): BatchNorm2d(528, eps=1e-05, momentum=0.1, affine=True, track_running_stats=True)\n",
            "            (2): SiLU(inplace=True)\n",
            "          )\n",
            "          (1): Conv2dNormActivation(\n",
            "            (0): Conv2d(528, 528, kernel_size=(3, 3), stride=(1, 1), padding=(1, 1), groups=528, bias=False)\n",
            "            (1): BatchNorm2d(528, eps=1e-05, momentum=0.1, affine=True, track_running_stats=True)\n",
            "            (2): SiLU(inplace=True)\n",
            "          )\n",
            "          (2): SqueezeExcitation(\n",
            "            (avgpool): AdaptiveAvgPool2d(output_size=1)\n",
            "            (fc1): Conv2d(528, 22, kernel_size=(1, 1), stride=(1, 1))\n",
            "            (fc2): Conv2d(22, 528, kernel_size=(1, 1), stride=(1, 1))\n",
            "            (activation): SiLU(inplace=True)\n",
            "            (scale_activation): Sigmoid()\n",
            "          )\n",
            "          (3): Conv2dNormActivation(\n",
            "            (0): Conv2d(528, 88, kernel_size=(1, 1), stride=(1, 1), bias=False)\n",
            "            (1): BatchNorm2d(88, eps=1e-05, momentum=0.1, affine=True, track_running_stats=True)\n",
            "          )\n",
            "        )\n",
            "        (stochastic_depth): StochasticDepth(p=0.08695652173913043, mode=row)\n",
            "      )\n",
            "      (3): MBConv(\n",
            "        (block): Sequential(\n",
            "          (0): Conv2dNormActivation(\n",
            "            (0): Conv2d(88, 528, kernel_size=(1, 1), stride=(1, 1), bias=False)\n",
            "            (1): BatchNorm2d(528, eps=1e-05, momentum=0.1, affine=True, track_running_stats=True)\n",
            "            (2): SiLU(inplace=True)\n",
            "          )\n",
            "          (1): Conv2dNormActivation(\n",
            "            (0): Conv2d(528, 528, kernel_size=(3, 3), stride=(1, 1), padding=(1, 1), groups=528, bias=False)\n",
            "            (1): BatchNorm2d(528, eps=1e-05, momentum=0.1, affine=True, track_running_stats=True)\n",
            "            (2): SiLU(inplace=True)\n",
            "          )\n",
            "          (2): SqueezeExcitation(\n",
            "            (avgpool): AdaptiveAvgPool2d(output_size=1)\n",
            "            (fc1): Conv2d(528, 22, kernel_size=(1, 1), stride=(1, 1))\n",
            "            (fc2): Conv2d(22, 528, kernel_size=(1, 1), stride=(1, 1))\n",
            "            (activation): SiLU(inplace=True)\n",
            "            (scale_activation): Sigmoid()\n",
            "          )\n",
            "          (3): Conv2dNormActivation(\n",
            "            (0): Conv2d(528, 88, kernel_size=(1, 1), stride=(1, 1), bias=False)\n",
            "            (1): BatchNorm2d(88, eps=1e-05, momentum=0.1, affine=True, track_running_stats=True)\n",
            "          )\n",
            "        )\n",
            "        (stochastic_depth): StochasticDepth(p=0.09565217391304348, mode=row)\n",
            "      )\n",
            "    )\n",
            "    (1): Sequential(\n",
            "      (0): MBConv(\n",
            "        (block): Sequential(\n",
            "          (0): Conv2dNormActivation(\n",
            "            (0): Conv2d(88, 528, kernel_size=(1, 1), stride=(1, 1), bias=False)\n",
            "            (1): BatchNorm2d(528, eps=1e-05, momentum=0.1, affine=True, track_running_stats=True)\n",
            "            (2): SiLU(inplace=True)\n",
            "          )\n",
            "          (1): Conv2dNormActivation(\n",
            "            (0): Conv2d(528, 528, kernel_size=(5, 5), stride=(1, 1), padding=(2, 2), groups=528, bias=False)\n",
            "            (1): BatchNorm2d(528, eps=1e-05, momentum=0.1, affine=True, track_running_stats=True)\n",
            "            (2): SiLU(inplace=True)\n",
            "          )\n",
            "          (2): SqueezeExcitation(\n",
            "            (avgpool): AdaptiveAvgPool2d(output_size=1)\n",
            "            (fc1): Conv2d(528, 22, kernel_size=(1, 1), stride=(1, 1))\n",
            "            (fc2): Conv2d(22, 528, kernel_size=(1, 1), stride=(1, 1))\n",
            "            (activation): SiLU(inplace=True)\n",
            "            (scale_activation): Sigmoid()\n",
            "          )\n",
            "          (3): Conv2dNormActivation(\n",
            "            (0): Conv2d(528, 120, kernel_size=(1, 1), stride=(1, 1), bias=False)\n",
            "            (1): BatchNorm2d(120, eps=1e-05, momentum=0.1, affine=True, track_running_stats=True)\n",
            "          )\n",
            "        )\n",
            "        (stochastic_depth): StochasticDepth(p=0.10434782608695654, mode=row)\n",
            "      )\n",
            "      (1): MBConv(\n",
            "        (block): Sequential(\n",
            "          (0): Conv2dNormActivation(\n",
            "            (0): Conv2d(120, 720, kernel_size=(1, 1), stride=(1, 1), bias=False)\n",
            "            (1): BatchNorm2d(720, eps=1e-05, momentum=0.1, affine=True, track_running_stats=True)\n",
            "            (2): SiLU(inplace=True)\n",
            "          )\n",
            "          (1): Conv2dNormActivation(\n",
            "            (0): Conv2d(720, 720, kernel_size=(5, 5), stride=(1, 1), padding=(2, 2), groups=720, bias=False)\n",
            "            (1): BatchNorm2d(720, eps=1e-05, momentum=0.1, affine=True, track_running_stats=True)\n",
            "            (2): SiLU(inplace=True)\n",
            "          )\n",
            "          (2): SqueezeExcitation(\n",
            "            (avgpool): AdaptiveAvgPool2d(output_size=1)\n",
            "            (fc1): Conv2d(720, 30, kernel_size=(1, 1), stride=(1, 1))\n",
            "            (fc2): Conv2d(30, 720, kernel_size=(1, 1), stride=(1, 1))\n",
            "            (activation): SiLU(inplace=True)\n",
            "            (scale_activation): Sigmoid()\n",
            "          )\n",
            "          (3): Conv2dNormActivation(\n",
            "            (0): Conv2d(720, 120, kernel_size=(1, 1), stride=(1, 1), bias=False)\n",
            "            (1): BatchNorm2d(120, eps=1e-05, momentum=0.1, affine=True, track_running_stats=True)\n",
            "          )\n",
            "        )\n",
            "        (stochastic_depth): StochasticDepth(p=0.11304347826086956, mode=row)\n",
            "      )\n",
            "      (2): MBConv(\n",
            "        (block): Sequential(\n",
            "          (0): Conv2dNormActivation(\n",
            "            (0): Conv2d(120, 720, kernel_size=(1, 1), stride=(1, 1), bias=False)\n",
            "            (1): BatchNorm2d(720, eps=1e-05, momentum=0.1, affine=True, track_running_stats=True)\n",
            "            (2): SiLU(inplace=True)\n",
            "          )\n",
            "          (1): Conv2dNormActivation(\n",
            "            (0): Conv2d(720, 720, kernel_size=(5, 5), stride=(1, 1), padding=(2, 2), groups=720, bias=False)\n",
            "            (1): BatchNorm2d(720, eps=1e-05, momentum=0.1, affine=True, track_running_stats=True)\n",
            "            (2): SiLU(inplace=True)\n",
            "          )\n",
            "          (2): SqueezeExcitation(\n",
            "            (avgpool): AdaptiveAvgPool2d(output_size=1)\n",
            "            (fc1): Conv2d(720, 30, kernel_size=(1, 1), stride=(1, 1))\n",
            "            (fc2): Conv2d(30, 720, kernel_size=(1, 1), stride=(1, 1))\n",
            "            (activation): SiLU(inplace=True)\n",
            "            (scale_activation): Sigmoid()\n",
            "          )\n",
            "          (3): Conv2dNormActivation(\n",
            "            (0): Conv2d(720, 120, kernel_size=(1, 1), stride=(1, 1), bias=False)\n",
            "            (1): BatchNorm2d(120, eps=1e-05, momentum=0.1, affine=True, track_running_stats=True)\n",
            "          )\n",
            "        )\n",
            "        (stochastic_depth): StochasticDepth(p=0.12173913043478261, mode=row)\n",
            "      )\n",
            "      (3): MBConv(\n",
            "        (block): Sequential(\n",
            "          (0): Conv2dNormActivation(\n",
            "            (0): Conv2d(120, 720, kernel_size=(1, 1), stride=(1, 1), bias=False)\n",
            "            (1): BatchNorm2d(720, eps=1e-05, momentum=0.1, affine=True, track_running_stats=True)\n",
            "            (2): SiLU(inplace=True)\n",
            "          )\n",
            "          (1): Conv2dNormActivation(\n",
            "            (0): Conv2d(720, 720, kernel_size=(5, 5), stride=(1, 1), padding=(2, 2), groups=720, bias=False)\n",
            "            (1): BatchNorm2d(720, eps=1e-05, momentum=0.1, affine=True, track_running_stats=True)\n",
            "            (2): SiLU(inplace=True)\n",
            "          )\n",
            "          (2): SqueezeExcitation(\n",
            "            (avgpool): AdaptiveAvgPool2d(output_size=1)\n",
            "            (fc1): Conv2d(720, 30, kernel_size=(1, 1), stride=(1, 1))\n",
            "            (fc2): Conv2d(30, 720, kernel_size=(1, 1), stride=(1, 1))\n",
            "            (activation): SiLU(inplace=True)\n",
            "            (scale_activation): Sigmoid()\n",
            "          )\n",
            "          (3): Conv2dNormActivation(\n",
            "            (0): Conv2d(720, 120, kernel_size=(1, 1), stride=(1, 1), bias=False)\n",
            "            (1): BatchNorm2d(120, eps=1e-05, momentum=0.1, affine=True, track_running_stats=True)\n",
            "          )\n",
            "        )\n",
            "        (stochastic_depth): StochasticDepth(p=0.13043478260869565, mode=row)\n",
            "      )\n",
            "    )\n",
            "  )\n",
            "  (layer3): Sequential(\n",
            "    (0): Sequential(\n",
            "      (0): MBConv(\n",
            "        (block): Sequential(\n",
            "          (0): Conv2dNormActivation(\n",
            "            (0): Conv2d(120, 720, kernel_size=(1, 1), stride=(1, 1), bias=False)\n",
            "            (1): BatchNorm2d(720, eps=1e-05, momentum=0.1, affine=True, track_running_stats=True)\n",
            "            (2): SiLU(inplace=True)\n",
            "          )\n",
            "          (1): Conv2dNormActivation(\n",
            "            (0): Conv2d(720, 720, kernel_size=(5, 5), stride=(2, 2), padding=(2, 2), groups=720, bias=False)\n",
            "            (1): BatchNorm2d(720, eps=1e-05, momentum=0.1, affine=True, track_running_stats=True)\n",
            "            (2): SiLU(inplace=True)\n",
            "          )\n",
            "          (2): SqueezeExcitation(\n",
            "            (avgpool): AdaptiveAvgPool2d(output_size=1)\n",
            "            (fc1): Conv2d(720, 30, kernel_size=(1, 1), stride=(1, 1))\n",
            "            (fc2): Conv2d(30, 720, kernel_size=(1, 1), stride=(1, 1))\n",
            "            (activation): SiLU(inplace=True)\n",
            "            (scale_activation): Sigmoid()\n",
            "          )\n",
            "          (3): Conv2dNormActivation(\n",
            "            (0): Conv2d(720, 208, kernel_size=(1, 1), stride=(1, 1), bias=False)\n",
            "            (1): BatchNorm2d(208, eps=1e-05, momentum=0.1, affine=True, track_running_stats=True)\n",
            "          )\n",
            "        )\n",
            "        (stochastic_depth): StochasticDepth(p=0.1391304347826087, mode=row)\n",
            "      )\n",
            "      (1): MBConv(\n",
            "        (block): Sequential(\n",
            "          (0): Conv2dNormActivation(\n",
            "            (0): Conv2d(208, 1248, kernel_size=(1, 1), stride=(1, 1), bias=False)\n",
            "            (1): BatchNorm2d(1248, eps=1e-05, momentum=0.1, affine=True, track_running_stats=True)\n",
            "            (2): SiLU(inplace=True)\n",
            "          )\n",
            "          (1): Conv2dNormActivation(\n",
            "            (0): Conv2d(1248, 1248, kernel_size=(5, 5), stride=(1, 1), padding=(2, 2), groups=1248, bias=False)\n",
            "            (1): BatchNorm2d(1248, eps=1e-05, momentum=0.1, affine=True, track_running_stats=True)\n",
            "            (2): SiLU(inplace=True)\n",
            "          )\n",
            "          (2): SqueezeExcitation(\n",
            "            (avgpool): AdaptiveAvgPool2d(output_size=1)\n",
            "            (fc1): Conv2d(1248, 52, kernel_size=(1, 1), stride=(1, 1))\n",
            "            (fc2): Conv2d(52, 1248, kernel_size=(1, 1), stride=(1, 1))\n",
            "            (activation): SiLU(inplace=True)\n",
            "            (scale_activation): Sigmoid()\n",
            "          )\n",
            "          (3): Conv2dNormActivation(\n",
            "            (0): Conv2d(1248, 208, kernel_size=(1, 1), stride=(1, 1), bias=False)\n",
            "            (1): BatchNorm2d(208, eps=1e-05, momentum=0.1, affine=True, track_running_stats=True)\n",
            "          )\n",
            "        )\n",
            "        (stochastic_depth): StochasticDepth(p=0.14782608695652175, mode=row)\n",
            "      )\n",
            "      (2): MBConv(\n",
            "        (block): Sequential(\n",
            "          (0): Conv2dNormActivation(\n",
            "            (0): Conv2d(208, 1248, kernel_size=(1, 1), stride=(1, 1), bias=False)\n",
            "            (1): BatchNorm2d(1248, eps=1e-05, momentum=0.1, affine=True, track_running_stats=True)\n",
            "            (2): SiLU(inplace=True)\n",
            "          )\n",
            "          (1): Conv2dNormActivation(\n",
            "            (0): Conv2d(1248, 1248, kernel_size=(5, 5), stride=(1, 1), padding=(2, 2), groups=1248, bias=False)\n",
            "            (1): BatchNorm2d(1248, eps=1e-05, momentum=0.1, affine=True, track_running_stats=True)\n",
            "            (2): SiLU(inplace=True)\n",
            "          )\n",
            "          (2): SqueezeExcitation(\n",
            "            (avgpool): AdaptiveAvgPool2d(output_size=1)\n",
            "            (fc1): Conv2d(1248, 52, kernel_size=(1, 1), stride=(1, 1))\n",
            "            (fc2): Conv2d(52, 1248, kernel_size=(1, 1), stride=(1, 1))\n",
            "            (activation): SiLU(inplace=True)\n",
            "            (scale_activation): Sigmoid()\n",
            "          )\n",
            "          (3): Conv2dNormActivation(\n",
            "            (0): Conv2d(1248, 208, kernel_size=(1, 1), stride=(1, 1), bias=False)\n",
            "            (1): BatchNorm2d(208, eps=1e-05, momentum=0.1, affine=True, track_running_stats=True)\n",
            "          )\n",
            "        )\n",
            "        (stochastic_depth): StochasticDepth(p=0.1565217391304348, mode=row)\n",
            "      )\n",
            "      (3): MBConv(\n",
            "        (block): Sequential(\n",
            "          (0): Conv2dNormActivation(\n",
            "            (0): Conv2d(208, 1248, kernel_size=(1, 1), stride=(1, 1), bias=False)\n",
            "            (1): BatchNorm2d(1248, eps=1e-05, momentum=0.1, affine=True, track_running_stats=True)\n",
            "            (2): SiLU(inplace=True)\n",
            "          )\n",
            "          (1): Conv2dNormActivation(\n",
            "            (0): Conv2d(1248, 1248, kernel_size=(5, 5), stride=(1, 1), padding=(2, 2), groups=1248, bias=False)\n",
            "            (1): BatchNorm2d(1248, eps=1e-05, momentum=0.1, affine=True, track_running_stats=True)\n",
            "            (2): SiLU(inplace=True)\n",
            "          )\n",
            "          (2): SqueezeExcitation(\n",
            "            (avgpool): AdaptiveAvgPool2d(output_size=1)\n",
            "            (fc1): Conv2d(1248, 52, kernel_size=(1, 1), stride=(1, 1))\n",
            "            (fc2): Conv2d(52, 1248, kernel_size=(1, 1), stride=(1, 1))\n",
            "            (activation): SiLU(inplace=True)\n",
            "            (scale_activation): Sigmoid()\n",
            "          )\n",
            "          (3): Conv2dNormActivation(\n",
            "            (0): Conv2d(1248, 208, kernel_size=(1, 1), stride=(1, 1), bias=False)\n",
            "            (1): BatchNorm2d(208, eps=1e-05, momentum=0.1, affine=True, track_running_stats=True)\n",
            "          )\n",
            "        )\n",
            "        (stochastic_depth): StochasticDepth(p=0.16521739130434784, mode=row)\n",
            "      )\n",
            "      (4): MBConv(\n",
            "        (block): Sequential(\n",
            "          (0): Conv2dNormActivation(\n",
            "            (0): Conv2d(208, 1248, kernel_size=(1, 1), stride=(1, 1), bias=False)\n",
            "            (1): BatchNorm2d(1248, eps=1e-05, momentum=0.1, affine=True, track_running_stats=True)\n",
            "            (2): SiLU(inplace=True)\n",
            "          )\n",
            "          (1): Conv2dNormActivation(\n",
            "            (0): Conv2d(1248, 1248, kernel_size=(5, 5), stride=(1, 1), padding=(2, 2), groups=1248, bias=False)\n",
            "            (1): BatchNorm2d(1248, eps=1e-05, momentum=0.1, affine=True, track_running_stats=True)\n",
            "            (2): SiLU(inplace=True)\n",
            "          )\n",
            "          (2): SqueezeExcitation(\n",
            "            (avgpool): AdaptiveAvgPool2d(output_size=1)\n",
            "            (fc1): Conv2d(1248, 52, kernel_size=(1, 1), stride=(1, 1))\n",
            "            (fc2): Conv2d(52, 1248, kernel_size=(1, 1), stride=(1, 1))\n",
            "            (activation): SiLU(inplace=True)\n",
            "            (scale_activation): Sigmoid()\n",
            "          )\n",
            "          (3): Conv2dNormActivation(\n",
            "            (0): Conv2d(1248, 208, kernel_size=(1, 1), stride=(1, 1), bias=False)\n",
            "            (1): BatchNorm2d(208, eps=1e-05, momentum=0.1, affine=True, track_running_stats=True)\n",
            "          )\n",
            "        )\n",
            "        (stochastic_depth): StochasticDepth(p=0.17391304347826086, mode=row)\n",
            "      )\n",
            "    )\n",
            "    (1): Sequential(\n",
            "      (0): MBConv(\n",
            "        (block): Sequential(\n",
            "          (0): Conv2dNormActivation(\n",
            "            (0): Conv2d(208, 1248, kernel_size=(1, 1), stride=(1, 1), bias=False)\n",
            "            (1): BatchNorm2d(1248, eps=1e-05, momentum=0.1, affine=True, track_running_stats=True)\n",
            "            (2): SiLU(inplace=True)\n",
            "          )\n",
            "          (1): Conv2dNormActivation(\n",
            "            (0): Conv2d(1248, 1248, kernel_size=(3, 3), stride=(1, 1), padding=(1, 1), groups=1248, bias=False)\n",
            "            (1): BatchNorm2d(1248, eps=1e-05, momentum=0.1, affine=True, track_running_stats=True)\n",
            "            (2): SiLU(inplace=True)\n",
            "          )\n",
            "          (2): SqueezeExcitation(\n",
            "            (avgpool): AdaptiveAvgPool2d(output_size=1)\n",
            "            (fc1): Conv2d(1248, 52, kernel_size=(1, 1), stride=(1, 1))\n",
            "            (fc2): Conv2d(52, 1248, kernel_size=(1, 1), stride=(1, 1))\n",
            "            (activation): SiLU(inplace=True)\n",
            "            (scale_activation): Sigmoid()\n",
            "          )\n",
            "          (3): Conv2dNormActivation(\n",
            "            (0): Conv2d(1248, 352, kernel_size=(1, 1), stride=(1, 1), bias=False)\n",
            "            (1): BatchNorm2d(352, eps=1e-05, momentum=0.1, affine=True, track_running_stats=True)\n",
            "          )\n",
            "        )\n",
            "        (stochastic_depth): StochasticDepth(p=0.1826086956521739, mode=row)\n",
            "      )\n",
            "      (1): MBConv(\n",
            "        (block): Sequential(\n",
            "          (0): Conv2dNormActivation(\n",
            "            (0): Conv2d(352, 2112, kernel_size=(1, 1), stride=(1, 1), bias=False)\n",
            "            (1): BatchNorm2d(2112, eps=1e-05, momentum=0.1, affine=True, track_running_stats=True)\n",
            "            (2): SiLU(inplace=True)\n",
            "          )\n",
            "          (1): Conv2dNormActivation(\n",
            "            (0): Conv2d(2112, 2112, kernel_size=(3, 3), stride=(1, 1), padding=(1, 1), groups=2112, bias=False)\n",
            "            (1): BatchNorm2d(2112, eps=1e-05, momentum=0.1, affine=True, track_running_stats=True)\n",
            "            (2): SiLU(inplace=True)\n",
            "          )\n",
            "          (2): SqueezeExcitation(\n",
            "            (avgpool): AdaptiveAvgPool2d(output_size=1)\n",
            "            (fc1): Conv2d(2112, 88, kernel_size=(1, 1), stride=(1, 1))\n",
            "            (fc2): Conv2d(88, 2112, kernel_size=(1, 1), stride=(1, 1))\n",
            "            (activation): SiLU(inplace=True)\n",
            "            (scale_activation): Sigmoid()\n",
            "          )\n",
            "          (3): Conv2dNormActivation(\n",
            "            (0): Conv2d(2112, 352, kernel_size=(1, 1), stride=(1, 1), bias=False)\n",
            "            (1): BatchNorm2d(352, eps=1e-05, momentum=0.1, affine=True, track_running_stats=True)\n",
            "          )\n",
            "        )\n",
            "        (stochastic_depth): StochasticDepth(p=0.19130434782608696, mode=row)\n",
            "      )\n",
            "    )\n",
            "    (2): Conv2dNormActivation(\n",
            "      (0): Conv2d(352, 1408, kernel_size=(1, 1), stride=(1, 1), bias=False)\n",
            "      (1): BatchNorm2d(1408, eps=1e-05, momentum=0.1, affine=True, track_running_stats=True)\n",
            "      (2): SiLU(inplace=True)\n",
            "    )\n",
            "  )\n",
            "  (p3): Conv2d(1408, 256, kernel_size=(1, 1), stride=(1, 1))\n",
            "  (p2): Conv2d(120, 128, kernel_size=(1, 1), stride=(1, 1))\n",
            "  (p1): Conv2d(48, 64, kernel_size=(1, 1), stride=(1, 1))\n",
            "  (dropout): Dropout(p=0.5, inplace=False)\n",
            "  (upsample3): ConvTranspose2d(256, 128, kernel_size=(2, 2), stride=(2, 2))\n",
            "  (upsample2): ConvTranspose2d(128, 64, kernel_size=(2, 2), stride=(2, 2))\n",
            "  (upsample1): ConvTranspose2d(64, 64, kernel_size=(2, 2), stride=(2, 2))\n",
            "  (final_upsample): ConvTranspose2d(64, 4, kernel_size=(2, 2), stride=(2, 2))\n",
            "  (segmentation_head): Conv2d(64, 4, kernel_size=(1, 1), stride=(1, 1))\n",
            "  (classification_head): Linear(in_features=35200, out_features=4, bias=True)\n",
            ")\n"
          ]
        }
      ],
      "source": [
        "# Define the number of input channels and output classes\n",
        "n_channels = 3  # RGB satellite images\n",
        "n_segmentation_classes = 4  # Number of segmentation classes\n",
        "n_classification_classes = 4  # Number of classification classes\n",
        "\n",
        "# Initialize your FPN with EfficientNet Backbone model\n",
        "fpn_model = FPN(n_segmentation_classes=n_segmentation_classes, n_classification_classes=n_classification_classes)\n",
        "model = fpn_model.to(device)\n",
        "\n",
        "# Define the loss functions\n",
        "criterion_classifier = nn.CrossEntropyLoss()\n",
        "criterion_segmentation = nn.CrossEntropyLoss()\n",
        "\n",
        "# Define the optimizer (same as before)\n",
        "optimizer = optim.Adam(fpn_model.parameters(), lr=1e-4)\n",
        "\n",
        "# Print the model to verify\n",
        "print(fpn_model)\n"
      ]
    },
    {
      "cell_type": "markdown",
      "metadata": {
        "id": "pFqF9XSGpghr"
      },
      "source": [
        "### Sanity Check to test if data fits in the model"
      ]
    },
    {
      "cell_type": "code",
      "execution_count": 114,
      "metadata": {
        "colab": {
          "base_uri": "https://localhost:8080/"
        },
        "id": "sfNSpvb3XQNl",
        "outputId": "280f065a-c2ab-4357-b36d-c48f6b884196"
      },
      "outputs": [
        {
          "name": "stdout",
          "output_type": "stream",
          "text": [
            "Classification Output Shape: torch.Size([16, 4])\n",
            "Segmentation Output Shape: torch.Size([16, 4, 160, 160])\n"
          ]
        }
      ],
      "source": [
        "# Sample test with random input\n",
        "sample_images = torch.randn(16, 3, 160, 160)  # Replace with your actual input tensor\n",
        "model.eval()\n",
        "with torch.no_grad():\n",
        "    classification_output, segmentation_output = model(sample_images)\n",
        "    print(\"Classification Output Shape:\", classification_output.shape)\n",
        "    print(\"Segmentation Output Shape:\", segmentation_output.shape)"
      ]
    },
    {
      "cell_type": "markdown",
      "metadata": {
        "id": "X3F7Way-pjbx"
      },
      "source": [
        "### Training Loop\n"
      ]
    },
    {
      "cell_type": "markdown",
      "metadata": {
        "id": "YtcYhhzD8ybx"
      },
      "source": [
        "### TODO: Might need to add save best epoch, lr scheduler, early stopping etc."
      ]
    },
    {
      "cell_type": "code",
      "execution_count": 115,
      "metadata": {
        "colab": {
          "base_uri": "https://localhost:8080/"
        },
        "id": "lxZXbz4c1XQN",
        "outputId": "223003f2-7966-44fd-bca8-89b4c57b39b1"
      },
      "outputs": [
        {
          "name": "stderr",
          "output_type": "stream",
          "text": [
            "Epoch [1/20]: 100%|██████████| 101/101 [01:08<00:00,  1.47it/s, loss=1.66]\n"
          ]
        },
        {
          "name": "stdout",
          "output_type": "stream",
          "text": [
            "\n",
            "Epoch [1/20]\n",
            "Train Loss: 3.0971, Train Accuracy: 0.5835, Train F1 Score: 0.5707\n",
            "Validation Loss: 1.8391, Validation Accuracy: 0.6998, Validation F1 Score: 0.6963\n"
          ]
        },
        {
          "name": "stderr",
          "output_type": "stream",
          "text": [
            "Epoch [2/20]: 100%|██████████| 101/101 [01:07<00:00,  1.49it/s, loss=1.26]\n"
          ]
        },
        {
          "name": "stdout",
          "output_type": "stream",
          "text": [
            "\n",
            "Epoch [2/20]\n",
            "Train Loss: 1.3732, Train Accuracy: 0.7748, Train F1 Score: 0.7700\n",
            "Validation Loss: 1.4366, Validation Accuracy: 0.7336, Validation F1 Score: 0.7345\n"
          ]
        },
        {
          "name": "stderr",
          "output_type": "stream",
          "text": [
            "Epoch [3/20]: 100%|██████████| 101/101 [01:08<00:00,  1.47it/s, loss=0.771]\n"
          ]
        },
        {
          "name": "stdout",
          "output_type": "stream",
          "text": [
            "\n",
            "Epoch [3/20]\n",
            "Train Loss: 0.9585, Train Accuracy: 0.8552, Train F1 Score: 0.8541\n",
            "Validation Loss: 1.2716, Validation Accuracy: 0.7378, Validation F1 Score: 0.7370\n"
          ]
        },
        {
          "name": "stderr",
          "output_type": "stream",
          "text": [
            "Epoch [4/20]: 100%|██████████| 101/101 [01:08<00:00,  1.47it/s, loss=0.859]\n"
          ]
        },
        {
          "name": "stdout",
          "output_type": "stream",
          "text": [
            "\n",
            "Epoch [4/20]\n",
            "Train Loss: 0.7311, Train Accuracy: 0.9109, Train F1 Score: 0.9104\n",
            "Validation Loss: 1.2121, Validation Accuracy: 0.7717, Validation F1 Score: 0.7693\n"
          ]
        },
        {
          "name": "stderr",
          "output_type": "stream",
          "text": [
            "Epoch [5/20]: 100%|██████████| 101/101 [01:08<00:00,  1.47it/s, loss=0.476]\n"
          ]
        },
        {
          "name": "stdout",
          "output_type": "stream",
          "text": [
            "\n",
            "Epoch [5/20]\n",
            "Train Loss: 0.5706, Train Accuracy: 0.9585, Train F1 Score: 0.9584\n",
            "Validation Loss: 1.1712, Validation Accuracy: 0.7717, Validation F1 Score: 0.7693\n"
          ]
        },
        {
          "name": "stderr",
          "output_type": "stream",
          "text": [
            "Epoch [6/20]: 100%|██████████| 101/101 [01:08<00:00,  1.47it/s, loss=0.613]\n"
          ]
        },
        {
          "name": "stdout",
          "output_type": "stream",
          "text": [
            "\n",
            "Epoch [6/20]\n",
            "Train Loss: 0.5185, Train Accuracy: 0.9511, Train F1 Score: 0.9511\n",
            "Validation Loss: 1.1857, Validation Accuracy: 0.7463, Validation F1 Score: 0.7463\n"
          ]
        },
        {
          "name": "stderr",
          "output_type": "stream",
          "text": [
            "Epoch [7/20]: 100%|██████████| 101/101 [01:08<00:00,  1.47it/s, loss=0.39]\n"
          ]
        },
        {
          "name": "stdout",
          "output_type": "stream",
          "text": [
            "\n",
            "Epoch [7/20]\n",
            "Train Loss: 0.4365, Train Accuracy: 0.9752, Train F1 Score: 0.9752\n",
            "Validation Loss: 1.1865, Validation Accuracy: 0.7611, Validation F1 Score: 0.7589\n"
          ]
        },
        {
          "name": "stderr",
          "output_type": "stream",
          "text": [
            "Epoch [8/20]: 100%|██████████| 101/101 [01:08<00:00,  1.48it/s, loss=0.518]\n"
          ]
        },
        {
          "name": "stdout",
          "output_type": "stream",
          "text": [
            "\n",
            "Epoch [8/20]\n",
            "Train Loss: 0.3962, Train Accuracy: 0.9790, Train F1 Score: 0.9790\n",
            "Validation Loss: 1.1786, Validation Accuracy: 0.7569, Validation F1 Score: 0.7535\n"
          ]
        },
        {
          "name": "stderr",
          "output_type": "stream",
          "text": [
            "Epoch [9/20]: 100%|██████████| 101/101 [01:08<00:00,  1.48it/s, loss=0.404]\n"
          ]
        },
        {
          "name": "stdout",
          "output_type": "stream",
          "text": [
            "\n",
            "Epoch [9/20]\n",
            "Train Loss: 0.3782, Train Accuracy: 0.9808, Train F1 Score: 0.9808\n",
            "Validation Loss: 1.2088, Validation Accuracy: 0.7484, Validation F1 Score: 0.7457\n"
          ]
        },
        {
          "name": "stderr",
          "output_type": "stream",
          "text": [
            "Epoch [10/20]: 100%|██████████| 101/101 [01:08<00:00,  1.48it/s, loss=0.308]\n"
          ]
        },
        {
          "name": "stdout",
          "output_type": "stream",
          "text": [
            "\n",
            "Epoch [10/20]\n",
            "Train Loss: 0.3568, Train Accuracy: 0.9802, Train F1 Score: 0.9802\n",
            "Validation Loss: 1.2253, Validation Accuracy: 0.7632, Validation F1 Score: 0.7618\n"
          ]
        },
        {
          "name": "stderr",
          "output_type": "stream",
          "text": [
            "Epoch [11/20]: 100%|██████████| 101/101 [01:08<00:00,  1.48it/s, loss=0.382]\n"
          ]
        },
        {
          "name": "stdout",
          "output_type": "stream",
          "text": [
            "\n",
            "Epoch [11/20]\n",
            "Train Loss: 0.3481, Train Accuracy: 0.9821, Train F1 Score: 0.9820\n",
            "Validation Loss: 1.2513, Validation Accuracy: 0.7653, Validation F1 Score: 0.7641\n"
          ]
        },
        {
          "name": "stderr",
          "output_type": "stream",
          "text": [
            "Epoch [12/20]: 100%|██████████| 101/101 [01:09<00:00,  1.46it/s, loss=0.217]\n"
          ]
        },
        {
          "name": "stdout",
          "output_type": "stream",
          "text": [
            "\n",
            "Epoch [12/20]\n",
            "Train Loss: 0.3317, Train Accuracy: 0.9858, Train F1 Score: 0.9857\n",
            "Validation Loss: 1.2461, Validation Accuracy: 0.7674, Validation F1 Score: 0.7641\n"
          ]
        },
        {
          "name": "stderr",
          "output_type": "stream",
          "text": [
            "Epoch [13/20]: 100%|██████████| 101/101 [01:09<00:00,  1.46it/s, loss=0.324]\n"
          ]
        },
        {
          "name": "stdout",
          "output_type": "stream",
          "text": [
            "\n",
            "Epoch [13/20]\n",
            "Train Loss: 0.3272, Train Accuracy: 0.9858, Train F1 Score: 0.9858\n",
            "Validation Loss: 1.2775, Validation Accuracy: 0.7611, Validation F1 Score: 0.7599\n"
          ]
        },
        {
          "name": "stderr",
          "output_type": "stream",
          "text": [
            "Epoch [14/20]: 100%|██████████| 101/101 [01:08<00:00,  1.47it/s, loss=0.273]\n"
          ]
        },
        {
          "name": "stdout",
          "output_type": "stream",
          "text": [
            "\n",
            "Epoch [14/20]\n",
            "Train Loss: 0.3038, Train Accuracy: 0.9901, Train F1 Score: 0.9901\n",
            "Validation Loss: 1.3183, Validation Accuracy: 0.7526, Validation F1 Score: 0.7499\n"
          ]
        },
        {
          "name": "stderr",
          "output_type": "stream",
          "text": [
            "Epoch [15/20]: 100%|██████████| 101/101 [01:08<00:00,  1.48it/s, loss=0.256]\n"
          ]
        },
        {
          "name": "stdout",
          "output_type": "stream",
          "text": [
            "\n",
            "Epoch [15/20]\n",
            "Train Loss: 0.2985, Train Accuracy: 0.9895, Train F1 Score: 0.9895\n",
            "Validation Loss: 1.3204, Validation Accuracy: 0.7590, Validation F1 Score: 0.7559\n"
          ]
        },
        {
          "name": "stderr",
          "output_type": "stream",
          "text": [
            "Epoch [16/20]: 100%|██████████| 101/101 [01:08<00:00,  1.47it/s, loss=0.24]\n"
          ]
        },
        {
          "name": "stdout",
          "output_type": "stream",
          "text": [
            "\n",
            "Epoch [16/20]\n",
            "Train Loss: 0.2901, Train Accuracy: 0.9889, Train F1 Score: 0.9889\n",
            "Validation Loss: 1.3227, Validation Accuracy: 0.7569, Validation F1 Score: 0.7571\n"
          ]
        },
        {
          "name": "stderr",
          "output_type": "stream",
          "text": [
            "Epoch [17/20]: 100%|██████████| 101/101 [01:08<00:00,  1.48it/s, loss=0.375]\n"
          ]
        },
        {
          "name": "stdout",
          "output_type": "stream",
          "text": [
            "\n",
            "Epoch [17/20]\n",
            "Train Loss: 0.2877, Train Accuracy: 0.9876, Train F1 Score: 0.9876\n",
            "Validation Loss: 1.4052, Validation Accuracy: 0.7294, Validation F1 Score: 0.7259\n"
          ]
        },
        {
          "name": "stderr",
          "output_type": "stream",
          "text": [
            "Epoch [18/20]: 100%|██████████| 101/101 [01:08<00:00,  1.48it/s, loss=0.307]\n"
          ]
        },
        {
          "name": "stdout",
          "output_type": "stream",
          "text": [
            "\n",
            "Epoch [18/20]\n",
            "Train Loss: 0.2758, Train Accuracy: 0.9907, Train F1 Score: 0.9907\n",
            "Validation Loss: 1.3300, Validation Accuracy: 0.7548, Validation F1 Score: 0.7534\n"
          ]
        },
        {
          "name": "stderr",
          "output_type": "stream",
          "text": [
            "Epoch [19/20]: 100%|██████████| 101/101 [01:08<00:00,  1.48it/s, loss=0.232]\n"
          ]
        },
        {
          "name": "stdout",
          "output_type": "stream",
          "text": [
            "\n",
            "Epoch [19/20]\n",
            "Train Loss: 0.2809, Train Accuracy: 0.9876, Train F1 Score: 0.9876\n",
            "Validation Loss: 1.3771, Validation Accuracy: 0.7632, Validation F1 Score: 0.7615\n"
          ]
        },
        {
          "name": "stderr",
          "output_type": "stream",
          "text": [
            "Epoch [20/20]: 100%|██████████| 101/101 [01:08<00:00,  1.48it/s, loss=0.21]\n"
          ]
        },
        {
          "name": "stdout",
          "output_type": "stream",
          "text": [
            "\n",
            "Epoch [20/20]\n",
            "Train Loss: 0.2636, Train Accuracy: 0.9882, Train F1 Score: 0.9882\n",
            "Validation Loss: 1.3931, Validation Accuracy: 0.7611, Validation F1 Score: 0.7570\n"
          ]
        }
      ],
      "source": [
        "from tqdm import tqdm\n",
        "import torch\n",
        "import torch.nn.functional as F\n",
        "from sklearn.metrics import f1_score, accuracy_score\n",
        "import matplotlib.pyplot as plt\n",
        "\n",
        "# Initialize lists for metrics\n",
        "train_losses = []\n",
        "train_accuracies = []\n",
        "val_losses = []\n",
        "val_accuracies = []\n",
        "\n",
        "# Training loop\n",
        "num_epochs = 20\n",
        "for epoch in range(num_epochs):\n",
        "    # Training Phase\n",
        "    model.train()  # Set model to training mode\n",
        "    running_loss = 0.0\n",
        "    all_labels = []\n",
        "    all_preds = []\n",
        "\n",
        "    # Wrap the training data loader with tqdm\n",
        "    train_loop = tqdm(trainloader, total=len(trainloader), desc=f\"Epoch [{epoch+1}/{num_epochs}]\", leave=True)\n",
        "\n",
        "    for image, seg, merged_label in train_loop:\n",
        "        images = image.to(device)\n",
        "        segmentation_masks = F.one_hot(seg.long(), num_classes=n_segmentation_classes).permute(0, 3, 1, 2).float().to(device)\n",
        "        segmentation_targets = seg.long().to(device)  # Targets should be class indices (LongTensor)\n",
        "        labels = merged_label.to(device)\n",
        "\n",
        "        # Zero the gradients\n",
        "        optimizer.zero_grad()\n",
        "\n",
        "        # Forward pass: get outputs from the model\n",
        "        classification_output, segmentation_output = model(images)\n",
        "\n",
        "        # Compute losses\n",
        "        loss_classifier = criterion_classifier(classification_output, labels)  # Classification loss\n",
        "        loss_segmentation = criterion_segmentation(segmentation_output, segmentation_targets)  # Segmentation loss\n",
        "\n",
        "        # Combine losses\n",
        "        loss = loss_classifier + loss_segmentation\n",
        "\n",
        "        # Backward pass and optimization\n",
        "        loss.backward()\n",
        "        optimizer.step()\n",
        "\n",
        "        # Update running loss\n",
        "        running_loss += loss.item()\n",
        "\n",
        "        # Collect predictions for metrics\n",
        "        preds = torch.argmax(classification_output, dim=1)\n",
        "        all_labels.extend(labels.cpu().numpy())\n",
        "        all_preds.extend(preds.cpu().numpy())\n",
        "\n",
        "        # Update tqdm progress bar\n",
        "        train_loop.set_postfix(loss=loss.item())\n",
        "\n",
        "    # Calculate training metrics\n",
        "    train_loss = running_loss / len(trainloader)\n",
        "    train_accuracy = accuracy_score(all_labels, all_preds)\n",
        "    train_f1 = f1_score(all_labels, all_preds, average='weighted')\n",
        "\n",
        "    # Store metrics\n",
        "    train_losses.append(train_loss)\n",
        "    train_accuracies.append(train_accuracy)\n",
        "\n",
        "    # Print training metrics after the epoch\n",
        "    print(f'\\nEpoch [{epoch+1}/{num_epochs}]')\n",
        "    print(f'Train Loss: {train_loss:.4f}, Train Accuracy: {train_accuracy:.4f}, Train F1 Score: {train_f1:.4f}')\n",
        "\n",
        "    # Validation Phase\n",
        "    model.eval()  # Set model to evaluation mode\n",
        "    running_val_loss = 0.0\n",
        "    val_all_labels = []\n",
        "    val_all_preds = []\n",
        "\n",
        "    with torch.no_grad():\n",
        "        for image, seg, merged_label in valloader:\n",
        "            images = image.to(device)\n",
        "            segmentation_masks = F.one_hot(seg.long(), num_classes=n_segmentation_classes).permute(0, 3, 1, 2).float().to(device)\n",
        "            segmentation_targets = seg.long().to(device)  # Targets should be class indices (LongTensor)\n",
        "            labels = merged_label.to(device)\n",
        "\n",
        "            # Forward pass\n",
        "            classification_output, segmentation_output = model(images)\n",
        "\n",
        "            # Compute losses\n",
        "            loss_classifier = criterion_classifier(classification_output, labels)\n",
        "            loss_segmentation = criterion_segmentation(segmentation_output, segmentation_targets)\n",
        "            total_loss = loss_classifier + loss_segmentation\n",
        "\n",
        "            # Update validation loss\n",
        "            running_val_loss += total_loss.item()\n",
        "\n",
        "            # Collect predictions for metrics\n",
        "            preds = torch.argmax(classification_output, dim=1)\n",
        "            val_all_labels.extend(labels.cpu().numpy())\n",
        "            val_all_preds.extend(preds.cpu().numpy())\n",
        "\n",
        "    # Calculate validation metrics\n",
        "    val_loss = running_val_loss / len(valloader)\n",
        "    val_accuracy = accuracy_score(val_all_labels, val_all_preds)\n",
        "    val_f1 = f1_score(val_all_labels, val_all_preds, average='weighted')\n",
        "\n",
        "    # Store metrics\n",
        "    val_losses.append(val_loss)\n",
        "    val_accuracies.append(val_accuracy)\n",
        "\n",
        "    # Print validation metrics after the epoch\n",
        "    print(f'Validation Loss: {val_loss:.4f}, Validation Accuracy: {val_accuracy:.4f}, Validation F1 Score: {val_f1:.4f}')\n",
        "\n"
      ]
    },
    {
      "cell_type": "code",
      "execution_count": 116,
      "metadata": {
        "colab": {
          "base_uri": "https://localhost:8080/",
          "height": 453
        },
        "id": "2XbDJhCz3juk",
        "outputId": "18cc9015-f628-4b8c-db7c-9076841749f0"
      },
      "outputs": [
        {
          "data": {
            "image/png": "[encoded data removed]",
            "text/plain": [
              "<Figure size 1200x500 with 2 Axes>"
            ]
          },
          "metadata": {},
          "output_type": "display_data"
        }
      ],
      "source": [
        "# Plotting Losses and Accuracies\n",
        "plt.figure(figsize=(12, 5))\n",
        "\n",
        "plt.subplot(1, 2, 1)\n",
        "plt.plot(train_losses, label='Training Loss', marker='o')\n",
        "plt.plot(val_losses, label='Validation Loss', marker='o')\n",
        "plt.title('Losses Over Epochs')\n",
        "plt.xlabel('Epochs')\n",
        "plt.ylabel('Loss')\n",
        "plt.legend()\n",
        "plt.grid()\n",
        "\n",
        "plt.subplot(1, 2, 2)\n",
        "plt.plot(train_accuracies, label='Training Accuracy', marker='o')\n",
        "plt.plot(val_accuracies, label='Validation Accuracy', marker='o')\n",
        "plt.title('Accuracies Over Epochs')\n",
        "plt.xlabel('Epochs')\n",
        "plt.ylabel('Accuracy')\n",
        "plt.legend()\n",
        "plt.grid()\n",
        "\n",
        "plt.tight_layout()\n",
        "plt.show()\n"
      ]
    },
    {
      "cell_type": "markdown",
      "metadata": {
        "id": "7-3AbbKz5Lr1"
      },
      "source": [
        "# Evaluate Performance on Test Data"
      ]
    },
    {
      "cell_type": "code",
      "execution_count": 117,
      "metadata": {
        "colab": {
          "base_uri": "https://localhost:8080/"
        },
        "id": "4vUb-_mf5OY0",
        "outputId": "bf078183-9daa-4081-9d26-8b2ed59c6693"
      },
      "outputs": [
        {
          "name": "stdout",
          "output_type": "stream",
          "text": [
            "Test Loss: 1.5669, Test Accuracy: 0.7246, Test F1 Score: 0.7192\n"
          ]
        }
      ],
      "source": [
        "# Initialize lists for test metrics\n",
        "test_losses = []\n",
        "test_accuracies = []\n",
        "\n",
        "# Testing Phase\n",
        "model.eval()  # Set model to evaluation mode\n",
        "running_test_loss = 0.0\n",
        "test_all_labels = []\n",
        "test_all_preds = []\n",
        "\n",
        "with torch.no_grad():\n",
        "    for image, seg, merged_label in testloader:  # Assuming you have a test data loader\n",
        "        images = image.to(device)\n",
        "        segmentation_masks = F.one_hot(seg.long(), num_classes=n_segmentation_classes).permute(0, 3, 1, 2).float().to(device)\n",
        "        segmentation_targets = seg.long().to(device)  # Targets should be class indices (LongTensor)\n",
        "        labels = merged_label.to(device)\n",
        "\n",
        "        # Forward pass\n",
        "        classification_output, segmentation_output = model(images)\n",
        "\n",
        "        # Compute losses\n",
        "        loss_classifier = criterion_classifier(classification_output, labels)\n",
        "        loss_segmentation = criterion_segmentation(segmentation_output, segmentation_targets)\n",
        "        total_test_loss = loss_classifier + loss_segmentation\n",
        "\n",
        "        # Update test loss\n",
        "        running_test_loss += total_test_loss.item()\n",
        "\n",
        "        # Collect predictions for metrics\n",
        "        preds = torch.argmax(classification_output, dim=1)\n",
        "        test_all_labels.extend(labels.cpu().numpy())\n",
        "        test_all_preds.extend(preds.cpu().numpy())\n",
        "\n",
        "# Calculate test metrics\n",
        "test_loss = running_test_loss / len(testloader)\n",
        "test_accuracy = accuracy_score(test_all_labels, test_all_preds)\n",
        "test_f1 = f1_score(test_all_labels, test_all_preds, average='weighted')\n",
        "\n",
        "# Print test metrics\n",
        "print(f'Test Loss: {test_loss:.4f}, Test Accuracy: {test_accuracy:.4f}, Test F1 Score: {test_f1:.4f}')\n",
        "\n",
        "# Store metrics for plotting\n",
        "test_losses.append(test_loss)\n",
        "test_accuracies.append(test_accuracy)"
      ]
    }
  ],
  "metadata": {
    "accelerator": "TPU",
    "colab": {
      "gpuType": "V28",
      "provenance": []
    },
    "kernelspec": {
      "display_name": "Python 3",
      "name": "python3"
    },
    "language_info": {
      "name": "python"
    }
  },
  "nbformat": 4,
  "nbformat_minor": 0
}
