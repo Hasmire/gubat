{
  "cells": [
    {
      "cell_type": "markdown",
      "metadata": {
        "id": "DGHbK_mttAdl"
      },
      "source": [
        "# Install and Import Packages"
      ]
    },
    {
      "cell_type": "code",
      "execution_count": 1,
      "metadata": {
        "colab": {
          "base_uri": "https://localhost:8080/"
        },
        "id": "uGJ5aGAeCQg5",
        "outputId": "c0c42b5e-5dbe-4039-e3a4-9b1f176d0e92"
      },
      "outputs": [
        {
          "name": "stdout",
          "output_type": "stream",
          "text": [
            "Collecting shapely==1.7.1\n",
            "  Downloading Shapely-1.7.1.tar.gz (383 kB)\n",
            "\u001b[?25l     \u001b[90m━━━━━━━━━━━━━━━━━━━━━━━━━━━━━━━━━━━━━━━━\u001b[0m \u001b[32m0.0/383.2 kB\u001b[0m \u001b[31m?\u001b[0m eta \u001b[36m-:--:--\u001b[0m\r\u001b[2K     \u001b[91m━━━━━━━━━━━━━━━━━━━━━━━━━━━━━\u001b[0m\u001b[91m╸\u001b[0m\u001b[90m━━━━━━━━━━\u001b[0m \u001b[32m286.7/383.2 kB\u001b[0m \u001b[31m8.8 MB/s\u001b[0m eta \u001b[36m0:00:01\u001b[0m\r\u001b[2K     \u001b[90m━━━━━━━━━━━━━━━━━━━━━━━━━━━━━━━━━━━━━━━━\u001b[0m \u001b[32m383.2/383.2 kB\u001b[0m \u001b[31m6.0 MB/s\u001b[0m eta \u001b[36m0:00:00\u001b[0m\n",
            "\u001b[?25h  Preparing metadata (setup.py) ... \u001b[?25l\u001b[?25hdone\n",
            "Building wheels for collected packages: shapely\n",
            "  Building wheel for shapely (setup.py) ... \u001b[?25l\u001b[?25hdone\n",
            "  Created wheel for shapely: filename=Shapely-1.7.1-cp310-cp310-linux_x86_64.whl size=602599 sha256=dc7297e11ccd4f73db7b13e83ba9e3235e0026b04e3d98ae0f74427438910d37\n",
            "  Stored in directory: /root/.cache/pip/wheels/2e/fa/97/c85f587c35afcaf4a81c481741d36592518d1e50445572f0d4\n",
            "Successfully built shapely\n",
            "Installing collected packages: shapely\n",
            "Successfully installed shapely-1.7.1\n",
            "Collecting rasterio\n",
            "  Downloading rasterio-1.4.1-cp310-cp310-manylinux_2_17_x86_64.manylinux2014_x86_64.whl.metadata (9.1 kB)\n",
            "Collecting affine (from rasterio)\n",
            "  Downloading affine-2.4.0-py3-none-any.whl.metadata (4.0 kB)\n",
            "Requirement already satisfied: attrs in /usr/local/lib/python3.10/dist-packages (from rasterio) (24.2.0)\n",
            "Requirement already satisfied: certifi in /usr/local/lib/python3.10/dist-packages (from rasterio) (2024.8.30)\n",
            "Requirement already satisfied: click>=4.0 in /usr/local/lib/python3.10/dist-packages (from rasterio) (8.1.7)\n",
            "Collecting cligj>=0.5 (from rasterio)\n",
            "  Downloading cligj-0.7.2-py3-none-any.whl.metadata (5.0 kB)\n",
            "Requirement already satisfied: numpy>=1.24 in /usr/local/lib/python3.10/dist-packages (from rasterio) (1.26.4)\n",
            "Collecting click-plugins (from rasterio)\n",
            "  Downloading click_plugins-1.1.1-py2.py3-none-any.whl.metadata (6.4 kB)\n",
            "Requirement already satisfied: pyparsing in /usr/local/lib/python3.10/dist-packages (from rasterio) (3.2.0)\n",
            "Downloading rasterio-1.4.1-cp310-cp310-manylinux_2_17_x86_64.manylinux2014_x86_64.whl (22.2 MB)\n",
            "\u001b[2K   \u001b[90m━━━━━━━━━━━━━━━━━━━━━━━━━━━━━━━━━━━━━━━━\u001b[0m \u001b[32m22.2/22.2 MB\u001b[0m \u001b[31m67.4 MB/s\u001b[0m eta \u001b[36m0:00:00\u001b[0m\n",
            "\u001b[?25hDownloading cligj-0.7.2-py3-none-any.whl (7.1 kB)\n",
            "Downloading affine-2.4.0-py3-none-any.whl (15 kB)\n",
            "Downloading click_plugins-1.1.1-py2.py3-none-any.whl (7.5 kB)\n",
            "Installing collected packages: cligj, click-plugins, affine, rasterio\n",
            "Successfully installed affine-2.4.0 click-plugins-1.1.1 cligj-0.7.2 rasterio-1.4.1\n",
            "Collecting albumentations\n",
            "  Downloading albumentations-1.4.18-py3-none-any.whl.metadata (32 kB)\n",
            "Requirement already satisfied: numpy>=1.24.4 in /usr/local/lib/python3.10/dist-packages (from albumentations) (1.26.4)\n",
            "Requirement already satisfied: scipy>=1.10.0 in /usr/local/lib/python3.10/dist-packages (from albumentations) (1.13.1)\n",
            "Requirement already satisfied: scikit-image>=0.21.0 in /usr/local/lib/python3.10/dist-packages (from albumentations) (0.24.0)\n",
            "Requirement already satisfied: PyYAML in /usr/local/lib/python3.10/dist-packages (from albumentations) (6.0.2)\n",
            "Requirement already satisfied: pydantic>=2.7.0 in /usr/local/lib/python3.10/dist-packages (from albumentations) (2.9.2)\n",
            "Collecting albucore==0.0.17 (from albumentations)\n",
            "  Downloading albucore-0.0.17-py3-none-any.whl.metadata (3.1 kB)\n",
            "Collecting eval-type-backport (from albumentations)\n",
            "  Downloading eval_type_backport-0.2.0-py3-none-any.whl.metadata (2.2 kB)\n",
            "Collecting opencv-python-headless>=4.9.0.80 (from albumentations)\n",
            "  Downloading opencv_python_headless-4.10.0.84-cp37-abi3-manylinux_2_17_x86_64.manylinux2014_x86_64.whl.metadata (20 kB)\n",
            "Requirement already satisfied: annotated-types>=0.6.0 in /usr/local/lib/python3.10/dist-packages (from pydantic>=2.7.0->albumentations) (0.7.0)\n",
            "Requirement already satisfied: pydantic-core==2.23.4 in /usr/local/lib/python3.10/dist-packages (from pydantic>=2.7.0->albumentations) (2.23.4)\n",
            "Requirement already satisfied: typing-extensions>=4.6.1 in /usr/local/lib/python3.10/dist-packages (from pydantic>=2.7.0->albumentations) (4.12.2)\n",
            "Requirement already satisfied: networkx>=2.8 in /usr/local/lib/python3.10/dist-packages (from scikit-image>=0.21.0->albumentations) (3.4.1)\n",
            "Requirement already satisfied: pillow>=9.1 in /usr/local/lib/python3.10/dist-packages (from scikit-image>=0.21.0->albumentations) (11.0.0)\n",
            "Requirement already satisfied: imageio>=2.33 in /usr/local/lib/python3.10/dist-packages (from scikit-image>=0.21.0->albumentations) (2.36.0)\n",
            "Requirement already satisfied: tifffile>=2022.8.12 in /usr/local/lib/python3.10/dist-packages (from scikit-image>=0.21.0->albumentations) (2024.9.20)\n",
            "Requirement already satisfied: packaging>=21 in /usr/local/lib/python3.10/dist-packages (from scikit-image>=0.21.0->albumentations) (24.1)\n",
            "Requirement already satisfied: lazy-loader>=0.4 in /usr/local/lib/python3.10/dist-packages (from scikit-image>=0.21.0->albumentations) (0.4)\n",
            "Downloading albumentations-1.4.18-py3-none-any.whl (224 kB)\n",
            "\u001b[2K   \u001b[90m━━━━━━━━━━━━━━━━━━━━━━━━━━━━━━━━━━━━━━━━\u001b[0m \u001b[32m224.0/224.0 kB\u001b[0m \u001b[31m5.9 MB/s\u001b[0m eta \u001b[36m0:00:00\u001b[0m\n",
            "\u001b[?25hDownloading albucore-0.0.17-py3-none-any.whl (10 kB)\n",
            "Downloading opencv_python_headless-4.10.0.84-cp37-abi3-manylinux_2_17_x86_64.manylinux2014_x86_64.whl (49.9 MB)\n",
            "\u001b[2K   \u001b[90m━━━━━━━━━━━━━━━━━━━━━━━━━━━━━━━━━━━━━━━━\u001b[0m \u001b[32m49.9/49.9 MB\u001b[0m \u001b[31m20.0 MB/s\u001b[0m eta \u001b[36m0:00:00\u001b[0m\n",
            "\u001b[?25hDownloading eval_type_backport-0.2.0-py3-none-any.whl (5.9 kB)\n",
            "Installing collected packages: opencv-python-headless, eval-type-backport, albucore, albumentations\n",
            "Successfully installed albucore-0.0.17 albumentations-1.4.18 eval-type-backport-0.2.0 opencv-python-headless-4.10.0.84\n",
            "Collecting pytorch_metric_learning\n",
            "  Downloading pytorch_metric_learning-2.6.0-py3-none-any.whl.metadata (17 kB)\n",
            "Requirement already satisfied: numpy<2.0 in /usr/local/lib/python3.10/dist-packages (from pytorch_metric_learning) (1.26.4)\n",
            "Requirement already satisfied: scikit-learn in /usr/local/lib/python3.10/dist-packages (from pytorch_metric_learning) (1.5.2)\n",
            "Requirement already satisfied: torch>=1.6.0 in /usr/local/lib/python3.10/dist-packages (from pytorch_metric_learning) (2.4.0+cpu)\n",
            "Requirement already satisfied: tqdm in /usr/local/lib/python3.10/dist-packages (from pytorch_metric_learning) (4.66.5)\n",
            "Requirement already satisfied: filelock in /usr/local/lib/python3.10/dist-packages (from torch>=1.6.0->pytorch_metric_learning) (3.16.1)\n",
            "Requirement already satisfied: typing-extensions>=4.8.0 in /usr/local/lib/python3.10/dist-packages (from torch>=1.6.0->pytorch_metric_learning) (4.12.2)\n",
            "Requirement already satisfied: sympy in /usr/local/lib/python3.10/dist-packages (from torch>=1.6.0->pytorch_metric_learning) (1.13.3)\n",
            "Requirement already satisfied: networkx in /usr/local/lib/python3.10/dist-packages (from torch>=1.6.0->pytorch_metric_learning) (3.4.1)\n",
            "Requirement already satisfied: jinja2 in /usr/local/lib/python3.10/dist-packages (from torch>=1.6.0->pytorch_metric_learning) (3.1.4)\n",
            "Requirement already satisfied: fsspec in /usr/local/lib/python3.10/dist-packages (from torch>=1.6.0->pytorch_metric_learning) (2024.9.0)\n",
            "Requirement already satisfied: scipy>=1.6.0 in /usr/local/lib/python3.10/dist-packages (from scikit-learn->pytorch_metric_learning) (1.13.1)\n",
            "Requirement already satisfied: joblib>=1.2.0 in /usr/local/lib/python3.10/dist-packages (from scikit-learn->pytorch_metric_learning) (1.4.2)\n",
            "Requirement already satisfied: threadpoolctl>=3.1.0 in /usr/local/lib/python3.10/dist-packages (from scikit-learn->pytorch_metric_learning) (3.5.0)\n",
            "Requirement already satisfied: MarkupSafe>=2.0 in /usr/local/lib/python3.10/dist-packages (from jinja2->torch>=1.6.0->pytorch_metric_learning) (3.0.1)\n",
            "Requirement already satisfied: mpmath<1.4,>=1.1.0 in /usr/local/lib/python3.10/dist-packages (from sympy->torch>=1.6.0->pytorch_metric_learning) (1.3.0)\n",
            "Downloading pytorch_metric_learning-2.6.0-py3-none-any.whl (119 kB)\n",
            "\u001b[2K   \u001b[90m━━━━━━━━━━━━━━━━━━━━━━━━━━━━━━━━━━━━━━━━\u001b[0m \u001b[32m119.3/119.3 kB\u001b[0m \u001b[31m3.4 MB/s\u001b[0m eta \u001b[36m0:00:00\u001b[0m\n",
            "\u001b[?25hInstalling collected packages: pytorch_metric_learning\n",
            "Successfully installed pytorch_metric_learning-2.6.0\n",
            "Collecting timm\n",
            "  Downloading timm-1.0.11-py3-none-any.whl.metadata (48 kB)\n",
            "\u001b[2K     \u001b[90m━━━━━━━━━━━━━━━━━━━━━━━━━━━━━━━━━━━━━━━━\u001b[0m \u001b[32m48.4/48.4 kB\u001b[0m \u001b[31m2.0 MB/s\u001b[0m eta \u001b[36m0:00:00\u001b[0m\n",
            "\u001b[?25hRequirement already satisfied: torch in /usr/local/lib/python3.10/dist-packages (from timm) (2.4.0+cpu)\n",
            "Requirement already satisfied: torchvision in /usr/local/lib/python3.10/dist-packages (from timm) (0.19.0+cpu)\n",
            "Requirement already satisfied: pyyaml in /usr/local/lib/python3.10/dist-packages (from timm) (6.0.2)\n",
            "Requirement already satisfied: huggingface_hub in /usr/local/lib/python3.10/dist-packages (from timm) (0.24.7)\n",
            "Requirement already satisfied: safetensors in /usr/local/lib/python3.10/dist-packages (from timm) (0.4.5)\n",
            "Requirement already satisfied: filelock in /usr/local/lib/python3.10/dist-packages (from huggingface_hub->timm) (3.16.1)\n",
            "Requirement already satisfied: fsspec>=2023.5.0 in /usr/local/lib/python3.10/dist-packages (from huggingface_hub->timm) (2024.9.0)\n",
            "Requirement already satisfied: packaging>=20.9 in /usr/local/lib/python3.10/dist-packages (from huggingface_hub->timm) (24.1)\n",
            "Requirement already satisfied: requests in /usr/local/lib/python3.10/dist-packages (from huggingface_hub->timm) (2.32.3)\n",
            "Requirement already satisfied: tqdm>=4.42.1 in /usr/local/lib/python3.10/dist-packages (from huggingface_hub->timm) (4.66.5)\n",
            "Requirement already satisfied: typing-extensions>=3.7.4.3 in /usr/local/lib/python3.10/dist-packages (from huggingface_hub->timm) (4.12.2)\n",
            "Requirement already satisfied: sympy in /usr/local/lib/python3.10/dist-packages (from torch->timm) (1.13.3)\n",
            "Requirement already satisfied: networkx in /usr/local/lib/python3.10/dist-packages (from torch->timm) (3.4.1)\n",
            "Requirement already satisfied: jinja2 in /usr/local/lib/python3.10/dist-packages (from torch->timm) (3.1.4)\n",
            "Requirement already satisfied: numpy in /usr/local/lib/python3.10/dist-packages (from torchvision->timm) (1.26.4)\n",
            "Requirement already satisfied: pillow!=8.3.*,>=5.3.0 in /usr/local/lib/python3.10/dist-packages (from torchvision->timm) (11.0.0)\n",
            "Requirement already satisfied: MarkupSafe>=2.0 in /usr/local/lib/python3.10/dist-packages (from jinja2->torch->timm) (3.0.1)\n",
            "Requirement already satisfied: charset-normalizer<4,>=2 in /usr/local/lib/python3.10/dist-packages (from requests->huggingface_hub->timm) (3.4.0)\n",
            "Requirement already satisfied: idna<4,>=2.5 in /usr/local/lib/python3.10/dist-packages (from requests->huggingface_hub->timm) (3.10)\n",
            "Requirement already satisfied: urllib3<3,>=1.21.1 in /usr/local/lib/python3.10/dist-packages (from requests->huggingface_hub->timm) (2.2.3)\n",
            "Requirement already satisfied: certifi>=2017.4.17 in /usr/local/lib/python3.10/dist-packages (from requests->huggingface_hub->timm) (2024.8.30)\n",
            "Requirement already satisfied: mpmath<1.4,>=1.1.0 in /usr/local/lib/python3.10/dist-packages (from sympy->torch->timm) (1.3.0)\n",
            "Downloading timm-1.0.11-py3-none-any.whl (2.3 MB)\n",
            "\u001b[2K   \u001b[90m━━━━━━━━━━━━━━━━━━━━━━━━━━━━━━━━━━━━━━━━\u001b[0m \u001b[32m2.3/2.3 MB\u001b[0m \u001b[31m31.4 MB/s\u001b[0m eta \u001b[36m0:00:00\u001b[0m\n",
            "\u001b[?25hInstalling collected packages: timm\n",
            "Successfully installed timm-1.0.11\n",
            "Requirement already satisfied: imageio in /usr/local/lib/python3.10/dist-packages (2.36.0)\n",
            "Requirement already satisfied: numpy in /usr/local/lib/python3.10/dist-packages (from imageio) (1.26.4)\n",
            "Requirement already satisfied: pillow>=8.3.2 in /usr/local/lib/python3.10/dist-packages (from imageio) (11.0.0)\n"
          ]
        }
      ],
      "source": [
        "!pip3 install shapely==1.7.1\n",
        "!pip install rasterio\n",
        "!pip install albumentations\n",
        "!pip install pytorch_metric_learning\n",
        "!pip install timm\n",
        "!pip install imageio\n"
      ]
    },
    {
      "cell_type": "code",
      "execution_count": 2,
      "metadata": {
        "id": "1YumC3oFtxVg"
      },
      "outputs": [],
      "source": [
        "import warnings\n",
        "warnings.filterwarnings('ignore')"
      ]
    },
    {
      "cell_type": "markdown",
      "metadata": {
        "id": "JJfY-vb_s81b"
      },
      "source": [
        "- TODO: remove unused imports after finalizing notebook"
      ]
    },
    {
      "cell_type": "code",
      "execution_count": 30,
      "metadata": {
        "id": "KTjDLJvTTGYF"
      },
      "outputs": [],
      "source": [
        "# from model.resnet import *\n",
        "# from model.effnet import *\n",
        "# from model.unet import *\n",
        "# from utils.metrics import *\n",
        "# from utils.losses import *\n",
        "\n",
        "import os\n",
        "import pandas as pd\n",
        "import warnings\n",
        "import numpy as np\n",
        "from skimage import io, transform\n",
        "from rasterio.features import rasterize\n",
        "from shapely.ops import cascaded_union, unary_union\n",
        "from shapely.geometry import Polygon\n",
        "# from shapely.errors import ShapelyDeprecationWarning\n",
        "from torch.utils.data import Dataset\n",
        "import pickle\n",
        "import albumentations as A\n",
        "\n",
        "import torch\n",
        "import torch.nn as nn\n",
        "import torch.nn.functional as F\n",
        "from torch.utils.data import DataLoader\n",
        "from torchvision import transforms, utils, datasets, models\n",
        "from torch.autograd import Variable\n",
        "import torch.optim as optim\n",
        "from torch.optim import lr_scheduler\n",
        "from pytorch_metric_learning import losses\n",
        "import copy\n",
        "\n",
        "from collections import OrderedDict, defaultdict\n",
        "import matplotlib.pyplot as plt\n",
        "from matplotlib.ticker import MaxNLocator\n",
        "import timm\n",
        "from torch.cuda import amp\n",
        "from tqdm import tqdm\n",
        "import torch.optim as optim\n",
        "from time import time\n",
        "\n",
        "warnings.filterwarnings(\"ignore\")"
      ]
    },
    {
      "cell_type": "markdown",
      "metadata": {
        "id": "ZBVZyGsYr0ro"
      },
      "source": [
        "# Mounting dataset from GDrive"
      ]
    },
    {
      "cell_type": "code",
      "execution_count": 31,
      "metadata": {
        "id": "jzO5WxAnrthA"
      },
      "outputs": [],
      "source": [
        "# from google.colab import drive\n",
        "# drive.mount('/content/drive')\n",
        "\n",
        "# dataset_path = '/content/drive/My Drive/input/forestnet'"
      ]
    },
    {
      "cell_type": "markdown",
      "metadata": {
        "id": "gHIFuyS3qRmh"
      },
      "source": [
        "### Extracting dataset zip file into colab's storage\n",
        " - This will be beneficial during training because loading each image from gdrive was too slow"
      ]
    },
    {
      "cell_type": "code",
      "execution_count": 32,
      "metadata": {
        "colab": {
          "base_uri": "https://localhost:8080/",
          "height": 400
        },
        "id": "cES5qXEkapK0",
        "outputId": "be81faf6-a563-4a96-e019-328f9e730892"
      },
      "outputs": [
        {
          "name": "stdout",
          "output_type": "stream",
          "text": [
            "Drive already mounted at /content/drive; to attempt to forcibly remount, call drive.mount(\"/content/drive\", force_remount=True).\n"
          ]
        },
        {
          "ename": "KeyboardInterrupt",
          "evalue": "",
          "output_type": "error",
          "traceback": [
            "\u001b[0;31m---------------------------------------------------------------------------\u001b[0m",
            "\u001b[0;31mKeyboardInterrupt\u001b[0m                         Traceback (most recent call last)",
            "\u001b[0;32m<ipython-input-32-d99fdb9fb330>\u001b[0m in \u001b[0;36m<cell line: 14>\u001b[0;34m()\u001b[0m\n\u001b[1;32m     13\u001b[0m \u001b[0;31m# Extract the ZIP file\u001b[0m\u001b[0;34m\u001b[0m\u001b[0;34m\u001b[0m\u001b[0m\n\u001b[1;32m     14\u001b[0m \u001b[0;32mwith\u001b[0m \u001b[0mzipfile\u001b[0m\u001b[0;34m.\u001b[0m\u001b[0mZipFile\u001b[0m\u001b[0;34m(\u001b[0m\u001b[0mzip_file_path\u001b[0m\u001b[0;34m,\u001b[0m \u001b[0;34m'r'\u001b[0m\u001b[0;34m)\u001b[0m \u001b[0;32mas\u001b[0m \u001b[0mzip_ref\u001b[0m\u001b[0;34m:\u001b[0m\u001b[0;34m\u001b[0m\u001b[0;34m\u001b[0m\u001b[0m\n\u001b[0;32m---> 15\u001b[0;31m     \u001b[0mzip_ref\u001b[0m\u001b[0;34m.\u001b[0m\u001b[0mextractall\u001b[0m\u001b[0;34m(\u001b[0m\u001b[0mextracted_folder\u001b[0m\u001b[0;34m)\u001b[0m\u001b[0;34m\u001b[0m\u001b[0;34m\u001b[0m\u001b[0m\n\u001b[0m\u001b[1;32m     16\u001b[0m \u001b[0;34m\u001b[0m\u001b[0m\n\u001b[1;32m     17\u001b[0m \u001b[0mprint\u001b[0m\u001b[0;34m(\u001b[0m\u001b[0;34mf'Contents extracted to {extracted_folder}'\u001b[0m\u001b[0;34m)\u001b[0m\u001b[0;34m\u001b[0m\u001b[0;34m\u001b[0m\u001b[0m\n",
            "\u001b[0;32m/usr/lib/python3.10/zipfile.py\u001b[0m in \u001b[0;36mextractall\u001b[0;34m(self, path, members, pwd)\u001b[0m\n\u001b[1;32m   1658\u001b[0m \u001b[0;34m\u001b[0m\u001b[0m\n\u001b[1;32m   1659\u001b[0m         \u001b[0;32mfor\u001b[0m \u001b[0mzipinfo\u001b[0m \u001b[0;32min\u001b[0m \u001b[0mmembers\u001b[0m\u001b[0;34m:\u001b[0m\u001b[0;34m\u001b[0m\u001b[0;34m\u001b[0m\u001b[0m\n\u001b[0;32m-> 1660\u001b[0;31m             \u001b[0mself\u001b[0m\u001b[0;34m.\u001b[0m\u001b[0m_extract_member\u001b[0m\u001b[0;34m(\u001b[0m\u001b[0mzipinfo\u001b[0m\u001b[0;34m,\u001b[0m \u001b[0mpath\u001b[0m\u001b[0;34m,\u001b[0m \u001b[0mpwd\u001b[0m\u001b[0;34m)\u001b[0m\u001b[0;34m\u001b[0m\u001b[0;34m\u001b[0m\u001b[0m\n\u001b[0m\u001b[1;32m   1661\u001b[0m \u001b[0;34m\u001b[0m\u001b[0m\n\u001b[1;32m   1662\u001b[0m     \u001b[0;34m@\u001b[0m\u001b[0mclassmethod\u001b[0m\u001b[0;34m\u001b[0m\u001b[0;34m\u001b[0m\u001b[0m\n",
            "\u001b[0;32m/usr/lib/python3.10/zipfile.py\u001b[0m in \u001b[0;36m_extract_member\u001b[0;34m(self, member, targetpath, pwd)\u001b[0m\n\u001b[1;32m   1711\u001b[0m             \u001b[0;32mreturn\u001b[0m \u001b[0mtargetpath\u001b[0m\u001b[0;34m\u001b[0m\u001b[0;34m\u001b[0m\u001b[0m\n\u001b[1;32m   1712\u001b[0m \u001b[0;34m\u001b[0m\u001b[0m\n\u001b[0;32m-> 1713\u001b[0;31m         \u001b[0;32mwith\u001b[0m \u001b[0mself\u001b[0m\u001b[0;34m.\u001b[0m\u001b[0mopen\u001b[0m\u001b[0;34m(\u001b[0m\u001b[0mmember\u001b[0m\u001b[0;34m,\u001b[0m \u001b[0mpwd\u001b[0m\u001b[0;34m=\u001b[0m\u001b[0mpwd\u001b[0m\u001b[0;34m)\u001b[0m \u001b[0;32mas\u001b[0m \u001b[0msource\u001b[0m\u001b[0;34m,\u001b[0m\u001b[0;31m \u001b[0m\u001b[0;31m\\\u001b[0m\u001b[0;34m\u001b[0m\u001b[0;34m\u001b[0m\u001b[0m\n\u001b[0m\u001b[1;32m   1714\u001b[0m              \u001b[0mopen\u001b[0m\u001b[0;34m(\u001b[0m\u001b[0mtargetpath\u001b[0m\u001b[0;34m,\u001b[0m \u001b[0;34m\"wb\"\u001b[0m\u001b[0;34m)\u001b[0m \u001b[0;32mas\u001b[0m \u001b[0mtarget\u001b[0m\u001b[0;34m:\u001b[0m\u001b[0;34m\u001b[0m\u001b[0;34m\u001b[0m\u001b[0m\n\u001b[1;32m   1715\u001b[0m             \u001b[0mshutil\u001b[0m\u001b[0;34m.\u001b[0m\u001b[0mcopyfileobj\u001b[0m\u001b[0;34m(\u001b[0m\u001b[0msource\u001b[0m\u001b[0;34m,\u001b[0m \u001b[0mtarget\u001b[0m\u001b[0;34m)\u001b[0m\u001b[0;34m\u001b[0m\u001b[0;34m\u001b[0m\u001b[0m\n",
            "\u001b[0;31mKeyboardInterrupt\u001b[0m: "
          ]
        }
      ],
      "source": [
        "from google.colab import drive\n",
        "drive.mount('/content/drive')\n",
        "\n",
        "zip_file_path = '/content/drive/My Drive/ForestNetDataset.zip'  # Change this to your actual file path\n",
        "\n",
        "import zipfile\n",
        "import os\n",
        "\n",
        "# Create a directory to extract the contents\n",
        "extracted_folder = '/input'  # Change this if you want a different name\n",
        "os.makedirs(extracted_folder, exist_ok=True)\n",
        "\n",
        "# Extract the ZIP file\n",
        "with zipfile.ZipFile(zip_file_path, 'r') as zip_ref:\n",
        "    zip_ref.extractall(extracted_folder)\n",
        "\n",
        "print(f'Contents extracted to {extracted_folder}')\n"
      ]
    },
    {
      "cell_type": "markdown",
      "metadata": {
        "id": "ynOfsCXrr3GF"
      },
      "source": [
        "# Importing packages"
      ]
    },
    {
      "cell_type": "code",
      "execution_count": 33,
      "metadata": {
        "id": "6tXx054_r4hJ"
      },
      "outputs": [],
      "source": [
        "import numpy as np\n",
        "import pandas as pd\n",
        "import matplotlib.pyplot as plt\n",
        "import pickle\n",
        "import skimage.draw as sk\n",
        "import torch\n",
        "from fastai.vision.all import *\n",
        "from fastai.imports import *"
      ]
    },
    {
      "cell_type": "markdown",
      "metadata": {
        "id": "--HTUa_yoq7d"
      },
      "source": [
        "# Examining Dataset"
      ]
    },
    {
      "cell_type": "markdown",
      "metadata": {
        "id": "FxJdNPZSqpUE"
      },
      "source": [
        "### Ensure data is formatted properly"
      ]
    },
    {
      "cell_type": "code",
      "execution_count": 34,
      "metadata": {
        "colab": {
          "base_uri": "https://localhost:8080/",
          "height": 207
        },
        "id": "lBSlSfJ5UFIo",
        "outputId": "0ad6e90e-e80d-4fa2-a739-55cafedc8765"
      },
      "outputs": [
        {
          "data": {
            "application/vnd.google.colaboratory.intrinsic+json": {
              "summary": "{\n  \"name\": \"train_df\",\n  \"rows\": 1616,\n  \"fields\": [\n    {\n      \"column\": \"label\",\n      \"properties\": {\n        \"dtype\": \"category\",\n        \"num_unique_values\": 12,\n        \"samples\": [\n          \"Secondary forest\",\n          \"Small-scale oil palm plantation\",\n          \"Timber plantation\"\n        ],\n        \"semantic_type\": \"\",\n        \"description\": \"\"\n      }\n    },\n    {\n      \"column\": \"merged_label\",\n      \"properties\": {\n        \"dtype\": \"category\",\n        \"num_unique_values\": 4,\n        \"samples\": [\n          \"Other\",\n          \"Smallholder agriculture\",\n          \"Plantation\"\n        ],\n        \"semantic_type\": \"\",\n        \"description\": \"\"\n      }\n    },\n    {\n      \"column\": \"latitude\",\n      \"properties\": {\n        \"dtype\": \"number\",\n        \"std\": 2.2171918518591576,\n        \"min\": -8.34441742336356,\n        \"max\": 5.152186678362192,\n        \"num_unique_values\": 1616,\n        \"samples\": [\n          -5.5315452472730975,\n          2.14547959681366,\n          -2.0237308502478184\n        ],\n        \"semantic_type\": \"\",\n        \"description\": \"\"\n      }\n    },\n    {\n      \"column\": \"longitude\",\n      \"properties\": {\n        \"dtype\": \"number\",\n        \"std\": 10.052747118039678,\n        \"min\": 95.75768077190423,\n        \"max\": 140.95941230219998,\n        \"num_unique_values\": 1615,\n        \"samples\": [\n          105.09898057049811,\n          117.05874124311474,\n          114.75551054866928\n        ],\n        \"semantic_type\": \"\",\n        \"description\": \"\"\n      }\n    },\n    {\n      \"column\": \"year\",\n      \"properties\": {\n        \"dtype\": \"number\",\n        \"std\": 4,\n        \"min\": 2001,\n        \"max\": 2016,\n        \"num_unique_values\": 16,\n        \"samples\": [\n          2014,\n          2012,\n          2004\n        ],\n        \"semantic_type\": \"\",\n        \"description\": \"\"\n      }\n    },\n    {\n      \"column\": \"example_path\",\n      \"properties\": {\n        \"dtype\": \"string\",\n        \"num_unique_values\": 1616,\n        \"samples\": [\n          \"examples/-5.5315452472730975_105.09898057049811\",\n          \"examples/2.14547959681366_117.26891152087542\",\n          \"examples/-2.0237308502478184_102.48958315972294\"\n        ],\n        \"semantic_type\": \"\",\n        \"description\": \"\"\n      }\n    }\n  ]\n}",
              "type": "dataframe",
              "variable_name": "train_df"
            },
            "text/html": [
              "\n",
              "  <div id=\"df-3f9927c9-827e-4448-bfe8-b1b3509fcb54\" class=\"colab-df-container\">\n",
              "    <div>\n",
              "<style scoped>\n",
              "    .dataframe tbody tr th:only-of-type {\n",
              "        vertical-align: middle;\n",
              "    }\n",
              "\n",
              "    .dataframe tbody tr th {\n",
              "        vertical-align: top;\n",
              "    }\n",
              "\n",
              "    .dataframe thead th {\n",
              "        text-align: right;\n",
              "    }\n",
              "</style>\n",
              "<table border=\"1\" class=\"dataframe\">\n",
              "  <thead>\n",
              "    <tr style=\"text-align: right;\">\n",
              "      <th></th>\n",
              "      <th>label</th>\n",
              "      <th>merged_label</th>\n",
              "      <th>latitude</th>\n",
              "      <th>longitude</th>\n",
              "      <th>year</th>\n",
              "      <th>example_path</th>\n",
              "    </tr>\n",
              "  </thead>\n",
              "  <tbody>\n",
              "    <tr>\n",
              "      <th>0</th>\n",
              "      <td>Timber plantation</td>\n",
              "      <td>Plantation</td>\n",
              "      <td>4.430849</td>\n",
              "      <td>96.101634</td>\n",
              "      <td>2014</td>\n",
              "      <td>examples/4.430849118860583_96.1016343478138</td>\n",
              "    </tr>\n",
              "    <tr>\n",
              "      <th>1</th>\n",
              "      <td>Other</td>\n",
              "      <td>Other</td>\n",
              "      <td>1.332341</td>\n",
              "      <td>109.374229</td>\n",
              "      <td>2012</td>\n",
              "      <td>examples/1.3323406178609702_109.37422873130464</td>\n",
              "    </tr>\n",
              "    <tr>\n",
              "      <th>2</th>\n",
              "      <td>Grassland shrubland</td>\n",
              "      <td>Grassland shrubland</td>\n",
              "      <td>-1.720266</td>\n",
              "      <td>115.006996</td>\n",
              "      <td>2016</td>\n",
              "      <td>examples/-1.720266384577504_115.00699582064485</td>\n",
              "    </tr>\n",
              "    <tr>\n",
              "      <th>3</th>\n",
              "      <td>Small-scale agriculture</td>\n",
              "      <td>Smallholder agriculture</td>\n",
              "      <td>-2.248346</td>\n",
              "      <td>104.135786</td>\n",
              "      <td>2011</td>\n",
              "      <td>examples/-2.248346072674411_104.1357857482906</td>\n",
              "    </tr>\n",
              "    <tr>\n",
              "      <th>4</th>\n",
              "      <td>Other large-scale plantations</td>\n",
              "      <td>Plantation</td>\n",
              "      <td>-2.100800</td>\n",
              "      <td>113.022376</td>\n",
              "      <td>2008</td>\n",
              "      <td>examples/-2.100800102991412_113.0223763234016</td>\n",
              "    </tr>\n",
              "  </tbody>\n",
              "</table>\n",
              "</div>\n",
              "    <div class=\"colab-df-buttons\">\n",
              "\n",
              "  <div class=\"colab-df-container\">\n",
              "    <button class=\"colab-df-convert\" onclick=\"convertToInteractive('df-3f9927c9-827e-4448-bfe8-b1b3509fcb54')\"\n",
              "            title=\"Convert this dataframe to an interactive table.\"\n",
              "            style=\"display:none;\">\n",
              "\n",
              "  <svg xmlns=\"http://www.w3.org/2000/svg\" height=\"24px\" viewBox=\"0 -960 960 960\">\n",
              "    <path d=\"M120-120v-720h720v720H120Zm60-500h600v-160H180v160Zm220 220h160v-160H400v160Zm0 220h160v-160H400v160ZM180-400h160v-160H180v160Zm440 0h160v-160H620v160ZM180-180h160v-160H180v160Zm440 0h160v-160H620v160Z\"/>\n",
              "  </svg>\n",
              "    </button>\n",
              "\n",
              "  <style>\n",
              "    .colab-df-container {\n",
              "      display:flex;\n",
              "      gap: 12px;\n",
              "    }\n",
              "\n",
              "    .colab-df-convert {\n",
              "      background-color: #E8F0FE;\n",
              "      border: none;\n",
              "      border-radius: 50%;\n",
              "      cursor: pointer;\n",
              "      display: none;\n",
              "      fill: #1967D2;\n",
              "      height: 32px;\n",
              "      padding: 0 0 0 0;\n",
              "      width: 32px;\n",
              "    }\n",
              "\n",
              "    .colab-df-convert:hover {\n",
              "      background-color: #E2EBFA;\n",
              "      box-shadow: 0px 1px 2px rgba(60, 64, 67, 0.3), 0px 1px 3px 1px rgba(60, 64, 67, 0.15);\n",
              "      fill: #174EA6;\n",
              "    }\n",
              "\n",
              "    .colab-df-buttons div {\n",
              "      margin-bottom: 4px;\n",
              "    }\n",
              "\n",
              "    [theme=dark] .colab-df-convert {\n",
              "      background-color: #3B4455;\n",
              "      fill: #D2E3FC;\n",
              "    }\n",
              "\n",
              "    [theme=dark] .colab-df-convert:hover {\n",
              "      background-color: #434B5C;\n",
              "      box-shadow: 0px 1px 3px 1px rgba(0, 0, 0, 0.15);\n",
              "      filter: drop-shadow(0px 1px 2px rgba(0, 0, 0, 0.3));\n",
              "      fill: #FFFFFF;\n",
              "    }\n",
              "  </style>\n",
              "\n",
              "    <script>\n",
              "      const buttonEl =\n",
              "        document.querySelector('#df-3f9927c9-827e-4448-bfe8-b1b3509fcb54 button.colab-df-convert');\n",
              "      buttonEl.style.display =\n",
              "        google.colab.kernel.accessAllowed ? 'block' : 'none';\n",
              "\n",
              "      async function convertToInteractive(key) {\n",
              "        const element = document.querySelector('#df-3f9927c9-827e-4448-bfe8-b1b3509fcb54');\n",
              "        const dataTable =\n",
              "          await google.colab.kernel.invokeFunction('convertToInteractive',\n",
              "                                                    [key], {});\n",
              "        if (!dataTable) return;\n",
              "\n",
              "        const docLinkHtml = 'Like what you see? Visit the ' +\n",
              "          '<a target=\"_blank\" href=https://colab.research.google.com/notebooks/data_table.ipynb>data table notebook</a>'\n",
              "          + ' to learn more about interactive tables.';\n",
              "        element.innerHTML = '';\n",
              "        dataTable['output_type'] = 'display_data';\n",
              "        await google.colab.output.renderOutput(dataTable, element);\n",
              "        const docLink = document.createElement('div');\n",
              "        docLink.innerHTML = docLinkHtml;\n",
              "        element.appendChild(docLink);\n",
              "      }\n",
              "    </script>\n",
              "  </div>\n",
              "\n",
              "\n",
              "<div id=\"df-f4aef903-893b-4c77-8d07-afa9c9732ec8\">\n",
              "  <button class=\"colab-df-quickchart\" onclick=\"quickchart('df-f4aef903-893b-4c77-8d07-afa9c9732ec8')\"\n",
              "            title=\"Suggest charts\"\n",
              "            style=\"display:none;\">\n",
              "\n",
              "<svg xmlns=\"http://www.w3.org/2000/svg\" height=\"24px\"viewBox=\"0 0 24 24\"\n",
              "     width=\"24px\">\n",
              "    <g>\n",
              "        <path d=\"M19 3H5c-1.1 0-2 .9-2 2v14c0 1.1.9 2 2 2h14c1.1 0 2-.9 2-2V5c0-1.1-.9-2-2-2zM9 17H7v-7h2v7zm4 0h-2V7h2v10zm4 0h-2v-4h2v4z\"/>\n",
              "    </g>\n",
              "</svg>\n",
              "  </button>\n",
              "\n",
              "<style>\n",
              "  .colab-df-quickchart {\n",
              "      --bg-color: #E8F0FE;\n",
              "      --fill-color: #1967D2;\n",
              "      --hover-bg-color: #E2EBFA;\n",
              "      --hover-fill-color: #174EA6;\n",
              "      --disabled-fill-color: #AAA;\n",
              "      --disabled-bg-color: #DDD;\n",
              "  }\n",
              "\n",
              "  [theme=dark] .colab-df-quickchart {\n",
              "      --bg-color: #3B4455;\n",
              "      --fill-color: #D2E3FC;\n",
              "      --hover-bg-color: #434B5C;\n",
              "      --hover-fill-color: #FFFFFF;\n",
              "      --disabled-bg-color: #3B4455;\n",
              "      --disabled-fill-color: #666;\n",
              "  }\n",
              "\n",
              "  .colab-df-quickchart {\n",
              "    background-color: var(--bg-color);\n",
              "    border: none;\n",
              "    border-radius: 50%;\n",
              "    cursor: pointer;\n",
              "    display: none;\n",
              "    fill: var(--fill-color);\n",
              "    height: 32px;\n",
              "    padding: 0;\n",
              "    width: 32px;\n",
              "  }\n",
              "\n",
              "  .colab-df-quickchart:hover {\n",
              "    background-color: var(--hover-bg-color);\n",
              "    box-shadow: 0 1px 2px rgba(60, 64, 67, 0.3), 0 1px 3px 1px rgba(60, 64, 67, 0.15);\n",
              "    fill: var(--button-hover-fill-color);\n",
              "  }\n",
              "\n",
              "  .colab-df-quickchart-complete:disabled,\n",
              "  .colab-df-quickchart-complete:disabled:hover {\n",
              "    background-color: var(--disabled-bg-color);\n",
              "    fill: var(--disabled-fill-color);\n",
              "    box-shadow: none;\n",
              "  }\n",
              "\n",
              "  .colab-df-spinner {\n",
              "    border: 2px solid var(--fill-color);\n",
              "    border-color: transparent;\n",
              "    border-bottom-color: var(--fill-color);\n",
              "    animation:\n",
              "      spin 1s steps(1) infinite;\n",
              "  }\n",
              "\n",
              "  @keyframes spin {\n",
              "    0% {\n",
              "      border-color: transparent;\n",
              "      border-bottom-color: var(--fill-color);\n",
              "      border-left-color: var(--fill-color);\n",
              "    }\n",
              "    20% {\n",
              "      border-color: transparent;\n",
              "      border-left-color: var(--fill-color);\n",
              "      border-top-color: var(--fill-color);\n",
              "    }\n",
              "    30% {\n",
              "      border-color: transparent;\n",
              "      border-left-color: var(--fill-color);\n",
              "      border-top-color: var(--fill-color);\n",
              "      border-right-color: var(--fill-color);\n",
              "    }\n",
              "    40% {\n",
              "      border-color: transparent;\n",
              "      border-right-color: var(--fill-color);\n",
              "      border-top-color: var(--fill-color);\n",
              "    }\n",
              "    60% {\n",
              "      border-color: transparent;\n",
              "      border-right-color: var(--fill-color);\n",
              "    }\n",
              "    80% {\n",
              "      border-color: transparent;\n",
              "      border-right-color: var(--fill-color);\n",
              "      border-bottom-color: var(--fill-color);\n",
              "    }\n",
              "    90% {\n",
              "      border-color: transparent;\n",
              "      border-bottom-color: var(--fill-color);\n",
              "    }\n",
              "  }\n",
              "</style>\n",
              "\n",
              "  <script>\n",
              "    async function quickchart(key) {\n",
              "      const quickchartButtonEl =\n",
              "        document.querySelector('#' + key + ' button');\n",
              "      quickchartButtonEl.disabled = true;  // To prevent multiple clicks.\n",
              "      quickchartButtonEl.classList.add('colab-df-spinner');\n",
              "      try {\n",
              "        const charts = await google.colab.kernel.invokeFunction(\n",
              "            'suggestCharts', [key], {});\n",
              "      } catch (error) {\n",
              "        console.error('Error during call to suggestCharts:', error);\n",
              "      }\n",
              "      quickchartButtonEl.classList.remove('colab-df-spinner');\n",
              "      quickchartButtonEl.classList.add('colab-df-quickchart-complete');\n",
              "    }\n",
              "    (() => {\n",
              "      let quickchartButtonEl =\n",
              "        document.querySelector('#df-f4aef903-893b-4c77-8d07-afa9c9732ec8 button');\n",
              "      quickchartButtonEl.style.display =\n",
              "        google.colab.kernel.accessAllowed ? 'block' : 'none';\n",
              "    })();\n",
              "  </script>\n",
              "</div>\n",
              "\n",
              "    </div>\n",
              "  </div>\n"
            ],
            "text/plain": [
              "                           label             merged_label  latitude  \\\n",
              "0              Timber plantation               Plantation  4.430849   \n",
              "1                          Other                    Other  1.332341   \n",
              "2            Grassland shrubland      Grassland shrubland -1.720266   \n",
              "3        Small-scale agriculture  Smallholder agriculture -2.248346   \n",
              "4  Other large-scale plantations               Plantation -2.100800   \n",
              "\n",
              "    longitude  year                                    example_path  \n",
              "0   96.101634  2014     examples/4.430849118860583_96.1016343478138  \n",
              "1  109.374229  2012  examples/1.3323406178609702_109.37422873130464  \n",
              "2  115.006996  2016  examples/-1.720266384577504_115.00699582064485  \n",
              "3  104.135786  2011   examples/-2.248346072674411_104.1357857482906  \n",
              "4  113.022376  2008   examples/-2.100800102991412_113.0223763234016  "
            ]
          },
          "execution_count": 34,
          "metadata": {},
          "output_type": "execute_result"
        }
      ],
      "source": [
        "dataset_path = '/input/deep/downloads'\n",
        "\n",
        "train_df = pd.read_csv(f'{dataset_path}/ForestNetDataset/train.csv')\n",
        "val_df = pd.read_csv(f'{dataset_path}/ForestNetDataset/val.csv')\n",
        "test_df = pd.read_csv(f'{dataset_path}/ForestNetDataset/test.csv')\n",
        "\n",
        "train_df.head()"
      ]
    },
    {
      "cell_type": "markdown",
      "metadata": {
        "id": "n2eQEomlptno"
      },
      "source": [
        "### Datset Distribution Plot"
      ]
    },
    {
      "cell_type": "code",
      "execution_count": 35,
      "metadata": {
        "colab": {
          "base_uri": "https://localhost:8080/",
          "height": 522
        },
        "id": "vUKtySFJUJtA",
        "outputId": "d529033d-20e6-4e85-bb4e-e164709a7245"
      },
      "outputs": [
        {
          "data": {
            "image/png": "[encoded data removed]",
            "text/plain": [
              "<Figure size 800x600 with 1 Axes>"
            ]
          },
          "metadata": {},
          "output_type": "display_data"
        }
      ],
      "source": [
        "# Plot distribution of data\n",
        "train_df_class = train_df.groupby(['merged_label']).size().to_frame('train').reset_index()\n",
        "val_df_class = val_df.groupby(['merged_label']).size().to_frame('val').reset_index()\n",
        "test_df_class = test_df.groupby(['merged_label']).size().to_frame('test').reset_index()\n",
        "\n",
        "plt.figure(figsize=(8, 6))\n",
        "x_axis = np.arange(len(train_df_class['merged_label']))\n",
        "index = [[train_df_class,'train',-0.2],[val_df_class,'val',0],[test_df_class,'test',0.2]]\n",
        "for i in index:\n",
        "  df = i[0]\n",
        "  bars = plt.bar(x_axis + i[2], df[i[1]] , width=0.2, label=i[1])\n",
        "  for bar in bars:\n",
        "      yval = bar.get_height()\n",
        "      plt.text(bar.get_x(), yval + .005, yval)\n",
        "plt.xticks(x_axis,train_df_class['merged_label'])\n",
        "plt.legend()\n",
        "plt.show()"
      ]
    },
    {
      "cell_type": "markdown",
      "metadata": {
        "id": "nJ-MOJGDqtz1"
      },
      "source": [
        "### TODO: More graphs and/or Sample images ?"
      ]
    },
    {
      "cell_type": "markdown",
      "metadata": {
        "id": "Gu5JpPT7oxVp"
      },
      "source": [
        "# Creating A Custom Dataset Class\n",
        "### This allows auxiliary data to be loaded along with the images and masks\n",
        "\n",
        "### TODO: Add aux to datasetclass\n",
        "### TODO: Di ko pa nalagay yung find closest image ni Dhea"
      ]
    },
    {
      "cell_type": "code",
      "execution_count": 36,
      "metadata": {
        "id": "LJAvEJb-UMLk"
      },
      "outputs": [],
      "source": [
        "import imageio\n",
        "\n",
        "class ForestDataset(Dataset):\n",
        "    \"\"\"Forest dataset.\"\"\"\n",
        "\n",
        "    def __init__(self, csv_file_to_df, root_dir=f'{dataset_path}/ForestNetDataset', transform=None, types=\"classifier\"):\n",
        "        self.csv = csv_file_to_df\n",
        "        self.root_dir = root_dir\n",
        "        self.transform = transform\n",
        "        self.label_to_int = {'Grassland shrubland':0, 'Other':1, 'Plantation':2, 'Smallholder agriculture':3}\n",
        "        self.types = types\n",
        "\n",
        "    def __len__(self):\n",
        "        return len(self.csv)\n",
        "\n",
        "    def poly_from_utm(self, polygon):\n",
        "        poly_pts = []\n",
        "\n",
        "        poly = unary_union(polygon)\n",
        "        for i in np.array(poly.exterior.coords):\n",
        "\n",
        "            poly_pts.append(tuple(i))\n",
        "\n",
        "        new_poly = Polygon(poly_pts)\n",
        "        return new_poly\n",
        "\n",
        "    def __getitem__(self, idx):\n",
        "        if torch.is_tensor(idx):\n",
        "            idx = idx.tolist()\n",
        "\n",
        "        label = self.csv.iloc[idx, 0]\n",
        "        merged_label = self.csv.iloc[idx, 1]\n",
        "        lat = self.csv.iloc[idx, 2]\n",
        "        long = self.csv.iloc[idx, 3]\n",
        "        year = self.csv.iloc[idx, 4]\n",
        "        folder = self.csv.iloc[idx, 5]\n",
        "\n",
        "        ## Load the image and auxiliary\n",
        "        image_path = f'{self.root_dir}/{folder}/images/visible/composite.png'.replace(' ', '')\n",
        "        image = imageio.imread(image_path)\n",
        "\n",
        "        slope_path = f'{self.root_dir}/{folder}/auxiliary/gfc.npy'.replace(' ', '')\n",
        "        slope = np.load(slope_path)\n",
        "\n",
        "        ## Get the segmentation map\n",
        "        segmentation_path = f'{self.root_dir}/{folder}/forest_loss_region.pkl'.replace(' ', '')\n",
        "        with open(segmentation_path, 'rb') as f:\n",
        "            data = pickle.load(f)\n",
        "\n",
        "        nx, ny = 332, 332\n",
        "        xy_array = np.empty((0,2))\n",
        "        if data.geom_type == 'Polygon':\n",
        "            data = [data]\n",
        "        elif data.geom_type == 'Multipolygon':\n",
        "            data = list(data)\n",
        "\n",
        "        poly_shp = []\n",
        "        for poly_verts in data:\n",
        "            poly_shp.append(self.poly_from_utm(poly_verts))\n",
        "\n",
        "        mask = rasterize(shapes=poly_shp, out_shape=(332,332))\n",
        "        seg = np.array(mask)\n",
        "\n",
        "        if self.transform:\n",
        "            augmented = self.transform(image=image)\n",
        "            image = augmented[\"image\"]\n",
        "\n",
        "        image = torch.from_numpy(image).type(torch.float)\n",
        "        image = image.permute(2, 0, 1)\n",
        "        seg = torch.from_numpy(seg).type(torch.uint8)\n",
        "        slope = torch.from_numpy(slope).type(torch.float)\n",
        "\n",
        "        merged_label = self.label_to_int[merged_label]\n",
        "\n",
        "        image = image[:, 86:246, 86:246]\n",
        "        seg = seg[86:246, 86:246]\n",
        "        slope = slope[86:246, 86:246]\n",
        "        if self.types == \"classifier\":\n",
        "            return image, seg, merged_label\n",
        "        else:\n",
        "            return image, seg, merged_label\n"
      ]
    },
    {
      "cell_type": "markdown",
      "metadata": {
        "id": "_qe4I193q2-5"
      },
      "source": [
        "### TODO: Show what the data in the batch looks like? parang yung show_batch dun sa previous architecture. Not sure pa if pwede"
      ]
    },
    {
      "cell_type": "markdown",
      "metadata": {
        "id": "D7-KUKg7pE2z"
      },
      "source": [
        "# Model Training"
      ]
    },
    {
      "cell_type": "markdown",
      "metadata": {
        "id": "jpuBshsepHH-"
      },
      "source": [
        "### Initialize Hyperparameters"
      ]
    },
    {
      "cell_type": "code",
      "execution_count": 37,
      "metadata": {
        "id": "hXk7QL7yUOaj"
      },
      "outputs": [],
      "source": [
        "# Initialize several arguments for training\n",
        "BATCH_SIZE = 16\n",
        "DEVICE = device = \"cuda:0\" if torch.cuda.is_available() else \"cpu\"\n",
        "LR = 0.001\n",
        "nbClass = 4"
      ]
    },
    {
      "cell_type": "markdown",
      "metadata": {
        "id": "a3RzFufFpNIO"
      },
      "source": [
        "### Load the training, validation and test data"
      ]
    },
    {
      "cell_type": "code",
      "execution_count": 38,
      "metadata": {
        "id": "WlvA0t1gURPm"
      },
      "outputs": [],
      "source": [
        "# Load Dataset and Create DataLoader For Classification\n",
        "train_dataset = ForestDataset( csv_file_to_df=train_df)\n",
        "val_dataset = ForestDataset( csv_file_to_df=val_df)\n",
        "test_dataset = ForestDataset( csv_file_to_df=test_df)\n",
        "trainloader = torch.utils.data.DataLoader(train_dataset, batch_size=BATCH_SIZE,shuffle=True)\n",
        "valloader = torch.utils.data.DataLoader(val_dataset, batch_size=BATCH_SIZE,shuffle=True)\n",
        "testloader = torch.utils.data.DataLoader(test_dataset, batch_size=BATCH_SIZE,shuffle=False)\n",
        "dataloaders = {'train': trainloader, 'val':valloader}"
      ]
    },
    {
      "cell_type": "markdown",
      "metadata": {
        "id": "SIyQtlTZpSKt"
      },
      "source": [
        "### Sanity Check to ensure proper tensor shapes"
      ]
    },
    {
      "cell_type": "code",
      "execution_count": 39,
      "metadata": {
        "colab": {
          "base_uri": "https://localhost:8080/"
        },
        "id": "eJee-OsHURvK",
        "outputId": "6d8b07dc-fa5f-4d83-e8de-5c407b903319"
      },
      "outputs": [
        {
          "name": "stdout",
          "output_type": "stream",
          "text": [
            "images shape on PyTroch :  torch.Size([16, 3, 160, 160])\n",
            "labels shape on PyTroch :  torch.Size([16])\n"
          ]
        }
      ],
      "source": [
        "dataiter = iter(trainloader)\n",
        "images, seg, labels = next(dataiter)\n",
        "\n",
        "print('images shape on PyTroch : ', images.size())\n",
        "# print('slope shape on PyTroch : ', slope.size())\n",
        "print('labels shape on PyTroch : ', labels.size())"
      ]
    },
    {
      "cell_type": "code",
      "execution_count": 40,
      "metadata": {
        "colab": {
          "base_uri": "https://localhost:8080/"
        },
        "id": "XLmS_237UTgN",
        "outputId": "2e8e584d-4a9a-4e33-a56a-7d109e7c5be4"
      },
      "outputs": [
        {
          "name": "stdout",
          "output_type": "stream",
          "text": [
            "torch.Size([16, 160, 160])\n",
            "torch.Size([16, 160, 160])\n"
          ]
        }
      ],
      "source": [
        "sample = next(iter(trainloader))[1]\n",
        "print(sample.shape)\n",
        "\n",
        "sample_target = next(iter(valloader))[1]\n",
        "print(sample_target.shape)"
      ]
    },
    {
      "cell_type": "markdown",
      "metadata": {
        "id": "qFgaju01pXy2"
      },
      "source": [
        "### Define the Model (Attention U-Net)"
      ]
    },
    {
      "cell_type": "code",
      "execution_count": 41,
      "metadata": {
        "id": "ppBFhvVXXIlT"
      },
      "outputs": [],
      "source": [
        "class AttentionGate(nn.Module):\n",
        "    def __init__(self, F_g, F_l, F_int):\n",
        "        super(AttentionGate, self).__init__()\n",
        "        self.W_g = nn.Sequential(\n",
        "            nn.Conv2d(F_g, F_int, kernel_size=1, stride=1, padding=0, bias=True),\n",
        "            nn.BatchNorm2d(F_int)\n",
        "        )\n",
        "\n",
        "        self.W_x = nn.Sequential(\n",
        "            nn.Conv2d(F_l, F_int, kernel_size=1, stride=1, padding=0, bias=True),\n",
        "            nn.BatchNorm2d(F_int)\n",
        "        )\n",
        "\n",
        "        self.psi = nn.Sequential(\n",
        "            nn.Conv2d(F_int, 1, kernel_size=1, stride=1, padding=0, bias=True),\n",
        "            nn.BatchNorm2d(1),\n",
        "            nn.Sigmoid()\n",
        "        )\n",
        "\n",
        "        self.relu = nn.ReLU(inplace=True)\n",
        "\n",
        "    def forward(self, g, x):\n",
        "        g1 = self.W_g(g)\n",
        "        x1 = self.W_x(x)\n",
        "        psi = self.relu(g1 + x1)\n",
        "        psi = self.psi(psi)\n",
        "        return x * psi\n",
        "\n",
        "class AttentionUNet(nn.Module):\n",
        "    def __init__(self, n_channels, n_segmentation_classes, n_classification_classes):\n",
        "        super(AttentionUNet, self).__init__()\n",
        "\n",
        "        # Encoder (downsampling)\n",
        "        self.encoder1 = self.conv_block(n_channels, 64)\n",
        "        self.encoder2 = self.conv_block(64, 128)\n",
        "        self.encoder3 = self.conv_block(128, 256)\n",
        "        self.encoder4 = self.conv_block(256, 512)\n",
        "\n",
        "        # Bottleneck\n",
        "        self.bottleneck = self.conv_block(512, 1024)\n",
        "\n",
        "        # Decoder (upsampling + attention)\n",
        "        self.upconv4 = nn.ConvTranspose2d(1024, 512, kernel_size=2, stride=2)\n",
        "        self.att4 = AttentionGate(F_g=512, F_l=512, F_int=256)\n",
        "        self.decoder4 = self.conv_block(1024, 512)\n",
        "\n",
        "        self.upconv3 = nn.ConvTranspose2d(512, 256, kernel_size=2, stride=2)\n",
        "        self.att3 = AttentionGate(F_g=256, F_l=256, F_int=128)\n",
        "        self.decoder3 = self.conv_block(512, 256)\n",
        "\n",
        "        self.upconv2 = nn.ConvTranspose2d(256, 128, kernel_size=2, stride=2)\n",
        "        self.att2 = AttentionGate(F_g=128, F_l=128, F_int=64)\n",
        "        self.decoder2 = self.conv_block(256, 128)\n",
        "\n",
        "        self.upconv1 = nn.ConvTranspose2d(128, 64, kernel_size=2, stride=2)\n",
        "        self.decoder1 = self.conv_block(128, 64)\n",
        "\n",
        "        # Output heads\n",
        "        self.segmentation_head = nn.Conv2d(64, n_segmentation_classes, kernel_size=1)\n",
        "        self.classification_head = nn.Linear(102400, n_classification_classes)  # Adjust based on number of deforestation drivers\n",
        "\n",
        "    def conv_block(self, in_channels, out_channels):\n",
        "        return nn.Sequential(\n",
        "            nn.Conv2d(in_channels, out_channels, kernel_size=3, padding=1),\n",
        "            nn.BatchNorm2d(out_channels),\n",
        "            nn.ReLU(inplace=True),\n",
        "            nn.Conv2d(out_channels, out_channels, kernel_size=3, padding=1),\n",
        "            nn.BatchNorm2d(out_channels),\n",
        "            nn.ReLU(inplace=True)\n",
        "        )\n",
        "\n",
        "    def forward(self, x):\n",
        "        # Encoder\n",
        "        e1 = self.encoder1(x)  # 64 channels\n",
        "        e2 = self.encoder2(F.max_pool2d(e1, 2))  # 128 channels\n",
        "        e3 = self.encoder3(F.max_pool2d(e2, 2))  # 256 channels\n",
        "        e4 = self.encoder4(F.max_pool2d(e3, 2))  # 512 channels\n",
        "\n",
        "\n",
        "        # Bottleneck\n",
        "        b = self.bottleneck(F.max_pool2d(e4, 2))  # 1024 channels\n",
        "\n",
        "\n",
        "        # Decoder with Attention\n",
        "        d4 = self.upconv4(b)\n",
        "        att4 = self.att4(d4, e4)\n",
        "        d4 = self.decoder4(torch.cat([att4, d4], dim=1))\n",
        "\n",
        "\n",
        "        d3 = self.upconv3(d4)\n",
        "        att3 = self.att3(d3, e3)\n",
        "        d3 = self.decoder3(torch.cat([att3, d3], dim=1))\n",
        "\n",
        "\n",
        "        d2 = self.upconv2(d3)\n",
        "        att2 = self.att2(d2, e2)\n",
        "        d2 = self.decoder2(torch.cat([att2, d2], dim=1))\n",
        "\n",
        "\n",
        "        d1 = self.upconv1(d2)\n",
        "        d1 = self.decoder1(torch.cat([d1, e1], dim=1))\n",
        "\n",
        "        # Segmentation output\n",
        "        segmentation_output = self.segmentation_head(d1)\n",
        "\n",
        "\n",
        "        # Classification output\n",
        "        b_flat = torch.flatten(b, start_dim=1)  # Flatten starting from the first channel\n",
        "        classification_output = self.classification_head(b_flat)\n",
        "\n",
        "        return classification_output, segmentation_output"
      ]
    },
    {
      "cell_type": "markdown",
      "metadata": {
        "id": "9h7Mlg7bpdEf"
      },
      "source": [
        "### Initialize the model for training\n",
        "- TODO: Finalize yung loss functions na gagamitin, same na dapat with forestnet"
      ]
    },
    {
      "cell_type": "code",
      "execution_count": 42,
      "metadata": {
        "colab": {
          "base_uri": "https://localhost:8080/"
        },
        "id": "f76WbrsQXMie",
        "outputId": "d6eb971e-4135-4040-fafa-9d95ee3e507a"
      },
      "outputs": [
        {
          "name": "stdout",
          "output_type": "stream",
          "text": [
            "AttentionUNet(\n",
            "  (encoder1): Sequential(\n",
            "    (0): Conv2d(3, 64, kernel_size=(3, 3), stride=(1, 1), padding=(1, 1))\n",
            "    (1): BatchNorm2d(64, eps=1e-05, momentum=0.1, affine=True, track_running_stats=True)\n",
            "    (2): ReLU(inplace=True)\n",
            "    (3): Conv2d(64, 64, kernel_size=(3, 3), stride=(1, 1), padding=(1, 1))\n",
            "    (4): BatchNorm2d(64, eps=1e-05, momentum=0.1, affine=True, track_running_stats=True)\n",
            "    (5): ReLU(inplace=True)\n",
            "  )\n",
            "  (encoder2): Sequential(\n",
            "    (0): Conv2d(64, 128, kernel_size=(3, 3), stride=(1, 1), padding=(1, 1))\n",
            "    (1): BatchNorm2d(128, eps=1e-05, momentum=0.1, affine=True, track_running_stats=True)\n",
            "    (2): ReLU(inplace=True)\n",
            "    (3): Conv2d(128, 128, kernel_size=(3, 3), stride=(1, 1), padding=(1, 1))\n",
            "    (4): BatchNorm2d(128, eps=1e-05, momentum=0.1, affine=True, track_running_stats=True)\n",
            "    (5): ReLU(inplace=True)\n",
            "  )\n",
            "  (encoder3): Sequential(\n",
            "    (0): Conv2d(128, 256, kernel_size=(3, 3), stride=(1, 1), padding=(1, 1))\n",
            "    (1): BatchNorm2d(256, eps=1e-05, momentum=0.1, affine=True, track_running_stats=True)\n",
            "    (2): ReLU(inplace=True)\n",
            "    (3): Conv2d(256, 256, kernel_size=(3, 3), stride=(1, 1), padding=(1, 1))\n",
            "    (4): BatchNorm2d(256, eps=1e-05, momentum=0.1, affine=True, track_running_stats=True)\n",
            "    (5): ReLU(inplace=True)\n",
            "  )\n",
            "  (encoder4): Sequential(\n",
            "    (0): Conv2d(256, 512, kernel_size=(3, 3), stride=(1, 1), padding=(1, 1))\n",
            "    (1): BatchNorm2d(512, eps=1e-05, momentum=0.1, affine=True, track_running_stats=True)\n",
            "    (2): ReLU(inplace=True)\n",
            "    (3): Conv2d(512, 512, kernel_size=(3, 3), stride=(1, 1), padding=(1, 1))\n",
            "    (4): BatchNorm2d(512, eps=1e-05, momentum=0.1, affine=True, track_running_stats=True)\n",
            "    (5): ReLU(inplace=True)\n",
            "  )\n",
            "  (bottleneck): Sequential(\n",
            "    (0): Conv2d(512, 1024, kernel_size=(3, 3), stride=(1, 1), padding=(1, 1))\n",
            "    (1): BatchNorm2d(1024, eps=1e-05, momentum=0.1, affine=True, track_running_stats=True)\n",
            "    (2): ReLU(inplace=True)\n",
            "    (3): Conv2d(1024, 1024, kernel_size=(3, 3), stride=(1, 1), padding=(1, 1))\n",
            "    (4): BatchNorm2d(1024, eps=1e-05, momentum=0.1, affine=True, track_running_stats=True)\n",
            "    (5): ReLU(inplace=True)\n",
            "  )\n",
            "  (upconv4): ConvTranspose2d(1024, 512, kernel_size=(2, 2), stride=(2, 2))\n",
            "  (att4): AttentionGate(\n",
            "    (W_g): Sequential(\n",
            "      (0): Conv2d(512, 256, kernel_size=(1, 1), stride=(1, 1))\n",
            "      (1): BatchNorm2d(256, eps=1e-05, momentum=0.1, affine=True, track_running_stats=True)\n",
            "    )\n",
            "    (W_x): Sequential(\n",
            "      (0): Conv2d(512, 256, kernel_size=(1, 1), stride=(1, 1))\n",
            "      (1): BatchNorm2d(256, eps=1e-05, momentum=0.1, affine=True, track_running_stats=True)\n",
            "    )\n",
            "    (psi): Sequential(\n",
            "      (0): Conv2d(256, 1, kernel_size=(1, 1), stride=(1, 1))\n",
            "      (1): BatchNorm2d(1, eps=1e-05, momentum=0.1, affine=True, track_running_stats=True)\n",
            "      (2): Sigmoid()\n",
            "    )\n",
            "    (relu): ReLU(inplace=True)\n",
            "  )\n",
            "  (decoder4): Sequential(\n",
            "    (0): Conv2d(1024, 512, kernel_size=(3, 3), stride=(1, 1), padding=(1, 1))\n",
            "    (1): BatchNorm2d(512, eps=1e-05, momentum=0.1, affine=True, track_running_stats=True)\n",
            "    (2): ReLU(inplace=True)\n",
            "    (3): Conv2d(512, 512, kernel_size=(3, 3), stride=(1, 1), padding=(1, 1))\n",
            "    (4): BatchNorm2d(512, eps=1e-05, momentum=0.1, affine=True, track_running_stats=True)\n",
            "    (5): ReLU(inplace=True)\n",
            "  )\n",
            "  (upconv3): ConvTranspose2d(512, 256, kernel_size=(2, 2), stride=(2, 2))\n",
            "  (att3): AttentionGate(\n",
            "    (W_g): Sequential(\n",
            "      (0): Conv2d(256, 128, kernel_size=(1, 1), stride=(1, 1))\n",
            "      (1): BatchNorm2d(128, eps=1e-05, momentum=0.1, affine=True, track_running_stats=True)\n",
            "    )\n",
            "    (W_x): Sequential(\n",
            "      (0): Conv2d(256, 128, kernel_size=(1, 1), stride=(1, 1))\n",
            "      (1): BatchNorm2d(128, eps=1e-05, momentum=0.1, affine=True, track_running_stats=True)\n",
            "    )\n",
            "    (psi): Sequential(\n",
            "      (0): Conv2d(128, 1, kernel_size=(1, 1), stride=(1, 1))\n",
            "      (1): BatchNorm2d(1, eps=1e-05, momentum=0.1, affine=True, track_running_stats=True)\n",
            "      (2): Sigmoid()\n",
            "    )\n",
            "    (relu): ReLU(inplace=True)\n",
            "  )\n",
            "  (decoder3): Sequential(\n",
            "    (0): Conv2d(512, 256, kernel_size=(3, 3), stride=(1, 1), padding=(1, 1))\n",
            "    (1): BatchNorm2d(256, eps=1e-05, momentum=0.1, affine=True, track_running_stats=True)\n",
            "    (2): ReLU(inplace=True)\n",
            "    (3): Conv2d(256, 256, kernel_size=(3, 3), stride=(1, 1), padding=(1, 1))\n",
            "    (4): BatchNorm2d(256, eps=1e-05, momentum=0.1, affine=True, track_running_stats=True)\n",
            "    (5): ReLU(inplace=True)\n",
            "  )\n",
            "  (upconv2): ConvTranspose2d(256, 128, kernel_size=(2, 2), stride=(2, 2))\n",
            "  (att2): AttentionGate(\n",
            "    (W_g): Sequential(\n",
            "      (0): Conv2d(128, 64, kernel_size=(1, 1), stride=(1, 1))\n",
            "      (1): BatchNorm2d(64, eps=1e-05, momentum=0.1, affine=True, track_running_stats=True)\n",
            "    )\n",
            "    (W_x): Sequential(\n",
            "      (0): Conv2d(128, 64, kernel_size=(1, 1), stride=(1, 1))\n",
            "      (1): BatchNorm2d(64, eps=1e-05, momentum=0.1, affine=True, track_running_stats=True)\n",
            "    )\n",
            "    (psi): Sequential(\n",
            "      (0): Conv2d(64, 1, kernel_size=(1, 1), stride=(1, 1))\n",
            "      (1): BatchNorm2d(1, eps=1e-05, momentum=0.1, affine=True, track_running_stats=True)\n",
            "      (2): Sigmoid()\n",
            "    )\n",
            "    (relu): ReLU(inplace=True)\n",
            "  )\n",
            "  (decoder2): Sequential(\n",
            "    (0): Conv2d(256, 128, kernel_size=(3, 3), stride=(1, 1), padding=(1, 1))\n",
            "    (1): BatchNorm2d(128, eps=1e-05, momentum=0.1, affine=True, track_running_stats=True)\n",
            "    (2): ReLU(inplace=True)\n",
            "    (3): Conv2d(128, 128, kernel_size=(3, 3), stride=(1, 1), padding=(1, 1))\n",
            "    (4): BatchNorm2d(128, eps=1e-05, momentum=0.1, affine=True, track_running_stats=True)\n",
            "    (5): ReLU(inplace=True)\n",
            "  )\n",
            "  (upconv1): ConvTranspose2d(128, 64, kernel_size=(2, 2), stride=(2, 2))\n",
            "  (decoder1): Sequential(\n",
            "    (0): Conv2d(128, 64, kernel_size=(3, 3), stride=(1, 1), padding=(1, 1))\n",
            "    (1): BatchNorm2d(64, eps=1e-05, momentum=0.1, affine=True, track_running_stats=True)\n",
            "    (2): ReLU(inplace=True)\n",
            "    (3): Conv2d(64, 64, kernel_size=(3, 3), stride=(1, 1), padding=(1, 1))\n",
            "    (4): BatchNorm2d(64, eps=1e-05, momentum=0.1, affine=True, track_running_stats=True)\n",
            "    (5): ReLU(inplace=True)\n",
            "  )\n",
            "  (segmentation_head): Conv2d(64, 4, kernel_size=(1, 1), stride=(1, 1))\n",
            "  (classification_head): Linear(in_features=102400, out_features=4, bias=True)\n",
            ")\n"
          ]
        }
      ],
      "source": [
        "# Define the number of input channels and output classes\n",
        "n_channels = 3  # RGB satellite images\n",
        "n_segmentation_classes = 4  # Num of deforestation driver classes\n",
        "n_classification_classes = 4  # Num of deforestation driver classes\n",
        "\n",
        "# Initialize your Attention U-Net model\n",
        "model = AttentionUNet(n_channels=n_channels, n_segmentation_classes=n_segmentation_classes, n_classification_classes=n_classification_classes)\n",
        "model = model.to(device)\n",
        "\n",
        "# Define the loss functions and optimizer\n",
        "criterion_classifier = nn.CrossEntropyLoss()\n",
        "criterion_segmentation = nn.CrossEntropyLoss()\n",
        "optimizer = optim.Adam(model.parameters(), lr=1e-4)\n",
        "\n",
        "print(model)"
      ]
    },
    {
      "cell_type": "markdown",
      "metadata": {
        "id": "pFqF9XSGpghr"
      },
      "source": [
        "### Sanity Check to test if data fits in the model"
      ]
    },
    {
      "cell_type": "code",
      "execution_count": 43,
      "metadata": {
        "colab": {
          "base_uri": "https://localhost:8080/"
        },
        "id": "sfNSpvb3XQNl",
        "outputId": "389a572a-1447-47c0-89e3-ce19237708a9"
      },
      "outputs": [
        {
          "name": "stdout",
          "output_type": "stream",
          "text": [
            "Classification Output Shape: torch.Size([16, 4])\n",
            "Segmentation Output Shape: torch.Size([16, 4, 160, 160])\n"
          ]
        }
      ],
      "source": [
        "# Sample test with random input\n",
        "sample_images = torch.randn(16, 3, 160, 160)  # Replace with your actual input tensor\n",
        "model.eval()\n",
        "with torch.no_grad():\n",
        "    classification_output, segmentation_output = model(sample_images)\n",
        "    print(\"Classification Output Shape:\", classification_output.shape)  # Should be [16, n_classification_classes]\n",
        "    print(\"Segmentation Output Shape:\", segmentation_output.shape)      # Should be [16, n_segmentation_classes, 160, 160]\n"
      ]
    },
    {
      "cell_type": "markdown",
      "metadata": {
        "id": "X3F7Way-pjbx"
      },
      "source": [
        "### Training Loop\n",
        "### TODO: Might need to add save best epoch, lr scheduler, early stopping etc."
      ]
    },
    {
      "cell_type": "code",
      "execution_count": 48,
      "metadata": {
        "colab": {
          "base_uri": "https://localhost:8080/"
        },
        "id": "lxZXbz4c1XQN",
        "outputId": "e0659042-b55a-47c1-c266-972c740243fb"
      },
      "outputs": [
        {
          "name": "stderr",
          "output_type": "stream",
          "text": [
            "Epoch [1/2]: 100%|██████████| 101/101 [02:07<00:00,  1.26s/it, loss=2.28]\n"
          ]
        },
        {
          "name": "stdout",
          "output_type": "stream",
          "text": [
            "\n",
            "Epoch [1/2]\n",
            "Train Loss: 1.8832, Train Accuracy: 0.5588, Train F1 Score: 0.5427\n",
            "Validation Loss: 1.9176, Validation Accuracy: 0.6512, Validation F1 Score: 0.6368\n"
          ]
        },
        {
          "name": "stderr",
          "output_type": "stream",
          "text": [
            "Epoch [2/2]: 100%|██████████| 101/101 [02:04<00:00,  1.24s/it, loss=1.52]\n"
          ]
        },
        {
          "name": "stdout",
          "output_type": "stream",
          "text": [
            "\n",
            "Epoch [2/2]\n",
            "Train Loss: 1.6103, Train Accuracy: 0.6108, Train F1 Score: 0.5992\n",
            "Validation Loss: 1.8083, Validation Accuracy: 0.6089, Validation F1 Score: 0.5973\n"
          ]
        }
      ],
      "source": [
        "from tqdm import tqdm\n",
        "import torch\n",
        "import torch.nn.functional as F\n",
        "from sklearn.metrics import f1_score, accuracy_score\n",
        "import matplotlib.pyplot as plt\n",
        "\n",
        "# Initialize lists for metrics\n",
        "train_losses = []\n",
        "train_accuracies = []\n",
        "val_losses = []\n",
        "val_accuracies = []\n",
        "\n",
        "# Training loop\n",
        "num_epochs = 2\n",
        "for epoch in range(num_epochs):\n",
        "    # Training Phase\n",
        "    model.train()  # Set model to training mode\n",
        "    running_loss = 0.0\n",
        "    all_labels = []\n",
        "    all_preds = []\n",
        "\n",
        "    # Wrap the training data loader with tqdm\n",
        "    train_loop = tqdm(trainloader, total=len(trainloader), desc=f\"Epoch [{epoch+1}/{num_epochs}]\", leave=True)\n",
        "\n",
        "    for image, seg, merged_label in train_loop:\n",
        "        images = image.to(device)\n",
        "        segmentation_masks = F.one_hot(seg.long(), num_classes=n_segmentation_classes).permute(0, 3, 1, 2).float().to(device)\n",
        "        segmentation_targets = seg.long().to(device)  # Targets should be class indices (LongTensor)\n",
        "        labels = merged_label.to(device)\n",
        "\n",
        "        # Zero the gradients\n",
        "        optimizer.zero_grad()\n",
        "\n",
        "        # Forward pass: get outputs from the model\n",
        "        classification_output, segmentation_output = model(images)\n",
        "\n",
        "        # Compute losses\n",
        "        loss_classifier = criterion_classifier(classification_output, labels)  # Classification loss\n",
        "        loss_segmentation = criterion_segmentation(segmentation_output, segmentation_targets)  # Segmentation loss\n",
        "\n",
        "        # Combine losses\n",
        "        loss = loss_classifier + loss_segmentation\n",
        "\n",
        "        # Backward pass and optimization\n",
        "        loss.backward()\n",
        "        optimizer.step()\n",
        "\n",
        "        # Update running loss\n",
        "        running_loss += loss.item()\n",
        "\n",
        "        # Collect predictions for metrics\n",
        "        preds = torch.argmax(classification_output, dim=1)\n",
        "        all_labels.extend(labels.cpu().numpy())\n",
        "        all_preds.extend(preds.cpu().numpy())\n",
        "\n",
        "        # Update tqdm progress bar\n",
        "        train_loop.set_postfix(loss=loss.item())\n",
        "\n",
        "    # Calculate training metrics\n",
        "    train_loss = running_loss / len(trainloader)\n",
        "    train_accuracy = accuracy_score(all_labels, all_preds)\n",
        "    train_f1 = f1_score(all_labels, all_preds, average='weighted')\n",
        "\n",
        "    # Store metrics\n",
        "    train_losses.append(train_loss)\n",
        "    train_accuracies.append(train_accuracy)\n",
        "\n",
        "    # Print training metrics after the epoch\n",
        "    print(f'\\nEpoch [{epoch+1}/{num_epochs}]')\n",
        "    print(f'Train Loss: {train_loss:.4f}, Train Accuracy: {train_accuracy:.4f}, Train F1 Score: {train_f1:.4f}')\n",
        "\n",
        "    # Validation Phase\n",
        "    model.eval()  # Set model to evaluation mode\n",
        "    running_val_loss = 0.0\n",
        "    val_all_labels = []\n",
        "    val_all_preds = []\n",
        "\n",
        "    with torch.no_grad():\n",
        "        for image, seg, merged_label in valloader:\n",
        "            images = image.to(device)\n",
        "            segmentation_masks = F.one_hot(seg.long(), num_classes=n_segmentation_classes).permute(0, 3, 1, 2).float().to(device)\n",
        "            segmentation_targets = seg.long().to(device)  # Targets should be class indices (LongTensor)\n",
        "            labels = merged_label.to(device)\n",
        "\n",
        "            # Forward pass\n",
        "            classification_output, segmentation_output = model(images)\n",
        "\n",
        "            # Compute losses\n",
        "            loss_classifier = criterion_classifier(classification_output, labels)\n",
        "            loss_segmentation = criterion_segmentation(segmentation_output, segmentation_targets)\n",
        "            total_loss = loss_classifier + loss_segmentation\n",
        "\n",
        "            # Update validation loss\n",
        "            running_val_loss += total_loss.item()\n",
        "\n",
        "            # Collect predictions for metrics\n",
        "            preds = torch.argmax(classification_output, dim=1)\n",
        "            val_all_labels.extend(labels.cpu().numpy())\n",
        "            val_all_preds.extend(preds.cpu().numpy())\n",
        "\n",
        "    # Calculate validation metrics\n",
        "    val_loss = running_val_loss / len(valloader)\n",
        "    val_accuracy = accuracy_score(val_all_labels, val_all_preds)\n",
        "    val_f1 = f1_score(val_all_labels, val_all_preds, average='weighted')\n",
        "\n",
        "    # Store metrics\n",
        "    val_losses.append(val_loss)\n",
        "    val_accuracies.append(val_accuracy)\n",
        "\n",
        "    # Print validation metrics after the epoch\n",
        "    print(f'Validation Loss: {val_loss:.4f}, Validation Accuracy: {val_accuracy:.4f}, Validation F1 Score: {val_f1:.4f}')\n",
        "\n"
      ]
    },
    {
      "cell_type": "code",
      "execution_count": 49,
      "metadata": {
        "colab": {
          "base_uri": "https://localhost:8080/",
          "height": 507
        },
        "id": "2XbDJhCz3juk",
        "outputId": "dd86a920-6d94-48e9-98dd-203624d931e3"
      },
      "outputs": [
        {
          "data": {
            "image/png": "[encoded data removed]",
            "text/plain": [
              "<Figure size 1200x500 with 2 Axes>"
            ]
          },
          "metadata": {},
          "output_type": "display_data"
        }
      ],
      "source": [
        "# Plotting Losses and Accuracies\n",
        "plt.figure(figsize=(12, 5))\n",
        "\n",
        "plt.subplot(1, 2, 1)\n",
        "plt.plot(train_losses, label='Training Loss', marker='o')\n",
        "plt.plot(val_losses, label='Validation Loss', marker='o')\n",
        "plt.title('Losses Over Epochs')\n",
        "plt.xlabel('Epochs')\n",
        "plt.ylabel('Loss')\n",
        "plt.legend()\n",
        "plt.grid()\n",
        "\n",
        "plt.subplot(1, 2, 2)\n",
        "plt.plot(train_accuracies, label='Training Accuracy', marker='o')\n",
        "plt.plot(val_accuracies, label='Validation Accuracy', marker='o')\n",
        "plt.title('Accuracies Over Epochs')\n",
        "plt.xlabel('Epochs')\n",
        "plt.ylabel('Accuracy')\n",
        "plt.legend()\n",
        "plt.grid()\n",
        "\n",
        "plt.tight_layout()\n",
        "plt.show()\n"
      ]
    },
    {
      "cell_type": "markdown",
      "metadata": {
        "id": "7-3AbbKz5Lr1"
      },
      "source": [
        "# Evaluate Performance on Test Data"
      ]
    },
    {
      "cell_type": "code",
      "execution_count": 50,
      "metadata": {
        "colab": {
          "base_uri": "https://localhost:8080/"
        },
        "id": "4vUb-_mf5OY0",
        "outputId": "f28584e8-3623-4357-cf51-3c0cbf863109"
      },
      "outputs": [
        {
          "name": "stdout",
          "output_type": "stream",
          "text": [
            "Test Loss: 2.1717, Test Accuracy: 0.5314, Test F1 Score: 0.5121\n"
          ]
        }
      ],
      "source": [
        "# Initialize lists for test metrics\n",
        "test_losses = []\n",
        "test_accuracies = []\n",
        "\n",
        "# Testing Phase\n",
        "model.eval()  # Set model to evaluation mode\n",
        "running_test_loss = 0.0\n",
        "test_all_labels = []\n",
        "test_all_preds = []\n",
        "\n",
        "with torch.no_grad():\n",
        "    for image, seg, merged_label in testloader:  # Assuming you have a test data loader\n",
        "        images = image.to(device)\n",
        "        segmentation_masks = F.one_hot(seg.long(), num_classes=n_segmentation_classes).permute(0, 3, 1, 2).float().to(device)\n",
        "        segmentation_targets = seg.long().to(device)  # Targets should be class indices (LongTensor)\n",
        "        labels = merged_label.to(device)\n",
        "\n",
        "        # Forward pass\n",
        "        classification_output, segmentation_output = model(images)\n",
        "\n",
        "        # Compute losses\n",
        "        loss_classifier = criterion_classifier(classification_output, labels)\n",
        "        loss_segmentation = criterion_segmentation(segmentation_output, segmentation_targets)\n",
        "        total_test_loss = loss_classifier + loss_segmentation\n",
        "\n",
        "        # Update test loss\n",
        "        running_test_loss += total_test_loss.item()\n",
        "\n",
        "        # Collect predictions for metrics\n",
        "        preds = torch.argmax(classification_output, dim=1)\n",
        "        test_all_labels.extend(labels.cpu().numpy())\n",
        "        test_all_preds.extend(preds.cpu().numpy())\n",
        "\n",
        "# Calculate test metrics\n",
        "test_loss = running_test_loss / len(testloader)\n",
        "test_accuracy = accuracy_score(test_all_labels, test_all_preds)\n",
        "test_f1 = f1_score(test_all_labels, test_all_preds, average='weighted')\n",
        "\n",
        "# Print test metrics\n",
        "print(f'Test Loss: {test_loss:.4f}, Test Accuracy: {test_accuracy:.4f}, Test F1 Score: {test_f1:.4f}')\n",
        "\n",
        "# Store metrics for plotting\n",
        "test_losses.append(test_loss)\n",
        "test_accuracies.append(test_accuracy)"
      ]
    }
  ],
  "metadata": {
    "accelerator": "TPU",
    "colab": {
      "gpuType": "V28",
      "provenance": [],
      "toc_visible": true
    },
    "kernelspec": {
      "display_name": "Python 3",
      "name": "python3"
    },
    "language_info": {
      "name": "python"
    }
  },
  "nbformat": 4,
  "nbformat_minor": 0
}
